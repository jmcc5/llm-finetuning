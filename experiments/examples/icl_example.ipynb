{
 "cells": [
  {
   "cell_type": "markdown",
   "metadata": {},
   "source": [
    "# Test"
   ]
  },
  {
   "cell_type": "code",
   "execution_count": 1,
   "metadata": {},
   "outputs": [],
   "source": [
    "%load_ext autoreload\n",
    "%autoreload 2"
   ]
  },
  {
   "cell_type": "markdown",
   "metadata": {},
   "source": [
    "### Import datasets\n",
    "\n",
    "Import datasets using functions from src/data/data.py. Datasets are downloaded from huggingface and stored in /data. Once downloaded, datasets are loaded locally.\n",
    "\n",
    "Run ```pip install -e .``` if module importing isn't working."
   ]
  },
  {
   "cell_type": "code",
   "execution_count": 2,
   "metadata": {},
   "outputs": [
    {
     "name": "stdout",
     "output_type": "stream",
     "text": [
      "In domain:\n",
      "Dataset({\n",
      "    features: ['premise', 'hypothesis', 'label', 'idx'],\n",
      "    num_rows: 261802\n",
      "})\n",
      "{'premise': 'One of our number will carry out your instructions minutely.', 'hypothesis': 'A member of my team will execute your orders with immense precision.', 'label': 0, 'idx': 2}\n",
      "Out of domain:\n",
      "Dataset({\n",
      "    features: ['premise', 'hypothesis', 'label', 'parse_premise', 'parse_hypothesis', 'binary_parse_premise', 'binary_parse_hypothesis', 'heuristic', 'subcase', 'template'],\n",
      "    num_rows: 10000\n",
      "})\n",
      "{'premise': 'The president avoided the athlete .', 'hypothesis': 'The athlete avoided the president .', 'label': 1, 'parse_premise': '(ROOT (S (NP (DT The) (NN president)) (VP (VBD avoided) (NP (DT the) (NN athlete))) (. .)))', 'parse_hypothesis': '(ROOT (S (NP (DT The) (NN athlete)) (VP (VBD avoided) (NP (DT the) (NN president))) (. .)))', 'binary_parse_premise': '( ( The president ) ( ( avoided ( the athlete ) ) . ) )', 'binary_parse_hypothesis': '( ( The athlete ) ( ( avoided ( the president ) ) . ) )', 'heuristic': 'lexical_overlap', 'subcase': 'ln_subject/object_swap', 'template': 'temp1'}\n"
     ]
    }
   ],
   "source": [
    "from src.data.data import get_in_domain, get_out_domain\n",
    "\n",
    "in_domain_train, in_domain_test = get_in_domain()\n",
    "out_domain = get_out_domain()\n",
    "\n",
    "print(f\"In domain:\\n{in_domain_train}\")\n",
    "print(in_domain_train[1])\n",
    "\n",
    "print(f\"Out of domain:\\n{out_domain}\")\n",
    "print(out_domain[10])"
   ]
  },
  {
   "cell_type": "markdown",
   "metadata": {},
   "source": [
    "### Import models\n",
    "\n",
    "Import models using methods from src/models/opt.py. Models are downloaded from huggingface and stored in /models/pretrained. Once downloaded, models are loaded locally."
   ]
  },
  {
   "cell_type": "code",
   "execution_count": 3,
   "metadata": {},
   "outputs": [
    {
     "name": "stdout",
     "output_type": "stream",
     "text": [
      "Device: cuda\n",
      "Memory Allocated: 0.00 GB\n",
      "Memory Reserved: 0.00 GB\n",
      "Device: cuda\n",
      "Memory Allocated: 0.47 GB\n",
      "Memory Reserved: 0.52 GB\n",
      "Device: cuda\n",
      "Memory Allocated: 1.70 GB\n",
      "Memory Reserved: 1.74 GB\n"
     ]
    }
   ],
   "source": [
    "from src.model.model import get_model\n",
    "from src.utils import print_gpu_memory_usage\n",
    "\n",
    "# Get SequenceClassification models\n",
    "# model_opt125, tokenizer_opt125 = get_model(model_name='opt-125m', model_type='SequenceClassification', pretrained=True)\n",
    "# model_opt350, tokenizer_opt350 = get_model(model_name='opt-350m', model_type='SequenceClassification', pretrained=True)\n",
    "\n",
    "# Get CasualLM models\n",
    "print_gpu_memory_usage()\n",
    "model_opt125_causal, tokenizer_opt125_causal = get_model(model_name='opt-125m', model_type='CausalLM', pretrained=True)\n",
    "print_gpu_memory_usage()\n",
    "model_opt350_causal, tokenizer_opt350_causal = get_model(model_name='opt-350m', model_type='CausalLM', pretrained=True)\n",
    "print_gpu_memory_usage()"
   ]
  },
  {
   "cell_type": "markdown",
   "metadata": {},
   "source": [
    "### Generate method\n",
    "The generate method is a low level way to generate text using CausalLM models. We constrain the model to only respond with Yes or No using a DisjuntiveConstraint."
   ]
  },
  {
   "cell_type": "code",
   "execution_count": 4,
   "metadata": {},
   "outputs": [
    {
     "name": "stderr",
     "output_type": "stream",
     "text": [
      "A decoder-only architecture is being used, but right-padding was detected! For correct generation results, please set `padding_side='left'` when initializing the tokenizer.\n"
     ]
    },
    {
     "name": "stdout",
     "output_type": "stream",
     "text": [
      "Minimal pattern applied:\n",
      "{'premise': 'As he emerged, Boris remarked, glancing up at the clock: \"You are early.', 'hypothesis': \"When he was appearing, Boris looked at the clock and said, 'You are early.'\", 'label': 0, 'idx': 1236, 'text': 'As he emerged, Boris remarked, glancing up at the clock: \"You are early. When he was appearing, Boris looked at the clock and said, \\'You are early.\\'?'}\n",
      "Tokenized:\n",
      "{'premise': 'As he emerged, Boris remarked, glancing up at the clock: \"You are early.', 'hypothesis': \"When he was appearing, Boris looked at the clock and said, 'You are early.'\", 'label': 0, 'idx': 1236, 'text': 'As he emerged, Boris remarked, glancing up at the clock: \"You are early. When he was appearing, Boris looked at the clock and said, \\'You are early.\\'?', 'input_ids': [2, 1620, 37, 4373, 6, 14335, 18767, 6, 5921, 7710, 62, 23, 5, 6700, 35, 22, 1185, 32, 419, 4, 520, 37, 21, 8165, 6, 14335, 1415, 23, 5, 6700, 8, 26, 6, 128, 1185, 32, 419, 955, 116, 1, 1, 1, 1, 1, 1, 1, 1, 1, 1, 1, 1, 1, 1, 1, 1, 1, 1, 1, 1, 1, 1, 1, 1, 1, 1, 1, 1, 1, 1, 1, 1, 1, 1, 1, 1, 1, 1, 1, 1, 1, 1, 1, 1, 1, 1, 1, 1, 1, 1, 1, 1, 1, 1, 1, 1, 1, 1, 1, 1, 1, 1, 1, 1, 1, 1, 1, 1, 1, 1, 1, 1, 1, 1, 1, 1, 1, 1, 1, 1, 1, 1, 1, 1, 1, 1, 1, 1, 1, 1, 1, 1, 1, 1, 1, 1, 1, 1, 1, 1, 1, 1, 1, 1, 1, 1, 1, 1, 1, 1, 1, 1, 1, 1, 1, 1, 1, 1, 1, 1, 1, 1, 1, 1, 1, 1, 1, 1, 1, 1, 1, 1, 1, 1, 1, 1, 1, 1, 1, 1, 1, 1, 1, 1, 1, 1, 1, 1, 1, 1, 1, 1, 1, 1, 1, 1, 1, 1, 1, 1, 1, 1, 1, 1, 1, 1, 1, 1, 1, 1, 1, 1, 1, 1, 1, 1, 1, 1, 1, 1, 1, 1, 1, 1, 1, 1, 1, 1, 1, 1, 1, 1, 1, 1, 1, 1, 1, 1, 1, 1, 1, 1, 1, 1, 1, 1, 1, 1, 1, 1, 1, 1, 1, 1, 1, 1, 1, 1, 1, 1, 1, 1, 1, 1, 1, 1, 1, 1, 1, 1, 1, 1, 1, 1, 1, 1, 1, 1, 1, 1, 1, 1, 1, 1, 1, 1, 1, 1, 1, 1, 1, 1, 1, 1, 1, 1, 1, 1, 1, 1, 1, 1, 1, 1, 1, 1, 1, 1, 1, 1, 1, 1, 1, 1, 1, 1, 1, 1, 1, 1, 1, 1, 1, 1, 1, 1, 1, 1, 1, 1, 1, 1, 1, 1, 1, 1, 1, 1, 1, 1, 1, 1, 1, 1, 1, 1, 1, 1, 1, 1, 1, 1, 1, 1, 1, 1, 1, 1, 1, 1, 1, 1, 1, 1, 1, 1, 1, 1, 1, 1, 1, 1, 1, 1, 1, 1, 1, 1, 1, 1, 1, 1, 1, 1, 1, 1, 1, 1, 1, 1, 1, 1, 1, 1, 1, 1, 1, 1, 1, 1, 1, 1, 1, 1, 1, 1, 1, 1, 1, 1, 1, 1, 1, 1, 1, 1, 1, 1, 1, 1, 1, 1, 1, 1, 1, 1, 1, 1, 1, 1, 1, 1, 1, 1, 1, 1, 1, 1, 1, 1, 1, 1, 1, 1, 1, 1, 1, 1, 1, 1, 1, 1, 1, 1, 1, 1, 1, 1, 1, 1, 1, 1, 1, 1, 1, 1, 1, 1, 1, 1, 1, 1, 1, 1, 1, 1, 1, 1, 1, 1, 1, 1, 1, 1, 1, 1, 1, 1, 1, 1, 1, 1, 1, 1, 1, 1, 1, 1, 1, 1, 1, 1, 1, 1, 1, 1, 1, 1, 1, 1, 1, 1, 1], 'attention_mask': [1, 1, 1, 1, 1, 1, 1, 1, 1, 1, 1, 1, 1, 1, 1, 1, 1, 1, 1, 1, 1, 1, 1, 1, 1, 1, 1, 1, 1, 1, 1, 1, 1, 1, 1, 1, 1, 1, 1, 0, 0, 0, 0, 0, 0, 0, 0, 0, 0, 0, 0, 0, 0, 0, 0, 0, 0, 0, 0, 0, 0, 0, 0, 0, 0, 0, 0, 0, 0, 0, 0, 0, 0, 0, 0, 0, 0, 0, 0, 0, 0, 0, 0, 0, 0, 0, 0, 0, 0, 0, 0, 0, 0, 0, 0, 0, 0, 0, 0, 0, 0, 0, 0, 0, 0, 0, 0, 0, 0, 0, 0, 0, 0, 0, 0, 0, 0, 0, 0, 0, 0, 0, 0, 0, 0, 0, 0, 0, 0, 0, 0, 0, 0, 0, 0, 0, 0, 0, 0, 0, 0, 0, 0, 0, 0, 0, 0, 0, 0, 0, 0, 0, 0, 0, 0, 0, 0, 0, 0, 0, 0, 0, 0, 0, 0, 0, 0, 0, 0, 0, 0, 0, 0, 0, 0, 0, 0, 0, 0, 0, 0, 0, 0, 0, 0, 0, 0, 0, 0, 0, 0, 0, 0, 0, 0, 0, 0, 0, 0, 0, 0, 0, 0, 0, 0, 0, 0, 0, 0, 0, 0, 0, 0, 0, 0, 0, 0, 0, 0, 0, 0, 0, 0, 0, 0, 0, 0, 0, 0, 0, 0, 0, 0, 0, 0, 0, 0, 0, 0, 0, 0, 0, 0, 0, 0, 0, 0, 0, 0, 0, 0, 0, 0, 0, 0, 0, 0, 0, 0, 0, 0, 0, 0, 0, 0, 0, 0, 0, 0, 0, 0, 0, 0, 0, 0, 0, 0, 0, 0, 0, 0, 0, 0, 0, 0, 0, 0, 0, 0, 0, 0, 0, 0, 0, 0, 0, 0, 0, 0, 0, 0, 0, 0, 0, 0, 0, 0, 0, 0, 0, 0, 0, 0, 0, 0, 0, 0, 0, 0, 0, 0, 0, 0, 0, 0, 0, 0, 0, 0, 0, 0, 0, 0, 0, 0, 0, 0, 0, 0, 0, 0, 0, 0, 0, 0, 0, 0, 0, 0, 0, 0, 0, 0, 0, 0, 0, 0, 0, 0, 0, 0, 0, 0, 0, 0, 0, 0, 0, 0, 0, 0, 0, 0, 0, 0, 0, 0, 0, 0, 0, 0, 0, 0, 0, 0, 0, 0, 0, 0, 0, 0, 0, 0, 0, 0, 0, 0, 0, 0, 0, 0, 0, 0, 0, 0, 0, 0, 0, 0, 0, 0, 0, 0, 0, 0, 0, 0, 0, 0, 0, 0, 0, 0, 0, 0, 0, 0, 0, 0, 0, 0, 0, 0, 0, 0, 0, 0, 0, 0, 0, 0, 0, 0, 0, 0, 0, 0, 0, 0, 0, 0, 0, 0, 0, 0, 0, 0, 0, 0, 0, 0, 0, 0, 0, 0, 0, 0, 0, 0, 0, 0, 0, 0, 0, 0, 0, 0, 0, 0, 0, 0, 0, 0, 0, 0, 0, 0, 0, 0, 0, 0, 0, 0, 0, 0, 0, 0, 0, 0, 0, 0, 0, 0, 0, 0, 0, 0, 0, 0, 0, 0, 0]}\n",
      "Generated text:\n",
      "['No']\n",
      "Actual label: [0]\n"
     ]
    }
   ],
   "source": [
    "import torch\n",
    "import numpy as np\n",
    "from transformers.generation.beam_constraints import DisjunctiveConstraint\n",
    "from src.finetuners.utils import apply_minimal_pattern, tokenize_dataset\n",
    "\n",
    "random_idx = np.random.choice(range(len(in_domain_test)), 1)\n",
    "eval_dataset_in = in_domain_test.select(random_idx)\n",
    "\n",
    "# Verbalize and tokenize\n",
    "# tokenizer_opt125_causal.padding_side = 'left'\n",
    "eval_dataset_in = apply_minimal_pattern(eval_dataset_in)\n",
    "tokenized_eval_dataset_in = tokenize_dataset(eval_dataset_in, tokenizer_opt125_causal, max_length=512)\n",
    "\n",
    "print(f\"Minimal pattern applied:\\n{eval_dataset_in[0]}\")\n",
    "print(f\"Tokenized:\\n{tokenized_eval_dataset_in[0]}\")\n",
    "\n",
    "input_ids = tokenized_eval_dataset_in['input_ids'][0]\n",
    "input_ids = torch.tensor(input_ids, device=model_opt125_causal.device).unsqueeze(0)    # Convert to PyTorch tensor\n",
    "\n",
    "# Yes/No constraint\n",
    "yes_token_id = tokenizer_opt125_causal.encode(\"Yes\", add_special_tokens=False)\n",
    "no_token_id = tokenizer_opt125_causal.encode(\"No\", add_special_tokens=False)\n",
    "force_words_ids = [yes_token_id, no_token_id]\n",
    "constraint = DisjunctiveConstraint(nested_token_ids=force_words_ids)\n",
    "\n",
    "# Generate model output\n",
    "gen_tokens = model_opt125_causal.generate(\n",
    "    input_ids,\n",
    "    max_new_tokens=1,\n",
    "    # temperature=0.5,\n",
    "    constraints=[constraint],\n",
    "    num_beams=2\n",
    ")\n",
    "\n",
    "# Decode the generated tokens\n",
    "generated_text = tokenizer_opt125_causal.batch_decode(gen_tokens[:, input_ids.shape[1]:], skip_special_tokens=True, clean_up_tokenization_spaces=False)\n",
    "\n",
    "print(f\"Generated text:\\n{generated_text}\")\n",
    "print(f\"Actual label: {eval_dataset_in['label']}\")"
   ]
  },
  {
   "cell_type": "markdown",
   "metadata": {},
   "source": [
    "### In-Context Learning\n",
    "We use Seq2SeqTrainer to evaluate our in and out of domain sets with context"
   ]
  },
  {
   "cell_type": "code",
   "execution_count": 5,
   "metadata": {},
   "outputs": [
    {
     "data": {
      "application/vnd.jupyter.widget-view+json": {
       "model_id": "94a39384dc6f464cb47184961e405203",
       "version_major": 2,
       "version_minor": 0
      },
      "text/plain": [
       "  0%|          | 0/1 [00:00<?, ?it/s]"
      ]
     },
     "metadata": {},
     "output_type": "display_data"
    },
    {
     "name": "stdout",
     "output_type": "stream",
     "text": [
      "In domain eval metrics:\n",
      "{'loss': 0.9082330241799355, 'accuracy': 0.25, 'runtime': 0.7421000003814697, 'samples_per_second': 10.780218293879091}\n"
     ]
    },
    {
     "data": {
      "application/vnd.jupyter.widget-view+json": {
       "model_id": "ced67c1e3de8438f9e00bb5b4d6056c5",
       "version_major": 2,
       "version_minor": 0
      },
      "text/plain": [
       "  0%|          | 0/1 [00:00<?, ?it/s]"
      ]
     },
     "metadata": {},
     "output_type": "display_data"
    },
    {
     "name": "stdout",
     "output_type": "stream",
     "text": [
      "Out of domain eval metrics:\n",
      "{'loss': 0.5332330353558064, 'accuracy': 0.875, 'runtime': 0.6362981796264648, 'samples_per_second': 12.572721808973826}\n",
      "Metrics:\n",
      "{\n",
      "    \"eval_in_loss\": 0.9082330241799355,\n",
      "    \"eval_in_accuracy\": 0.25,\n",
      "    \"eval_in_runtime\": 0.7421000003814697,\n",
      "    \"eval_in_samples_per_second\": 10.780218293879091,\n",
      "    \"eval_out_loss\": 0.5332330353558064,\n",
      "    \"eval_out_accuracy\": 0.875,\n",
      "    \"eval_out_runtime\": 0.6362981796264648,\n",
      "    \"eval_out_samples_per_second\": 12.572721808973826\n",
      "}\n"
     ]
    }
   ],
   "source": [
    "from src.finetuners.incontext import evaluate\n",
    "import json\n",
    "\n",
    "# Generate training and evaluation datasets. These should be used for all fine-tuning methods to ensure consistency. np.random should be seeded before this.\n",
    "random_idxs = np.random.choice(range(len(in_domain_test)), 8)\n",
    "# random_idxs = [3827]\n",
    "eval_dataset_in = in_domain_test.select(random_idxs)\n",
    "eval_dataset_out = out_domain.select(random_idxs)\n",
    "# print(f\"Using random dataset indices: {random_idxs.tolist()}\")\n",
    "\n",
    "combined_metrics = evaluate(model=model_opt125_causal, \n",
    "                            tokenizer=tokenizer_opt125_causal, \n",
    "                            eval_dataset_in=eval_dataset_in, \n",
    "                            eval_dataset_out=eval_dataset_out,\n",
    "                            context='',\n",
    "                            batch_size=8,\n",
    "                            verbose=True, \n",
    "                            disable_tqdm=False)\n",
    "\n",
    "print(f\"Metrics:\\n{json.dumps(combined_metrics, indent=4)}\")"
   ]
  },
  {
   "cell_type": "markdown",
   "metadata": {},
   "source": [
    "### Batch ICL evaluation"
   ]
  },
  {
   "cell_type": "code",
   "execution_count": 6,
   "metadata": {},
   "outputs": [
    {
     "ename": "TypeError",
     "evalue": "batch_evaluate() got an unexpected keyword argument 'model_name'",
     "output_type": "error",
     "traceback": [
      "\u001b[1;31m---------------------------------------------------------------------------\u001b[0m",
      "\u001b[1;31mTypeError\u001b[0m                                 Traceback (most recent call last)",
      "\u001b[1;32md:\\Gatech\\Fall2023\\Project\\src\\experiments\\icl_example.ipynb Cell 12\u001b[0m line \u001b[0;36m1\n\u001b[0;32m      <a href='vscode-notebook-cell:/d%3A/Gatech/Fall2023/Project/src/experiments/icl_example.ipynb#X14sZmlsZQ%3D%3D?line=4'>5</a>\u001b[0m \u001b[39m# Generate training and evaluation datasets. These should be used for all fine-tuning methods to ensure consistency. np.random should be seeded before this.\u001b[39;00m\n\u001b[0;32m      <a href='vscode-notebook-cell:/d%3A/Gatech/Fall2023/Project/src/experiments/icl_example.ipynb#X14sZmlsZQ%3D%3D?line=5'>6</a>\u001b[0m train_datasets, eval_dataset_in, eval_dataset_out \u001b[39m=\u001b[39m get_random_subsets(train_dataset\u001b[39m=\u001b[39min_domain_train, \n\u001b[0;32m      <a href='vscode-notebook-cell:/d%3A/Gatech/Fall2023/Project/src/experiments/icl_example.ipynb#X14sZmlsZQ%3D%3D?line=6'>7</a>\u001b[0m                                                                        eval_dataset_in\u001b[39m=\u001b[39min_domain_test, \n\u001b[0;32m      <a href='vscode-notebook-cell:/d%3A/Gatech/Fall2023/Project/src/experiments/icl_example.ipynb#X14sZmlsZQ%3D%3D?line=7'>8</a>\u001b[0m                                                                        eval_dataset_out\u001b[39m=\u001b[39mout_domain, \n\u001b[0;32m      <a href='vscode-notebook-cell:/d%3A/Gatech/Fall2023/Project/src/experiments/icl_example.ipynb#X14sZmlsZQ%3D%3D?line=8'>9</a>\u001b[0m                                                                        train_sample_sizes\u001b[39m=\u001b[39m[\u001b[39m2\u001b[39m, \u001b[39m4\u001b[39m],\u001b[39m#[2, 16, 32, 64, 128], # [2, 4],\u001b[39;00m\n\u001b[0;32m     <a href='vscode-notebook-cell:/d%3A/Gatech/Fall2023/Project/src/experiments/icl_example.ipynb#X14sZmlsZQ%3D%3D?line=9'>10</a>\u001b[0m                                                                        num_trials\u001b[39m=\u001b[39m\u001b[39m2\u001b[39m,   \u001b[39m# 5\u001b[39;00m\n\u001b[0;32m     <a href='vscode-notebook-cell:/d%3A/Gatech/Fall2023/Project/src/experiments/icl_example.ipynb#X14sZmlsZQ%3D%3D?line=10'>11</a>\u001b[0m                                                                        eval_sample_size\u001b[39m=\u001b[39m\u001b[39m50\u001b[39m) \u001b[39m# 10\u001b[39;00m\n\u001b[1;32m---> <a href='vscode-notebook-cell:/d%3A/Gatech/Fall2023/Project/src/experiments/icl_example.ipynb#X14sZmlsZQ%3D%3D?line=12'>13</a>\u001b[0m batch_evaluate(model_name\u001b[39m=\u001b[39;49m\u001b[39m'\u001b[39;49m\u001b[39mopt-125m\u001b[39;49m\u001b[39m'\u001b[39;49m, train_datasets\u001b[39m=\u001b[39;49mtrain_datasets, eval_dataset_in\u001b[39m=\u001b[39;49meval_dataset_in, eval_dataset_out\u001b[39m=\u001b[39;49meval_dataset_out)\n\u001b[0;32m     <a href='vscode-notebook-cell:/d%3A/Gatech/Fall2023/Project/src/experiments/icl_example.ipynb#X14sZmlsZQ%3D%3D?line=14'>15</a>\u001b[0m \u001b[39m'''\u001b[39;00m\n\u001b[0;32m     <a href='vscode-notebook-cell:/d%3A/Gatech/Fall2023/Project/src/experiments/icl_example.ipynb#X14sZmlsZQ%3D%3D?line=15'>16</a>\u001b[0m \u001b[39mfor context_data in [train_data[0] for train_data in train_datasets.values()]:\u001b[39;00m\n\u001b[0;32m     <a href='vscode-notebook-cell:/d%3A/Gatech/Fall2023/Project/src/experiments/icl_example.ipynb#X14sZmlsZQ%3D%3D?line=16'>17</a>\u001b[0m \u001b[39m    results = batch_evaluate(model_name='opt-125m', train_dataset=context_data, eval_dataset_in=eval_dataset_in, eval_dataset_out=eval_dataset_out)\u001b[39;00m\n\u001b[0;32m     <a href='vscode-notebook-cell:/d%3A/Gatech/Fall2023/Project/src/experiments/icl_example.ipynb#X14sZmlsZQ%3D%3D?line=17'>18</a>\u001b[0m \n\u001b[0;32m     <a href='vscode-notebook-cell:/d%3A/Gatech/Fall2023/Project/src/experiments/icl_example.ipynb#X14sZmlsZQ%3D%3D?line=18'>19</a>\u001b[0m \u001b[39m    print(f\"Metrics:\\n{json.dumps(results, indent=4)}\")\u001b[39;00m\n\u001b[0;32m     <a href='vscode-notebook-cell:/d%3A/Gatech/Fall2023/Project/src/experiments/icl_example.ipynb#X14sZmlsZQ%3D%3D?line=19'>20</a>\u001b[0m \u001b[39m'''\u001b[39;00m\n",
      "\u001b[1;31mTypeError\u001b[0m: batch_evaluate() got an unexpected keyword argument 'model_name'"
     ]
    }
   ],
   "source": [
    "from src.finetuners.incontext import batch_evaluate\n",
    "from src.data.data import get_random_subsets\n",
    "import json\n",
    "\n",
    "# Generate training and evaluation datasets. These should be used for all fine-tuning methods to ensure consistency. np.random should be seeded before this.\n",
    "train_datasets, eval_dataset_in, eval_dataset_out = get_random_subsets(train_dataset=in_domain_train, \n",
    "                                                                       eval_dataset_in=in_domain_test, \n",
    "                                                                       eval_dataset_out=out_domain, \n",
    "                                                                       train_sample_sizes=[2, 4],#[2, 16, 32, 64, 128], # [2, 4],\n",
    "                                                                       num_trials=2,   # 5\n",
    "                                                                       eval_sample_size=50) # 10\n",
    "\n",
    "batch_evaluate(model_names=['opt-125m'], train_datasets=train_datasets, eval_dataset_in=eval_dataset_in, eval_dataset_out=eval_dataset_out)\n",
    "\n",
    "'''\n",
    "for context_data in [train_data[0] for train_data in train_datasets.values()]:\n",
    "    results = batch_evaluate(model_name='opt-125m', train_dataset=context_data, eval_dataset_in=eval_dataset_in, eval_dataset_out=eval_dataset_out)\n",
    "\n",
    "    print(f\"Metrics:\\n{json.dumps(results, indent=4)}\")\n",
    "'''"
   ]
  }
 ],
 "metadata": {
  "kernelspec": {
   "display_name": "fine-tuning",
   "language": "python",
   "name": "python3"
  },
  "language_info": {
   "codemirror_mode": {
    "name": "ipython",
    "version": 3
   },
   "file_extension": ".py",
   "mimetype": "text/x-python",
   "name": "python",
   "nbconvert_exporter": "python",
   "pygments_lexer": "ipython3",
   "version": "3.10.9"
  }
 },
 "nbformat": 4,
 "nbformat_minor": 2
}
