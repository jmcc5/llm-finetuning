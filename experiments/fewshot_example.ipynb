{
 "cells": [
  {
   "cell_type": "markdown",
   "metadata": {},
   "source": [
    "# Test"
   ]
  },
  {
   "cell_type": "code",
   "execution_count": 13,
   "metadata": {},
   "outputs": [
    {
     "name": "stdout",
     "output_type": "stream",
     "text": [
      "The autoreload extension is already loaded. To reload it, use:\n",
      "  %reload_ext autoreload\n"
     ]
    }
   ],
   "source": [
    "%load_ext autoreload\n",
    "%autoreload 2"
   ]
  },
  {
   "cell_type": "markdown",
   "metadata": {},
   "source": [
    "### Import datasets\n",
    "\n",
    "Import datasets using functions from src/data/data.py. Datasets are downloaded from huggingface and stored in /data. Once downloaded, datasets are loaded locally.\n",
    "\n",
    "Run ```pip install -e .``` if module importing isn't working."
   ]
  },
  {
   "cell_type": "code",
   "execution_count": 14,
   "metadata": {},
   "outputs": [
    {
     "name": "stdout",
     "output_type": "stream",
     "text": [
      "In domain:\n",
      "Dataset({\n",
      "    features: ['premise', 'hypothesis', 'label', 'idx'],\n",
      "    num_rows: 261802\n",
      "})\n",
      "{'premise': 'you know during the season and i guess at at your level uh you lose them to the next level if if they decide to recall the the parent team the Braves decide to call to recall a guy from triple A then a double A guy goes up to replace him and a single A guy goes up to replace him', 'hypothesis': 'You lose the things to the following level if the people recall.', 'label': 0, 'idx': 1}\n",
      "Out of domain:\n",
      "Dataset({\n",
      "    features: ['premise', 'hypothesis', 'label', 'parse_premise', 'parse_hypothesis', 'binary_parse_premise', 'binary_parse_hypothesis', 'heuristic', 'subcase', 'template'],\n",
      "    num_rows: 10000\n",
      "})\n",
      "{'premise': 'The president avoided the athlete .', 'hypothesis': 'The athlete avoided the president .', 'label': 1, 'parse_premise': '(ROOT (S (NP (DT The) (NN president)) (VP (VBD avoided) (NP (DT the) (NN athlete))) (. .)))', 'parse_hypothesis': '(ROOT (S (NP (DT The) (NN athlete)) (VP (VBD avoided) (NP (DT the) (NN president))) (. .)))', 'binary_parse_premise': '( ( The president ) ( ( avoided ( the athlete ) ) . ) )', 'binary_parse_hypothesis': '( ( The athlete ) ( ( avoided ( the president ) ) . ) )', 'heuristic': 'lexical_overlap', 'subcase': 'ln_subject/object_swap', 'template': 'temp1'}\n"
     ]
    }
   ],
   "source": [
    "from src.data.data import get_in_domain, get_out_domain\n",
    "from src.data.data import get_random_subsets\n",
    "\n",
    "in_domain_train, in_domain_test = get_in_domain()\n",
    "out_domain = get_out_domain()\n",
    "\n",
    "print(f\"In domain:\\n{in_domain_train}\")\n",
    "print(in_domain_train[0])\n",
    "\n",
    "print(f\"Out of domain:\\n{out_domain}\")\n",
    "print(out_domain[10])\n",
    "\n",
    "# get_random_subsets(in_domain)"
   ]
  },
  {
   "cell_type": "markdown",
   "metadata": {},
   "source": [
    "### Import models\n",
    "\n",
    "Import models using methods from src/models/opt.py. Models are downloaded from huggingface and stored in /models/pretrained. Once downloaded, models are loaded locally."
   ]
  },
  {
   "cell_type": "code",
   "execution_count": 15,
   "metadata": {},
   "outputs": [],
   "source": [
    "from src.model.model import get_model\n",
    "\n",
    "model_opt125, tokenizer_opt125 = get_model('opt-125m')\n",
    "model_opt350, tokenizer_opt350 = get_model('opt-350m')"
   ]
  },
  {
   "cell_type": "markdown",
   "metadata": {},
   "source": [
    "### Few-shot finetuning\n",
    "\n",
    "Perform few-shot fine-tuning using the fine_tune method from /src/finetuners/fewshot.py. This method requires model, tokenizers, and datasets to be passed in as parameters. It returns training and evaluation metrics."
   ]
  },
  {
   "cell_type": "code",
   "execution_count": 22,
   "metadata": {},
   "outputs": [
    {
     "name": "stderr",
     "output_type": "stream",
     "text": [
      "100%|██████████| 40/40 [00:08<00:00,  4.48it/s]\n"
     ]
    },
    {
     "name": "stdout",
     "output_type": "stream",
     "text": [
      "{'train_runtime': 8.9196, 'train_samples_per_second': 8.969, 'train_steps_per_second': 4.485, 'train_loss': 8.940696005765859e-09, 'epoch': 40.0, 'train_peak_memory_gb': 2.5072526931762695}\n"
     ]
    },
    {
     "name": "stderr",
     "output_type": "stream",
     "text": [
      "100%|██████████| 1/1 [00:02<00:00,  2.18s/it]\n",
      "100%|██████████| 1/1 [00:02<00:00,  2.03s/it]\n"
     ]
    },
    {
     "data": {
      "text/plain": [
       "{'train_runtime': 8.9196,\n",
       " 'train_samples_per_second': 8.969,\n",
       " 'train_steps_per_second': 4.485,\n",
       " 'train_loss': 8.940696005765859e-09,\n",
       " 'epoch': 40.0,\n",
       " 'train_peak_memory_gb': 2.5072526931762695,\n",
       " 'eval_in_loss': 6.02099609375,\n",
       " 'eval_in_accuracy': 0.5,\n",
       " 'eval_in_runtime': 2.2393,\n",
       " 'eval_in_samples_per_second': 0.893,\n",
       " 'eval_in_steps_per_second': 0.447,\n",
       " 'eval_in_peak_memory_gb': 1.5648889541625977,\n",
       " 'eval_out_loss': 10.540631294250488,\n",
       " 'eval_out_accuracy': 0.0,\n",
       " 'eval_out_runtime': 2.2087,\n",
       " 'eval_out_samples_per_second': 0.906,\n",
       " 'eval_out_steps_per_second': 0.453,\n",
       " 'eval_out_peak_memory_gb': 1.5648889541625977}"
      ]
     },
     "execution_count": 22,
     "metadata": {},
     "output_type": "execute_result"
    }
   ],
   "source": [
    "from src.finetuners.fewshot import fine_tune\n",
    "\n",
    "train_dataset = in_domain_train.select(range(2))\n",
    "eval_dataset_in = in_domain_test.select(range(2))\n",
    "eval_dataset_out = out_domain.select(range(2))\n",
    "\n",
    "fine_tune(model=model_opt125, tokenizer=tokenizer_opt125, train_dataset=train_dataset, eval_dataset_in=eval_dataset_in, eval_dataset_out=eval_dataset_out)"
   ]
  },
  {
   "cell_type": "markdown",
   "metadata": {},
   "source": [
    "### Batch few-shot finetuning\n",
    "\n",
    "Perform batch few-shot fine-tuning using batch_fine_tune from /src/finetuners/fewshot.py. This method only requires model_name and training and eval datasets. The selected model is loaded from /models/pretrained for each trial to prevent cumulative fine-tuning. sample_sizes corresponds to the number of shots used for each trial. Each trial is trained and evaluated using data randomly selected by get_random_subsets from /src/utils.py. Results are written to a csv in /logs."
   ]
  },
  {
   "cell_type": "code",
   "execution_count": 29,
   "metadata": {},
   "outputs": [
    {
     "name": "stderr",
     "output_type": "stream",
     "text": [
      "2-shot: 100%|██████████| 5/5 [01:25<00:00, 17.02s/it, train_runtime=11.2, train_samples_per_second=7.17, train_steps_per_second=3.59, total_flos=2.09e+13, train_loss=0.0911, epoch=40, train_peak_memory_gb=2.99, eval_in_loss=0.579, eval_in_accuracy=0.8, eval_in_runtime=2.45, eval_in_samples_per_second=4.08, eval_in_steps_per_second=0.816, eval_in_peak_memory_gb=2.45, eval_out_loss=0.907, eval_out_accuracy=0.5, eval_out_runtime=2.49, eval_out_samples_per_second=4.01, eval_out_steps_per_second=0.802, eval_out_peak_memory_gb=2.45]\n",
      "4-shot: 100%|██████████| 5/5 [02:22<00:00, 28.48s/it, train_runtime=19.7, train_samples_per_second=8.13, train_steps_per_second=2.03, total_flos=4.18e+13, train_loss=0.102, epoch=40, train_peak_memory_gb=4.05, eval_in_loss=0.959, eval_in_accuracy=0.4, eval_in_runtime=2.47, eval_in_samples_per_second=4.05, eval_in_steps_per_second=0.809, eval_in_peak_memory_gb=2.46, eval_out_loss=0.67, eval_out_accuracy=0.6, eval_out_runtime=2.53, eval_out_samples_per_second=3.95, eval_out_steps_per_second=0.79, eval_out_peak_memory_gb=2.46]  "
     ]
    },
    {
     "name": "stdout",
     "output_type": "stream",
     "text": [
      "{\n",
      "    \"2\": [\n",
      "        {\n",
      "            \"train_runtime\": 8.7106,\n",
      "            \"train_samples_per_second\": 9.184,\n",
      "            \"train_steps_per_second\": 4.592,\n",
      "            \"total_flos\": 20903740047360.0,\n",
      "            \"train_loss\": 0.07221591472625732,\n",
      "            \"epoch\": 40.0,\n",
      "            \"train_peak_memory_gb\": 2.9903650283813477,\n",
      "            \"eval_in_loss\": 0.8656133413314819,\n",
      "            \"eval_in_accuracy\": 0.2,\n",
      "            \"eval_in_runtime\": 2.3451,\n",
      "            \"eval_in_samples_per_second\": 4.264,\n",
      "            \"eval_in_steps_per_second\": 0.853,\n",
      "            \"eval_in_peak_memory_gb\": 2.4508790969848633,\n",
      "            \"eval_out_loss\": 0.7518103718757629,\n",
      "            \"eval_out_accuracy\": 0.4,\n",
      "            \"eval_out_runtime\": 2.4636,\n",
      "            \"eval_out_samples_per_second\": 4.059,\n",
      "            \"eval_out_steps_per_second\": 0.812,\n",
      "            \"eval_out_peak_memory_gb\": 2.4508790969848633\n",
      "        },\n",
      "        {\n",
      "            \"train_runtime\": 8.9631,\n",
      "            \"train_samples_per_second\": 8.925,\n",
      "            \"train_steps_per_second\": 4.463,\n",
      "            \"total_flos\": 20903740047360.0,\n",
      "            \"train_loss\": 0.07259345650672913,\n",
      "            \"epoch\": 40.0,\n",
      "            \"train_peak_memory_gb\": 2.9903650283813477,\n",
      "            \"eval_in_loss\": 3.19877290725708,\n",
      "            \"eval_in_accuracy\": 0.5,\n",
      "            \"eval_in_runtime\": 2.4272,\n",
      "            \"eval_in_samples_per_second\": 4.12,\n",
      "            \"eval_in_steps_per_second\": 0.824,\n",
      "            \"eval_in_peak_memory_gb\": 2.4508790969848633,\n",
      "            \"eval_out_loss\": 3.081035852432251,\n",
      "            \"eval_out_accuracy\": 0.5,\n",
      "            \"eval_out_runtime\": 2.723,\n",
      "            \"eval_out_samples_per_second\": 3.672,\n",
      "            \"eval_out_steps_per_second\": 0.734,\n",
      "            \"eval_out_peak_memory_gb\": 2.4508790969848633\n",
      "        },\n",
      "        {\n",
      "            \"train_runtime\": 9.6457,\n",
      "            \"train_samples_per_second\": 8.294,\n",
      "            \"train_steps_per_second\": 4.147,\n",
      "            \"total_flos\": 20903740047360.0,\n",
      "            \"train_loss\": 0.06708682775497436,\n",
      "            \"epoch\": 40.0,\n",
      "            \"train_peak_memory_gb\": 2.9903650283813477,\n",
      "            \"eval_in_loss\": 1.5578585863113403,\n",
      "            \"eval_in_accuracy\": 0.4,\n",
      "            \"eval_in_runtime\": 2.6886,\n",
      "            \"eval_in_samples_per_second\": 3.719,\n",
      "            \"eval_in_steps_per_second\": 0.744,\n",
      "            \"eval_in_peak_memory_gb\": 2.4508790969848633,\n",
      "            \"eval_out_loss\": 1.0155165195465088,\n",
      "            \"eval_out_accuracy\": 0.5,\n",
      "            \"eval_out_runtime\": 2.8153,\n",
      "            \"eval_out_samples_per_second\": 3.552,\n",
      "            \"eval_out_steps_per_second\": 0.71,\n",
      "            \"eval_out_peak_memory_gb\": 2.4508790969848633\n",
      "        },\n",
      "        {\n",
      "            \"train_runtime\": 10.9132,\n",
      "            \"train_samples_per_second\": 7.331,\n",
      "            \"train_steps_per_second\": 3.665,\n",
      "            \"total_flos\": 20903740047360.0,\n",
      "            \"train_loss\": 0.10915217399597169,\n",
      "            \"epoch\": 40.0,\n",
      "            \"train_peak_memory_gb\": 2.9903650283813477,\n",
      "            \"eval_in_loss\": 0.7165068984031677,\n",
      "            \"eval_in_accuracy\": 0.6,\n",
      "            \"eval_in_runtime\": 2.4345,\n",
      "            \"eval_in_samples_per_second\": 4.108,\n",
      "            \"eval_in_steps_per_second\": 0.822,\n",
      "            \"eval_in_peak_memory_gb\": 2.4508790969848633,\n",
      "            \"eval_out_loss\": 0.6863915324211121,\n",
      "            \"eval_out_accuracy\": 0.5,\n",
      "            \"eval_out_runtime\": 2.9368,\n",
      "            \"eval_out_samples_per_second\": 3.405,\n",
      "            \"eval_out_steps_per_second\": 0.681,\n",
      "            \"eval_out_peak_memory_gb\": 2.4508790969848633\n",
      "        },\n",
      "        {\n",
      "            \"train_runtime\": 11.1527,\n",
      "            \"train_samples_per_second\": 7.173,\n",
      "            \"train_steps_per_second\": 3.587,\n",
      "            \"total_flos\": 20903740047360.0,\n",
      "            \"train_loss\": 0.09107137322425843,\n",
      "            \"epoch\": 40.0,\n",
      "            \"train_peak_memory_gb\": 2.9903650283813477,\n",
      "            \"eval_in_loss\": 0.5787742137908936,\n",
      "            \"eval_in_accuracy\": 0.8,\n",
      "            \"eval_in_runtime\": 2.4515,\n",
      "            \"eval_in_samples_per_second\": 4.079,\n",
      "            \"eval_in_steps_per_second\": 0.816,\n",
      "            \"eval_in_peak_memory_gb\": 2.4508790969848633,\n",
      "            \"eval_out_loss\": 0.9068551063537598,\n",
      "            \"eval_out_accuracy\": 0.5,\n",
      "            \"eval_out_runtime\": 2.4947,\n",
      "            \"eval_out_samples_per_second\": 4.008,\n",
      "            \"eval_out_steps_per_second\": 0.802,\n",
      "            \"eval_out_peak_memory_gb\": 2.4508790969848633\n",
      "        }\n",
      "    ],\n",
      "    \"4\": [\n",
      "        {\n",
      "            \"train_runtime\": 19.5511,\n",
      "            \"train_samples_per_second\": 8.184,\n",
      "            \"train_steps_per_second\": 2.046,\n",
      "            \"total_flos\": 41807480094720.0,\n",
      "            \"train_loss\": 0.08249884247779846,\n",
      "            \"epoch\": 40.0,\n",
      "            \"train_peak_memory_gb\": 4.052947044372559,\n",
      "            \"eval_in_loss\": 3.8287570476531982,\n",
      "            \"eval_in_accuracy\": 0.5,\n",
      "            \"eval_in_runtime\": 12.3978,\n",
      "            \"eval_in_samples_per_second\": 0.807,\n",
      "            \"eval_in_steps_per_second\": 0.161,\n",
      "            \"eval_in_peak_memory_gb\": 2.4562559127807617,\n",
      "            \"eval_out_loss\": 3.351219892501831,\n",
      "            \"eval_out_accuracy\": 0.5,\n",
      "            \"eval_out_runtime\": 2.6988,\n",
      "            \"eval_out_samples_per_second\": 3.705,\n",
      "            \"eval_out_steps_per_second\": 0.741,\n",
      "            \"eval_out_peak_memory_gb\": 2.4562559127807617\n",
      "        },\n",
      "        {\n",
      "            \"train_runtime\": 19.492,\n",
      "            \"train_samples_per_second\": 8.209,\n",
      "            \"train_steps_per_second\": 2.052,\n",
      "            \"total_flos\": 41807480094720.0,\n",
      "            \"train_loss\": 0.08977243304252625,\n",
      "            \"epoch\": 40.0,\n",
      "            \"train_peak_memory_gb\": 4.052947044372559,\n",
      "            \"eval_in_loss\": 1.0451213121414185,\n",
      "            \"eval_in_accuracy\": 0.2,\n",
      "            \"eval_in_runtime\": 2.4445,\n",
      "            \"eval_in_samples_per_second\": 4.091,\n",
      "            \"eval_in_steps_per_second\": 0.818,\n",
      "            \"eval_in_peak_memory_gb\": 2.4562559127807617,\n",
      "            \"eval_out_loss\": 0.7030336260795593,\n",
      "            \"eval_out_accuracy\": 0.4,\n",
      "            \"eval_out_runtime\": 2.6539,\n",
      "            \"eval_out_samples_per_second\": 3.768,\n",
      "            \"eval_out_steps_per_second\": 0.754,\n",
      "            \"eval_out_peak_memory_gb\": 2.4562559127807617\n",
      "        },\n",
      "        {\n",
      "            \"train_runtime\": 19.5868,\n",
      "            \"train_samples_per_second\": 8.169,\n",
      "            \"train_steps_per_second\": 2.042,\n",
      "            \"total_flos\": 41807480094720.0,\n",
      "            \"train_loss\": 0.09884832501411438,\n",
      "            \"epoch\": 40.0,\n",
      "            \"train_peak_memory_gb\": 4.052947044372559,\n",
      "            \"eval_in_loss\": 1.1096892356872559,\n",
      "            \"eval_in_accuracy\": 0.4,\n",
      "            \"eval_in_runtime\": 2.3607,\n",
      "            \"eval_in_samples_per_second\": 4.236,\n",
      "            \"eval_in_steps_per_second\": 0.847,\n",
      "            \"eval_in_peak_memory_gb\": 2.4562559127807617,\n",
      "            \"eval_out_loss\": 0.7671332359313965,\n",
      "            \"eval_out_accuracy\": 0.5,\n",
      "            \"eval_out_runtime\": 2.5865,\n",
      "            \"eval_out_samples_per_second\": 3.866,\n",
      "            \"eval_out_steps_per_second\": 0.773,\n",
      "            \"eval_out_peak_memory_gb\": 2.4562559127807617\n",
      "        },\n",
      "        {\n",
      "            \"train_runtime\": 19.5303,\n",
      "            \"train_samples_per_second\": 8.192,\n",
      "            \"train_steps_per_second\": 2.048,\n",
      "            \"total_flos\": 41807480094720.0,\n",
      "            \"train_loss\": 0.06615492105484008,\n",
      "            \"epoch\": 40.0,\n",
      "            \"train_peak_memory_gb\": 4.052947044372559,\n",
      "            \"eval_in_loss\": 3.91290020942688,\n",
      "            \"eval_in_accuracy\": 0.5,\n",
      "            \"eval_in_runtime\": 2.5031,\n",
      "            \"eval_in_samples_per_second\": 3.995,\n",
      "            \"eval_in_steps_per_second\": 0.799,\n",
      "            \"eval_in_peak_memory_gb\": 2.4562559127807617,\n",
      "            \"eval_out_loss\": 3.4460041522979736,\n",
      "            \"eval_out_accuracy\": 0.5,\n",
      "            \"eval_out_runtime\": 2.589,\n",
      "            \"eval_out_samples_per_second\": 3.863,\n",
      "            \"eval_out_steps_per_second\": 0.773,\n",
      "            \"eval_out_peak_memory_gb\": 2.4562559127807617\n",
      "        },\n",
      "        {\n",
      "            \"train_runtime\": 19.6877,\n",
      "            \"train_samples_per_second\": 8.127,\n",
      "            \"train_steps_per_second\": 2.032,\n",
      "            \"total_flos\": 41807480094720.0,\n",
      "            \"train_loss\": 0.10236713886260987,\n",
      "            \"epoch\": 40.0,\n",
      "            \"train_peak_memory_gb\": 4.052947044372559,\n",
      "            \"eval_in_loss\": 0.9590620994567871,\n",
      "            \"eval_in_accuracy\": 0.4,\n",
      "            \"eval_in_runtime\": 2.4712,\n",
      "            \"eval_in_samples_per_second\": 4.047,\n",
      "            \"eval_in_steps_per_second\": 0.809,\n",
      "            \"eval_in_peak_memory_gb\": 2.4562559127807617,\n",
      "            \"eval_out_loss\": 0.6702154874801636,\n",
      "            \"eval_out_accuracy\": 0.6,\n",
      "            \"eval_out_runtime\": 2.5313,\n",
      "            \"eval_out_samples_per_second\": 3.951,\n",
      "            \"eval_out_steps_per_second\": 0.79,\n",
      "            \"eval_out_peak_memory_gb\": 2.4562559127807617\n",
      "        }\n",
      "    ]\n",
      "}\n"
     ]
    },
    {
     "name": "stderr",
     "output_type": "stream",
     "text": [
      "\n"
     ]
    }
   ],
   "source": [
    "import json\n",
    "from src.finetuners.fewshot import batch_fine_tune\n",
    "from src.data.data import get_random_subsets\n",
    "\n",
    "# Generate training and evaluation datasets. These should be used for all fine-tuning methods to ensure consistency. np.random should be seeded before this.\n",
    "train_datasets, eval_dataset_in, eval_dataset_out = get_random_subsets(train_dataset=in_domain_train, \n",
    "                                                                       eval_dataset_in=in_domain_test, \n",
    "                                                                       eval_dataset_out=out_domain, \n",
    "                                                                       train_sample_sizes=[2, 4],   # [2, 16, 32, 64, 128]\n",
    "                                                                       num_trials=5,    # 10\n",
    "                                                                       eval_sample_size=10) # 50\n",
    "\n",
    "results = batch_fine_tune(model_name='opt-125m', train_datasets=train_datasets, eval_dataset_in=eval_dataset_in, eval_dataset_out=eval_dataset_out)\n",
    "\n",
    "print(json.dumps(results, indent=4))"
   ]
  }
 ],
 "metadata": {
  "kernelspec": {
   "display_name": "fine-tuning",
   "language": "python",
   "name": "python3"
  },
  "language_info": {
   "codemirror_mode": {
    "name": "ipython",
    "version": 3
   },
   "file_extension": ".py",
   "mimetype": "text/x-python",
   "name": "python",
   "nbconvert_exporter": "python",
   "pygments_lexer": "ipython3",
   "version": "3.10.9"
  }
 },
 "nbformat": 4,
 "nbformat_minor": 2
}
