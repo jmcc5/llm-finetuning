{
 "cells": [
  {
   "cell_type": "markdown",
   "metadata": {},
   "source": [
    "# Test"
   ]
  },
  {
   "cell_type": "code",
   "execution_count": 2,
   "metadata": {},
   "outputs": [],
   "source": [
    "%load_ext autoreload\n",
    "%autoreload 2"
   ]
  },
  {
   "cell_type": "markdown",
   "metadata": {},
   "source": [
    "### Import datasets\n",
    "\n",
    "Import datasets using functions from src/data/data.py. Datasets are downloaded from huggingface and stored in /data. Once downloaded, datasets are loaded locally.\n",
    "\n",
    "Run ```pip install -e .``` if module importing isn't working."
   ]
  },
  {
   "cell_type": "code",
   "execution_count": 3,
   "metadata": {},
   "outputs": [
    {
     "name": "stdout",
     "output_type": "stream",
     "text": [
      "In domain:\n",
      "Dataset({\n",
      "    features: ['premise', 'hypothesis', 'label', 'idx'],\n",
      "    num_rows: 261802\n",
      "})\n",
      "{'premise': 'you know during the season and i guess at at your level uh you lose them to the next level if if they decide to recall the the parent team the Braves decide to call to recall a guy from triple A then a double A guy goes up to replace him and a single A guy goes up to replace him', 'hypothesis': 'You lose the things to the following level if the people recall.', 'label': 0, 'idx': 1}\n",
      "Out of domain:\n",
      "Dataset({\n",
      "    features: ['premise', 'hypothesis', 'label', 'parse_premise', 'parse_hypothesis', 'binary_parse_premise', 'binary_parse_hypothesis', 'heuristic', 'subcase', 'template'],\n",
      "    num_rows: 10000\n",
      "})\n",
      "{'premise': 'The president avoided the athlete .', 'hypothesis': 'The athlete avoided the president .', 'label': 1, 'parse_premise': '(ROOT (S (NP (DT The) (NN president)) (VP (VBD avoided) (NP (DT the) (NN athlete))) (. .)))', 'parse_hypothesis': '(ROOT (S (NP (DT The) (NN athlete)) (VP (VBD avoided) (NP (DT the) (NN president))) (. .)))', 'binary_parse_premise': '( ( The president ) ( ( avoided ( the athlete ) ) . ) )', 'binary_parse_hypothesis': '( ( The athlete ) ( ( avoided ( the president ) ) . ) )', 'heuristic': 'lexical_overlap', 'subcase': 'ln_subject/object_swap', 'template': 'temp1'}\n"
     ]
    }
   ],
   "source": [
    "from src.data.data import get_in_domain, get_out_domain\n",
    "from src.data.data import get_random_subsets\n",
    "\n",
    "in_domain = get_in_domain()\n",
    "out_domain = get_out_domain()\n",
    "\n",
    "print(f\"In domain:\\n{in_domain}\")\n",
    "print(in_domain[0])\n",
    "\n",
    "print(f\"Out of domain:\\n{out_domain}\")\n",
    "print(out_domain[10])\n",
    "\n",
    "# get_random_subsets(in_domain)"
   ]
  },
  {
   "cell_type": "markdown",
   "metadata": {},
   "source": [
    "### Import models\n",
    "\n",
    "Import models using methods from src/models/opt.py. Models are downloaded from huggingface and stored in /models/pretrained. Once downloaded, models are loaded locally."
   ]
  },
  {
   "cell_type": "code",
   "execution_count": 4,
   "metadata": {},
   "outputs": [],
   "source": [
    "from src.model.model import get_model\n",
    "\n",
    "model_opt125, tokenizer_opt125 = get_model('opt-125m')\n",
    "model_opt350, tokenizer_opt350 = get_model('opt-350m')"
   ]
  },
  {
   "cell_type": "markdown",
   "metadata": {},
   "source": [
    "### Few-shot finetuning\n",
    "\n",
    "Perform few-shot fine-tuning using the fine_tune method from /src/finetuners/fewshot.py. This method requires model, tokenizers, and datasets to be passed in as parameters. It returns training and evaluation metrics."
   ]
  },
  {
   "cell_type": "code",
   "execution_count": 5,
   "metadata": {},
   "outputs": [
    {
     "name": "stderr",
     "output_type": "stream",
     "text": [
      "100%|██████████| 40/40 [00:11<00:00,  3.62it/s]\n"
     ]
    },
    {
     "name": "stdout",
     "output_type": "stream",
     "text": [
      "{'train_runtime': 11.0397, 'train_samples_per_second': 7.247, 'train_steps_per_second': 3.623, 'train_loss': 0.061122357845306396, 'epoch': 40.0, 'train_peak_memory_gb': 2.502718925476074}\n"
     ]
    },
    {
     "name": "stderr",
     "output_type": "stream",
     "text": [
      "100%|██████████| 1/1 [00:02<00:00,  2.59s/it]\n"
     ]
    },
    {
     "data": {
      "text/plain": [
       "{'train_runtime': 11.0397,\n",
       " 'train_samples_per_second': 7.247,\n",
       " 'train_steps_per_second': 3.623,\n",
       " 'train_loss': 0.061122357845306396,\n",
       " 'epoch': 40.0,\n",
       " 'train_peak_memory_gb': 2.502718925476074,\n",
       " 'eval_loss': 5.777809143066406,\n",
       " 'eval_accuracy': 0.0,\n",
       " 'eval_runtime': 2.6514,\n",
       " 'eval_samples_per_second': 0.754,\n",
       " 'eval_steps_per_second': 0.377,\n",
       " 'eval_peak_memory_gb': 1.5613317489624023}"
      ]
     },
     "execution_count": 5,
     "metadata": {},
     "output_type": "execute_result"
    }
   ],
   "source": [
    "from src.finetuners.fewshot import fine_tune\n",
    "\n",
    "train_dataset = in_domain.select(range(2))\n",
    "eval_dataset = out_domain.select(range(2))\n",
    "\n",
    "fine_tune(model=model_opt125, tokenizer=tokenizer_opt125, train_dataset=train_dataset, eval_dataset=eval_dataset)"
   ]
  },
  {
   "cell_type": "markdown",
   "metadata": {},
   "source": [
    "### Batch few-shot finetuning\n",
    "\n",
    "Perform batch few-shot fine-tuning using batch_fine_tune from /src/finetuners/fewshot.py. This method only requires model_name, datasets, sample_sizes, and num_trials. The selected model is loaded from /models/pretrained for each trial to prevent cumulative fine-tuning. sample_sizes corresponds to the number of shots used for each trial. Each trial is trained using data randomly selected from the train_dataset (in domain) by get_random_subsets from /src/utils.py. Results are written to a csv in /logs."
   ]
  },
  {
   "cell_type": "code",
   "execution_count": 6,
   "metadata": {},
   "outputs": [
    {
     "name": "stderr",
     "output_type": "stream",
     "text": [
      "2-shot: 100%|██████████| 5/5 [01:18<00:00, 15.71s/it, train_runtime=11.9, train_samples_per_second=6.74, train_steps_per_second=3.37, total_flos=2.09e+13, train_loss=0.0808, epoch=40, train_peak_memory_gb=2.99, eval_loss=0.584, eval_accuracy=0.7, eval_runtime=2.63, eval_samples_per_second=3.8, eval_steps_per_second=0.759, eval_peak_memory_gb=2.45] \n",
      "4-shot: 100%|██████████| 5/5 [02:07<00:00, 25.46s/it, train_runtime=21.4, train_samples_per_second=7.46, train_steps_per_second=1.87, total_flos=4.18e+13, train_loss=0.122, epoch=40, train_peak_memory_gb=4.05, eval_loss=0.599, eval_accuracy=0.6, eval_runtime=2.57, eval_samples_per_second=3.89, eval_steps_per_second=0.778, eval_peak_memory_gb=2.45]"
     ]
    },
    {
     "name": "stdout",
     "output_type": "stream",
     "text": [
      "{\n",
      "    \"2\": [\n",
      "        {\n",
      "            \"train_runtime\": 9.2539,\n",
      "            \"train_samples_per_second\": 8.645,\n",
      "            \"train_steps_per_second\": 4.323,\n",
      "            \"total_flos\": 20903740047360.0,\n",
      "            \"train_loss\": 0.05942646861076355,\n",
      "            \"epoch\": 40.0,\n",
      "            \"train_peak_memory_gb\": 2.9804773330688477,\n",
      "            \"eval_loss\": 0.00859286542981863,\n",
      "            \"eval_accuracy\": 1.0,\n",
      "            \"eval_runtime\": 2.557,\n",
      "            \"eval_samples_per_second\": 3.911,\n",
      "            \"eval_steps_per_second\": 0.782,\n",
      "            \"eval_peak_memory_gb\": 2.4387941360473633\n",
      "        },\n",
      "        {\n",
      "            \"train_runtime\": 9.6594,\n",
      "            \"train_samples_per_second\": 8.282,\n",
      "            \"train_steps_per_second\": 4.141,\n",
      "            \"total_flos\": 20903740047360.0,\n",
      "            \"train_loss\": 0.08801689147949218,\n",
      "            \"epoch\": 40.0,\n",
      "            \"train_peak_memory_gb\": 2.9860925674438477,\n",
      "            \"eval_loss\": 0.6015669107437134,\n",
      "            \"eval_accuracy\": 0.7,\n",
      "            \"eval_runtime\": 2.7572,\n",
      "            \"eval_samples_per_second\": 3.627,\n",
      "            \"eval_steps_per_second\": 0.725,\n",
      "            \"eval_peak_memory_gb\": 2.446112632751465\n",
      "        },\n",
      "        {\n",
      "            \"train_runtime\": 10.905,\n",
      "            \"train_samples_per_second\": 7.336,\n",
      "            \"train_steps_per_second\": 3.668,\n",
      "            \"total_flos\": 20903740047360.0,\n",
      "            \"train_loss\": 0.05300096273422241,\n",
      "            \"epoch\": 40.0,\n",
      "            \"train_peak_memory_gb\": 2.987301826477051,\n",
      "            \"eval_loss\": 0.005497413221746683,\n",
      "            \"eval_accuracy\": 1.0,\n",
      "            \"eval_runtime\": 2.6746,\n",
      "            \"eval_samples_per_second\": 3.739,\n",
      "            \"eval_steps_per_second\": 0.748,\n",
      "            \"eval_peak_memory_gb\": 2.445857048034668\n",
      "        },\n",
      "        {\n",
      "            \"train_runtime\": 12.0163,\n",
      "            \"train_samples_per_second\": 6.658,\n",
      "            \"train_steps_per_second\": 3.329,\n",
      "            \"total_flos\": 20903740047360.0,\n",
      "            \"train_loss\": 0.09598073959350586,\n",
      "            \"epoch\": 40.0,\n",
      "            \"train_peak_memory_gb\": 2.985348701477051,\n",
      "            \"eval_loss\": 0.005744519643485546,\n",
      "            \"eval_accuracy\": 1.0,\n",
      "            \"eval_runtime\": 2.8216,\n",
      "            \"eval_samples_per_second\": 3.544,\n",
      "            \"eval_steps_per_second\": 0.709,\n",
      "            \"eval_peak_memory_gb\": 2.4446420669555664\n",
      "        },\n",
      "        {\n",
      "            \"train_runtime\": 11.869,\n",
      "            \"train_samples_per_second\": 6.74,\n",
      "            \"train_steps_per_second\": 3.37,\n",
      "            \"total_flos\": 20903740047360.0,\n",
      "            \"train_loss\": 0.08078636527061463,\n",
      "            \"epoch\": 40.0,\n",
      "            \"train_peak_memory_gb\": 2.9865636825561523,\n",
      "            \"eval_loss\": 0.5843403935432434,\n",
      "            \"eval_accuracy\": 0.7,\n",
      "            \"eval_runtime\": 2.6346,\n",
      "            \"eval_samples_per_second\": 3.796,\n",
      "            \"eval_steps_per_second\": 0.759,\n",
      "            \"eval_peak_memory_gb\": 2.445368766784668\n",
      "        }\n",
      "    ],\n",
      "    \"4\": [\n",
      "        {\n",
      "            \"train_runtime\": 19.7327,\n",
      "            \"train_samples_per_second\": 8.108,\n",
      "            \"train_steps_per_second\": 2.027,\n",
      "            \"total_flos\": 41807480094720.0,\n",
      "            \"train_loss\": 0.11859711408615112,\n",
      "            \"epoch\": 40.0,\n",
      "            \"train_peak_memory_gb\": 4.048674583435059,\n",
      "            \"eval_loss\": 0.9265056848526001,\n",
      "            \"eval_accuracy\": 0.3,\n",
      "            \"eval_runtime\": 2.5804,\n",
      "            \"eval_samples_per_second\": 3.875,\n",
      "            \"eval_steps_per_second\": 0.775,\n",
      "            \"eval_peak_memory_gb\": 2.4490537643432617\n",
      "        },\n",
      "        {\n",
      "            \"train_runtime\": 19.9468,\n",
      "            \"train_samples_per_second\": 8.021,\n",
      "            \"train_steps_per_second\": 2.005,\n",
      "            \"total_flos\": 41807480094720.0,\n",
      "            \"train_loss\": 0.09925844073295594,\n",
      "            \"epoch\": 40.0,\n",
      "            \"train_peak_memory_gb\": 4.048674583435059,\n",
      "            \"eval_loss\": 0.4632607102394104,\n",
      "            \"eval_accuracy\": 0.9,\n",
      "            \"eval_runtime\": 3.9701,\n",
      "            \"eval_samples_per_second\": 2.519,\n",
      "            \"eval_steps_per_second\": 0.504,\n",
      "            \"eval_peak_memory_gb\": 2.4490537643432617\n",
      "        },\n",
      "        {\n",
      "            \"train_runtime\": 19.9547,\n",
      "            \"train_samples_per_second\": 8.018,\n",
      "            \"train_steps_per_second\": 2.005,\n",
      "            \"total_flos\": 41807480094720.0,\n",
      "            \"train_loss\": 0.06952434778213501,\n",
      "            \"epoch\": 40.0,\n",
      "            \"train_peak_memory_gb\": 4.048674583435059,\n",
      "            \"eval_loss\": 0.17885951697826385,\n",
      "            \"eval_accuracy\": 1.0,\n",
      "            \"eval_runtime\": 2.4637,\n",
      "            \"eval_samples_per_second\": 4.059,\n",
      "            \"eval_steps_per_second\": 0.812,\n",
      "            \"eval_peak_memory_gb\": 2.4490537643432617\n",
      "        },\n",
      "        {\n",
      "            \"train_runtime\": 21.0531,\n",
      "            \"train_samples_per_second\": 7.6,\n",
      "            \"train_steps_per_second\": 1.9,\n",
      "            \"total_flos\": 41807480094720.0,\n",
      "            \"train_loss\": 0.11014838218688965,\n",
      "            \"epoch\": 40.0,\n",
      "            \"train_peak_memory_gb\": 4.048674583435059,\n",
      "            \"eval_loss\": 0.8544049263000488,\n",
      "            \"eval_accuracy\": 0.3,\n",
      "            \"eval_runtime\": 2.7936,\n",
      "            \"eval_samples_per_second\": 3.58,\n",
      "            \"eval_steps_per_second\": 0.716,\n",
      "            \"eval_peak_memory_gb\": 2.4490537643432617\n",
      "        },\n",
      "        {\n",
      "            \"train_runtime\": 21.4363,\n",
      "            \"train_samples_per_second\": 7.464,\n",
      "            \"train_steps_per_second\": 1.866,\n",
      "            \"total_flos\": 41807480094720.0,\n",
      "            \"train_loss\": 0.12173117399215698,\n",
      "            \"epoch\": 40.0,\n",
      "            \"train_peak_memory_gb\": 4.048674583435059,\n",
      "            \"eval_loss\": 0.598716676235199,\n",
      "            \"eval_accuracy\": 0.6,\n",
      "            \"eval_runtime\": 2.5705,\n",
      "            \"eval_samples_per_second\": 3.89,\n",
      "            \"eval_steps_per_second\": 0.778,\n",
      "            \"eval_peak_memory_gb\": 2.4490537643432617\n",
      "        }\n",
      "    ]\n",
      "}\n"
     ]
    },
    {
     "name": "stderr",
     "output_type": "stream",
     "text": [
      "\n"
     ]
    }
   ],
   "source": [
    "from src.finetuners.fewshot import batch_fine_tune\n",
    "import json\n",
    "\n",
    "eval_dataset = out_domain.select(range(10)) # This needs to be changed... how much of the OOD should we use? 50 (pg. 6)\n",
    "\n",
    "results = batch_fine_tune(model_name='opt-125m', train_dataset=in_domain, eval_dataset=eval_dataset, sample_sizes=[2, 4], num_trials=5)\n",
    "\n",
    "print(json.dumps(results, indent=4))"
   ]
  }
 ],
 "metadata": {
  "kernelspec": {
   "display_name": "fine-tuning",
   "language": "python",
   "name": "python3"
  },
  "language_info": {
   "codemirror_mode": {
    "name": "ipython",
    "version": 3
   },
   "file_extension": ".py",
   "mimetype": "text/x-python",
   "name": "python",
   "nbconvert_exporter": "python",
   "pygments_lexer": "ipython3",
   "version": "3.10.9"
  }
 },
 "nbformat": 4,
 "nbformat_minor": 2
}
