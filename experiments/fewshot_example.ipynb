{
 "cells": [
  {
   "cell_type": "markdown",
   "metadata": {},
   "source": [
    "# Test"
   ]
  },
  {
   "cell_type": "code",
   "execution_count": 1,
   "metadata": {},
   "outputs": [],
   "source": [
    "%load_ext autoreload\n",
    "%autoreload 2"
   ]
  },
  {
   "cell_type": "markdown",
   "metadata": {},
   "source": [
    "### Import datasets\n",
    "\n",
    "Import datasets using functions from src/data/data.py. Datasets are downloaded from huggingface and stored in /data. Once downloaded, datasets are loaded locally.\n",
    "\n",
    "Run ```pip install -e .``` if module importing isn't working."
   ]
  },
  {
   "cell_type": "code",
   "execution_count": 2,
   "metadata": {},
   "outputs": [
    {
     "name": "stderr",
     "output_type": "stream",
     "text": [
      "c:\\Users\\harri\\anaconda3\\envs\\fine-tuning\\lib\\site-packages\\tqdm\\auto.py:21: TqdmWarning: IProgress not found. Please update jupyter and ipywidgets. See https://ipywidgets.readthedocs.io/en/stable/user_install.html\n",
      "  from .autonotebook import tqdm as notebook_tqdm\n"
     ]
    },
    {
     "name": "stdout",
     "output_type": "stream",
     "text": [
      "In domain:\n",
      "Dataset({\n",
      "    features: ['premise', 'hypothesis', 'label', 'idx'],\n",
      "    num_rows: 261802\n",
      "})\n",
      "{'premise': 'you know during the season and i guess at at your level uh you lose them to the next level if if they decide to recall the the parent team the Braves decide to call to recall a guy from triple A then a double A guy goes up to replace him and a single A guy goes up to replace him', 'hypothesis': 'You lose the things to the following level if the people recall.', 'label': 0, 'idx': 1}\n",
      "Out of domain:\n",
      "Dataset({\n",
      "    features: ['premise', 'hypothesis', 'label', 'parse_premise', 'parse_hypothesis', 'binary_parse_premise', 'binary_parse_hypothesis', 'heuristic', 'subcase', 'template'],\n",
      "    num_rows: 10000\n",
      "})\n",
      "{'premise': 'The president avoided the athlete .', 'hypothesis': 'The athlete avoided the president .', 'label': 1, 'parse_premise': '(ROOT (S (NP (DT The) (NN president)) (VP (VBD avoided) (NP (DT the) (NN athlete))) (. .)))', 'parse_hypothesis': '(ROOT (S (NP (DT The) (NN athlete)) (VP (VBD avoided) (NP (DT the) (NN president))) (. .)))', 'binary_parse_premise': '( ( The president ) ( ( avoided ( the athlete ) ) . ) )', 'binary_parse_hypothesis': '( ( The athlete ) ( ( avoided ( the president ) ) . ) )', 'heuristic': 'lexical_overlap', 'subcase': 'ln_subject/object_swap', 'template': 'temp1'}\n"
     ]
    }
   ],
   "source": [
    "from src.data.data import get_in_domain, get_out_domain\n",
    "from src.data.utils import get_random_subsets\n",
    "\n",
    "in_domain = get_in_domain()\n",
    "out_domain = get_out_domain()\n",
    "\n",
    "print(f\"In domain:\\n{in_domain}\")\n",
    "print(in_domain[0])\n",
    "\n",
    "print(f\"Out of domain:\\n{out_domain}\")\n",
    "print(out_domain[10])\n",
    "\n",
    "# get_random_subsets(in_domain)"
   ]
  },
  {
   "cell_type": "markdown",
   "metadata": {},
   "source": [
    "### Import models\n",
    "\n",
    "Import models using methods from src/models/opt.py. Models are downloaded from huggingface and stored in /models/pretrained. Once downloaded, models are loaded locally."
   ]
  },
  {
   "cell_type": "code",
   "execution_count": 28,
   "metadata": {},
   "outputs": [],
   "source": [
    "from src.model.model import get_model\n",
    "\n",
    "model_opt125, tokenizer_opt125 = get_model('opt-125m')\n",
    "model_opt350, tokenizer_opt350 = get_model('opt-350m')"
   ]
  },
  {
   "cell_type": "markdown",
   "metadata": {},
   "source": [
    "### Few-shot finetuning\n",
    "\n",
    "Perform few-shot fine-tuning using the fine_tune method from /src/finetuners/fewshot.py. This method requires model, tokenizers, and datasets to be passed in as parameters. It returns training and evaluation metrics."
   ]
  },
  {
   "cell_type": "code",
   "execution_count": 29,
   "metadata": {},
   "outputs": [
    {
     "name": "stderr",
     "output_type": "stream",
     "text": [
      "100%|██████████| 40/40 [00:09<00:00,  4.43it/s]\n"
     ]
    },
    {
     "name": "stdout",
     "output_type": "stream",
     "text": [
      "{'train_runtime': 9.0265, 'train_samples_per_second': 8.863, 'train_steps_per_second': 4.431, 'train_loss': 0.061122357845306396, 'epoch': 40.0, 'train_peak_memory_gb': 3.459456443786621}\n"
     ]
    },
    {
     "name": "stderr",
     "output_type": "stream",
     "text": [
      "100%|██████████| 1/1 [00:02<00:00,  2.11s/it]\n"
     ]
    },
    {
     "data": {
      "text/plain": [
       "{'train_runtime': 9.0265,\n",
       " 'train_samples_per_second': 8.863,\n",
       " 'train_steps_per_second': 4.431,\n",
       " 'train_loss': 0.061122357845306396,\n",
       " 'epoch': 40.0,\n",
       " 'train_peak_memory_gb': 3.459456443786621,\n",
       " 'eval_loss': 5.777809143066406,\n",
       " 'eval_accuracy': 0.0,\n",
       " 'eval_runtime': 2.1711,\n",
       " 'eval_samples_per_second': 0.921,\n",
       " 'eval_steps_per_second': 0.461,\n",
       " 'eval_peak_memory_gb': 2.517092704772949}"
      ]
     },
     "execution_count": 29,
     "metadata": {},
     "output_type": "execute_result"
    }
   ],
   "source": [
    "from src.finetuners.fewshot import fine_tune\n",
    "\n",
    "train_dataset = in_domain.select(range(2))\n",
    "eval_dataset = out_domain.select(range(2))\n",
    "\n",
    "fine_tune(model=model_opt125, tokenizer=tokenizer_opt125, train_dataset=train_dataset, eval_dataset=eval_dataset)"
   ]
  },
  {
   "cell_type": "markdown",
   "metadata": {},
   "source": [
    "### Batch few-shot finetuning\n",
    "\n",
    "Perform batch few-shot fine-tuning using batch_fine_tune from /src/finetuners/fewshot.py. This method only requires model_name, datasets, sample_sizes, and num_trials. The selected model is loaded from /models/pretrained for each trial to prevent cumulative fine-tuning. sample_sizes corresponds to the number of shots used for each trial. Each trial is trained using data randomly selected from the train_dataset (in domain) by get_random_subsets from /src/utils.py. Results are written to a csv in /logs."
   ]
  },
  {
   "cell_type": "code",
   "execution_count": 30,
   "metadata": {},
   "outputs": [
    {
     "name": "stderr",
     "output_type": "stream",
     "text": [
      "2-shot: 100%|██████████| 5/5 [01:13<00:00, 14.78s/it, train_runtime=11.5, train_samples_per_second=6.93, train_steps_per_second=3.46, total_flos=2.09e+13, train_loss=0.0808, epoch=40, train_peak_memory_gb=3.95, eval_loss=0.584, eval_accuracy=0.7, eval_runtime=2.61, eval_samples_per_second=3.84, eval_steps_per_second=0.767, eval_peak_memory_gb=3.41]\n",
      "4-shot: 100%|██████████| 5/5 [09:37<00:00, 115.55s/it, train_runtime=107, train_samples_per_second=1.49, train_steps_per_second=0.372, total_flos=4.18e+13, train_loss=0.122, epoch=40, train_peak_memory_gb=5, eval_loss=0.599, eval_accuracy=0.6, eval_runtime=2.99, eval_samples_per_second=3.35, eval_steps_per_second=0.67, eval_peak_memory_gb=3.41] "
     ]
    },
    {
     "name": "stdout",
     "output_type": "stream",
     "text": [
      "{\n",
      "    \"2\": [\n",
      "        {\n",
      "            \"train_runtime\": 9.3103,\n",
      "            \"train_samples_per_second\": 8.593,\n",
      "            \"train_steps_per_second\": 4.296,\n",
      "            \"total_flos\": 20903740047360.0,\n",
      "            \"train_loss\": 0.05942646861076355,\n",
      "            \"epoch\": 40.0,\n",
      "            \"train_peak_memory_gb\": 3.9333086013793945,\n",
      "            \"eval_loss\": 0.00859286542981863,\n",
      "            \"eval_accuracy\": 1.0,\n",
      "            \"eval_runtime\": 2.3645,\n",
      "            \"eval_samples_per_second\": 4.229,\n",
      "            \"eval_steps_per_second\": 0.846,\n",
      "            \"eval_peak_memory_gb\": 3.39357852935791\n",
      "        },\n",
      "        {\n",
      "            \"train_runtime\": 9.9584,\n",
      "            \"train_samples_per_second\": 8.033,\n",
      "            \"train_steps_per_second\": 4.017,\n",
      "            \"total_flos\": 20903740047360.0,\n",
      "            \"train_loss\": 0.08801689147949218,\n",
      "            \"epoch\": 40.0,\n",
      "            \"train_peak_memory_gb\": 3.9430742263793945,\n",
      "            \"eval_loss\": 0.6015669107437134,\n",
      "            \"eval_accuracy\": 0.7,\n",
      "            \"eval_runtime\": 2.3496,\n",
      "            \"eval_samples_per_second\": 4.256,\n",
      "            \"eval_steps_per_second\": 0.851,\n",
      "            \"eval_peak_memory_gb\": 3.40236759185791\n",
      "        },\n",
      "        {\n",
      "            \"train_runtime\": 10.9114,\n",
      "            \"train_samples_per_second\": 7.332,\n",
      "            \"train_steps_per_second\": 3.666,\n",
      "            \"total_flos\": 20903740047360.0,\n",
      "            \"train_loss\": 0.05300096273422241,\n",
      "            \"epoch\": 40.0,\n",
      "            \"train_peak_memory_gb\": 3.9486780166625977,\n",
      "            \"eval_loss\": 0.005497413221746683,\n",
      "            \"eval_accuracy\": 1.0,\n",
      "            \"eval_runtime\": 2.5359,\n",
      "            \"eval_samples_per_second\": 3.943,\n",
      "            \"eval_steps_per_second\": 0.789,\n",
      "            \"eval_peak_memory_gb\": 3.4079713821411133\n",
      "        },\n",
      "        {\n",
      "            \"train_runtime\": 11.0527,\n",
      "            \"train_samples_per_second\": 7.238,\n",
      "            \"train_steps_per_second\": 3.619,\n",
      "            \"total_flos\": 20903740047360.0,\n",
      "            \"train_loss\": 0.09598073959350586,\n",
      "            \"epoch\": 40.0,\n",
      "            \"train_peak_memory_gb\": 3.9462480545043945,\n",
      "            \"eval_loss\": 0.005744519643485546,\n",
      "            \"eval_accuracy\": 1.0,\n",
      "            \"eval_runtime\": 2.8151,\n",
      "            \"eval_samples_per_second\": 3.552,\n",
      "            \"eval_steps_per_second\": 0.71,\n",
      "            \"eval_peak_memory_gb\": 3.4050474166870117\n",
      "        },\n",
      "        {\n",
      "            \"train_runtime\": 11.5472,\n",
      "            \"train_samples_per_second\": 6.928,\n",
      "            \"train_steps_per_second\": 3.464,\n",
      "            \"total_flos\": 20903740047360.0,\n",
      "            \"train_loss\": 0.08078636527061463,\n",
      "            \"epoch\": 40.0,\n",
      "            \"train_peak_memory_gb\": 3.9462480545043945,\n",
      "            \"eval_loss\": 0.5843403935432434,\n",
      "            \"eval_accuracy\": 0.7,\n",
      "            \"eval_runtime\": 2.6066,\n",
      "            \"eval_samples_per_second\": 3.836,\n",
      "            \"eval_steps_per_second\": 0.767,\n",
      "            \"eval_peak_memory_gb\": 3.4057798385620117\n",
      "        }\n",
      "    ],\n",
      "    \"4\": [\n",
      "        {\n",
      "            \"train_runtime\": 107.2109,\n",
      "            \"train_samples_per_second\": 1.492,\n",
      "            \"train_steps_per_second\": 0.373,\n",
      "            \"total_flos\": 41807480094720.0,\n",
      "            \"train_loss\": 0.11859711408615112,\n",
      "            \"epoch\": 40.0,\n",
      "            \"train_peak_memory_gb\": 5.002720832824707,\n",
      "            \"eval_loss\": 0.9265056848526001,\n",
      "            \"eval_accuracy\": 0.3,\n",
      "            \"eval_runtime\": 2.8354,\n",
      "            \"eval_samples_per_second\": 3.527,\n",
      "            \"eval_steps_per_second\": 0.705,\n",
      "            \"eval_peak_memory_gb\": 3.4079771041870117\n",
      "        },\n",
      "        {\n",
      "            \"train_runtime\": 105.3266,\n",
      "            \"train_samples_per_second\": 1.519,\n",
      "            \"train_steps_per_second\": 0.38,\n",
      "            \"total_flos\": 41807480094720.0,\n",
      "            \"train_loss\": 0.09925844073295594,\n",
      "            \"epoch\": 40.0,\n",
      "            \"train_peak_memory_gb\": 5.002720832824707,\n",
      "            \"eval_loss\": 0.4632607102394104,\n",
      "            \"eval_accuracy\": 0.9,\n",
      "            \"eval_runtime\": 12.9813,\n",
      "            \"eval_samples_per_second\": 0.77,\n",
      "            \"eval_steps_per_second\": 0.154,\n",
      "            \"eval_peak_memory_gb\": 3.4079771041870117\n",
      "        },\n",
      "        {\n",
      "            \"train_runtime\": 109.9449,\n",
      "            \"train_samples_per_second\": 1.455,\n",
      "            \"train_steps_per_second\": 0.364,\n",
      "            \"total_flos\": 41807480094720.0,\n",
      "            \"train_loss\": 0.06952434778213501,\n",
      "            \"epoch\": 40.0,\n",
      "            \"train_peak_memory_gb\": 5.002720832824707,\n",
      "            \"eval_loss\": 0.17885951697826385,\n",
      "            \"eval_accuracy\": 1.0,\n",
      "            \"eval_runtime\": 3.001,\n",
      "            \"eval_samples_per_second\": 3.332,\n",
      "            \"eval_steps_per_second\": 0.666,\n",
      "            \"eval_peak_memory_gb\": 3.4079771041870117\n",
      "        },\n",
      "        {\n",
      "            \"train_runtime\": 111.347,\n",
      "            \"train_samples_per_second\": 1.437,\n",
      "            \"train_steps_per_second\": 0.359,\n",
      "            \"total_flos\": 41807480094720.0,\n",
      "            \"train_loss\": 0.11014838218688965,\n",
      "            \"epoch\": 40.0,\n",
      "            \"train_peak_memory_gb\": 5.002720832824707,\n",
      "            \"eval_loss\": 0.8544049263000488,\n",
      "            \"eval_accuracy\": 0.3,\n",
      "            \"eval_runtime\": 3.2867,\n",
      "            \"eval_samples_per_second\": 3.043,\n",
      "            \"eval_steps_per_second\": 0.609,\n",
      "            \"eval_peak_memory_gb\": 3.4079771041870117\n",
      "        },\n",
      "        {\n",
      "            \"train_runtime\": 107.477,\n",
      "            \"train_samples_per_second\": 1.489,\n",
      "            \"train_steps_per_second\": 0.372,\n",
      "            \"total_flos\": 41807480094720.0,\n",
      "            \"train_loss\": 0.12173117399215698,\n",
      "            \"epoch\": 40.0,\n",
      "            \"train_peak_memory_gb\": 5.002720832824707,\n",
      "            \"eval_loss\": 0.598716676235199,\n",
      "            \"eval_accuracy\": 0.6,\n",
      "            \"eval_runtime\": 2.9869,\n",
      "            \"eval_samples_per_second\": 3.348,\n",
      "            \"eval_steps_per_second\": 0.67,\n",
      "            \"eval_peak_memory_gb\": 3.4079771041870117\n",
      "        }\n",
      "    ]\n",
      "}\n"
     ]
    },
    {
     "name": "stderr",
     "output_type": "stream",
     "text": [
      "\n"
     ]
    }
   ],
   "source": [
    "from src.finetuners.fewshot import batch_fine_tune\n",
    "import json\n",
    "\n",
    "eval_dataset = out_domain.select(range(10)) # This needs to be changed... how much of the OOD should we use?\n",
    "\n",
    "results = batch_fine_tune(model_name='opt-125m', train_dataset=in_domain, eval_dataset=eval_dataset, sample_sizes=[2, 4], num_trials=5)\n",
    "\n",
    "print(json.dumps(results, indent=4))"
   ]
  }
 ],
 "metadata": {
  "kernelspec": {
   "display_name": "fine-tuning",
   "language": "python",
   "name": "python3"
  },
  "language_info": {
   "codemirror_mode": {
    "name": "ipython",
    "version": 3
   },
   "file_extension": ".py",
   "mimetype": "text/x-python",
   "name": "python",
   "nbconvert_exporter": "python",
   "pygments_lexer": "ipython3",
   "version": "3.10.9"
  }
 },
 "nbformat": 4,
 "nbformat_minor": 2
}
