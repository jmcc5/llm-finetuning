{
 "cells": [
  {
   "cell_type": "markdown",
   "metadata": {},
   "source": [
    "# Test"
   ]
  },
  {
   "cell_type": "code",
   "execution_count": 1,
   "metadata": {},
   "outputs": [],
   "source": [
    "%load_ext autoreload\n",
    "%autoreload 2"
   ]
  },
  {
   "cell_type": "markdown",
   "metadata": {},
   "source": [
    "### Import datasets\n",
    "\n",
    "Import datasets using functions from src/data/data.py. Datasets are downloaded from huggingface and stored in /data. Once downloaded, datasets are loaded locally.\n",
    "\n",
    "Run ```pip install -e .``` if module importing isn't working."
   ]
  },
  {
   "cell_type": "code",
   "execution_count": 2,
   "metadata": {},
   "outputs": [
    {
     "name": "stdout",
     "output_type": "stream",
     "text": [
      "In domain (MNLI):\n",
      "Dataset({\n",
      "    features: ['premise', 'hypothesis', 'label', 'idx'],\n",
      "    num_rows: 261802\n",
      "})\n",
      "{'hypothesis': 'A member of my team will execute your orders with immense '\n",
      "               'precision.',\n",
      " 'idx': 2,\n",
      " 'label': 0,\n",
      " 'premise': 'One of our number will carry out your instructions minutely.'}\n",
      "\n",
      "Out of domain (HANS):\n",
      "Dataset({\n",
      "    features: ['premise', 'hypothesis', 'label', 'parse_premise', 'parse_hypothesis', 'binary_parse_premise', 'binary_parse_hypothesis', 'heuristic', 'subcase', 'template'],\n",
      "    num_rows: 10000\n",
      "})\n",
      "{'binary_parse_hypothesis': '( ( The athlete ) ( ( avoided ( the president ) ) '\n",
      "                            '. ) )',\n",
      " 'binary_parse_premise': '( ( The president ) ( ( avoided ( the athlete ) ) . '\n",
      "                         ') )',\n",
      " 'heuristic': 'lexical_overlap',\n",
      " 'hypothesis': 'The athlete avoided the president .',\n",
      " 'label': 1,\n",
      " 'parse_hypothesis': '(ROOT (S (NP (DT The) (NN athlete)) (VP (VBD avoided) '\n",
      "                     '(NP (DT the) (NN president))) (. .)))',\n",
      " 'parse_premise': '(ROOT (S (NP (DT The) (NN president)) (VP (VBD avoided) (NP '\n",
      "                  '(DT the) (NN athlete))) (. .)))',\n",
      " 'premise': 'The president avoided the athlete .',\n",
      " 'subcase': 'ln_subject/object_swap',\n",
      " 'template': 'temp1'}\n"
     ]
    }
   ],
   "source": [
    "import pprint\n",
    "from src.data.data import get_in_domain, get_out_domain\n",
    "\n",
    "in_domain_train, in_domain_test = get_in_domain()\n",
    "out_domain = get_out_domain()\n",
    "\n",
    "print(f\"In domain (MNLI):\\n{in_domain_train}\")\n",
    "pprint.pprint(in_domain_train[1])\n",
    "\n",
    "print(f\"\\nOut of domain (HANS):\\n{out_domain}\")\n",
    "pprint.pprint(out_domain[10])"
   ]
  },
  {
   "cell_type": "markdown",
   "metadata": {},
   "source": [
    "### Import models\n",
    "\n",
    "Import models using methods from src/models/opt.py. Models are downloaded from huggingface and stored in /models/pretrained. Once downloaded, models are loaded locally."
   ]
  },
  {
   "cell_type": "code",
   "execution_count": 17,
   "metadata": {},
   "outputs": [
    {
     "name": "stdout",
     "output_type": "stream",
     "text": [
      "trainable params: 167424 || all params: 125389824 || trainable%: 0.13%\n",
      "cuda:0\n",
      "trainable params: 443392 || all params: 331591680 || trainable%: 0.13%\n"
     ]
    }
   ],
   "source": [
    "from src.model.model import get_model, get_lora_model, print_trainable_parameters\n",
    "\n",
    "# Get SequenceClassification models\n",
    "model_opt125, tokenizer_opt125 = get_lora_model(model_name='opt-125m')\n",
    "model_opt350, tokenizer_opt350 = get_lora_model(model_name='opt-350m')\n",
    "\n",
    "print_trainable_parameters(model_opt125)\n",
    "print_trainable_parameters(model_opt350)"
   ]
  },
  {
   "cell_type": "markdown",
   "metadata": {},
   "source": [
    "### Few-shot finetuning\n",
    "\n",
    "Perform few-shot fine-tuning using the fine_tune method from /src/finetuners/fewshot.py. This method requires model, tokenizers, and datasets to be passed in as parameters. It returns training and evaluation metrics."
   ]
  },
  {
   "cell_type": "code",
   "execution_count": 15,
   "metadata": {},
   "outputs": [
    {
     "name": "stdout",
     "output_type": "stream",
     "text": [
      "{'train_runtime': 21.0021, 'train_samples_per_second': 3.809, 'train_steps_per_second': 1.905, 'train_loss': 0.5477104187011719, 'epoch': 40.0, 'train_peak_memory_gb': 3.7036867141723633}\n",
      "{'eval_in_loss': 0.7475179433822632, 'eval_in_accuracy': 0.0, 'eval_in_runtime': 4.4171, 'eval_in_samples_per_second': 0.453, 'eval_in_steps_per_second': 0.226, 'epoch': 40.0, 'eval_in_peak_memory_gb': 2.6662750244140625}\n",
      "{'eval_out_loss': 1.181111216545105, 'eval_out_accuracy': 0.0, 'eval_out_runtime': 25.3023, 'eval_out_samples_per_second': 0.079, 'eval_out_steps_per_second': 0.04, 'epoch': 40.0, 'eval_out_peak_memory_gb': 2.6662750244140625}\n",
      "{'epoch': 40.0,\n",
      " 'eval_in_accuracy': 0.0,\n",
      " 'eval_in_loss': 0.7475179433822632,\n",
      " 'eval_in_peak_memory_gb': 2.6662750244140625,\n",
      " 'eval_in_runtime': 4.4171,\n",
      " 'eval_in_samples_per_second': 0.453,\n",
      " 'eval_in_steps_per_second': 0.226,\n",
      " 'eval_out_accuracy': 0.0,\n",
      " 'eval_out_loss': 1.181111216545105,\n",
      " 'eval_out_peak_memory_gb': 2.6662750244140625,\n",
      " 'eval_out_runtime': 25.3023,\n",
      " 'eval_out_samples_per_second': 0.079,\n",
      " 'eval_out_steps_per_second': 0.04,\n",
      " 'train_loss': 0.5477104187011719,\n",
      " 'train_peak_memory_gb': 3.7036867141723633,\n",
      " 'train_runtime': 21.0021,\n",
      " 'train_samples_per_second': 3.809,\n",
      " 'train_steps_per_second': 1.905}\n"
     ]
    }
   ],
   "source": [
    "from src.finetuners.fewshot_lora import fine_tune\n",
    "\n",
    "train_dataset = in_domain_train.select(range(2))\n",
    "eval_dataset_in = in_domain_test.select(range(2))\n",
    "eval_dataset_out = out_domain.select(range(2))\n",
    "\n",
    "combined_metrics, training_history = fine_tune(model=model_opt125, \n",
    "                                               tokenizer=tokenizer_opt125, \n",
    "                                               train_dataset=train_dataset, \n",
    "                                               eval_dataset_in=eval_dataset_in, \n",
    "                                               eval_dataset_out=eval_dataset_out, \n",
    "                                               val_in_training=False,\n",
    "                                               verbose=True, \n",
    "                                               disable_tqdm=True)\n",
    "\n",
    "pprint.pprint(combined_metrics)\n",
    "# print(f\"Training history:\\n{json.dumps(training_history, indent=4)}\")"
   ]
  },
  {
   "cell_type": "markdown",
   "metadata": {},
   "source": [
    "### Batch few-shot finetuning\n",
    "\n",
    "Perform batch few-shot fine-tuning using batch_fine_tune from /src/finetuners/fewshot.py. This method only requires model_name and training and eval datasets. The selected model is loaded from /models/pretrained for each trial to prevent cumulative fine-tuning. sample_sizes corresponds to the number of shots used for each trial. Each trial is trained and evaluated using data randomly selected by get_random_subsets from /src/utils.py. Results are written to a csv in /logs."
   ]
  },
  {
   "cell_type": "code",
   "execution_count": 22,
   "metadata": {},
   "outputs": [
    {
     "data": {
      "application/vnd.jupyter.widget-view+json": {
       "model_id": "6cf0d76dd6984ef9bb9472af3452759c",
       "version_major": 2,
       "version_minor": 0
      },
      "text/plain": [
       "opt-125m 2-shot:   0%|          | 0/10 [00:00<?, ?it/s]"
      ]
     },
     "metadata": {},
     "output_type": "display_data"
    },
    {
     "data": {
      "application/vnd.jupyter.widget-view+json": {
       "model_id": "0dc602799d904f6faf67c4ed8b81d6bb",
       "version_major": 2,
       "version_minor": 0
      },
      "text/plain": [
       "  0%|          | 0/40 [00:00<?, ?it/s]"
      ]
     },
     "metadata": {},
     "output_type": "display_data"
    },
    {
     "name": "stdout",
     "output_type": "stream",
     "text": [
      "{'loss': 0.7027, 'learning_rate': 2.5e-06, 'epoch': 1.0}\n"
     ]
    },
    {
     "data": {
      "application/vnd.jupyter.widget-view+json": {
       "model_id": "3381d833152c4b888521be817c7a4102",
       "version_major": 2,
       "version_minor": 0
      },
      "text/plain": [
       "  0%|          | 0/1 [00:00<?, ?it/s]"
      ]
     },
     "metadata": {},
     "output_type": "display_data"
    },
    {
     "name": "stdout",
     "output_type": "stream",
     "text": [
      "{'eval_loss': 0.6477312445640564, 'eval_accuracy': 0.6, 'eval_runtime': 14.9793, 'eval_samples_per_second': 0.668, 'eval_steps_per_second': 0.067, 'epoch': 1.0}\n",
      "{'loss': 0.7276, 'learning_rate': 5e-06, 'epoch': 2.0}\n"
     ]
    },
    {
     "data": {
      "application/vnd.jupyter.widget-view+json": {
       "model_id": "7b831798ed50405c88f718dabd37f45b",
       "version_major": 2,
       "version_minor": 0
      },
      "text/plain": [
       "  0%|          | 0/1 [00:00<?, ?it/s]"
      ]
     },
     "metadata": {},
     "output_type": "display_data"
    },
    {
     "name": "stdout",
     "output_type": "stream",
     "text": [
      "{'eval_loss': 0.6476474404335022, 'eval_accuracy': 0.6, 'eval_runtime': 15.2284, 'eval_samples_per_second': 0.657, 'eval_steps_per_second': 0.066, 'epoch': 2.0}\n",
      "{'loss': 0.5851, 'learning_rate': 7.500000000000001e-06, 'epoch': 3.0}\n"
     ]
    },
    {
     "data": {
      "application/vnd.jupyter.widget-view+json": {
       "model_id": "278545ac9c124ca2bdde5df018da9ae3",
       "version_major": 2,
       "version_minor": 0
      },
      "text/plain": [
       "  0%|          | 0/1 [00:00<?, ?it/s]"
      ]
     },
     "metadata": {},
     "output_type": "display_data"
    },
    {
     "name": "stdout",
     "output_type": "stream",
     "text": [
      "{'eval_loss': 0.6474765539169312, 'eval_accuracy': 0.6, 'eval_runtime': 14.716, 'eval_samples_per_second': 0.68, 'eval_steps_per_second': 0.068, 'epoch': 3.0}\n",
      "{'loss': 0.6055, 'learning_rate': 1e-05, 'epoch': 4.0}\n"
     ]
    },
    {
     "data": {
      "application/vnd.jupyter.widget-view+json": {
       "model_id": "a03fb85d8cea41b69bfa50be233f2464",
       "version_major": 2,
       "version_minor": 0
      },
      "text/plain": [
       "  0%|          | 0/1 [00:00<?, ?it/s]"
      ]
     },
     "metadata": {},
     "output_type": "display_data"
    },
    {
     "name": "stdout",
     "output_type": "stream",
     "text": [
      "{'eval_loss': 0.6471228003501892, 'eval_accuracy': 0.6, 'eval_runtime': 14.963, 'eval_samples_per_second': 0.668, 'eval_steps_per_second': 0.067, 'epoch': 4.0}\n",
      "{'loss': 0.6714, 'learning_rate': 9.722222222222223e-06, 'epoch': 5.0}\n"
     ]
    },
    {
     "data": {
      "application/vnd.jupyter.widget-view+json": {
       "model_id": "95bf7489d2574ebfaf0c4279b4cbe0b5",
       "version_major": 2,
       "version_minor": 0
      },
      "text/plain": [
       "  0%|          | 0/1 [00:00<?, ?it/s]"
      ]
     },
     "metadata": {},
     "output_type": "display_data"
    },
    {
     "name": "stdout",
     "output_type": "stream",
     "text": [
      "{'eval_loss': 0.6466127634048462, 'eval_accuracy': 0.6, 'eval_runtime': 14.7724, 'eval_samples_per_second': 0.677, 'eval_steps_per_second': 0.068, 'epoch': 5.0}\n",
      "{'loss': 0.6169, 'learning_rate': 9.444444444444445e-06, 'epoch': 6.0}\n"
     ]
    },
    {
     "data": {
      "application/vnd.jupyter.widget-view+json": {
       "model_id": "9bd971efc1614e9f811b7bfd7fd5ca7d",
       "version_major": 2,
       "version_minor": 0
      },
      "text/plain": [
       "  0%|          | 0/1 [00:00<?, ?it/s]"
      ]
     },
     "metadata": {},
     "output_type": "display_data"
    },
    {
     "name": "stdout",
     "output_type": "stream",
     "text": [
      "{'eval_loss': 0.6461018323898315, 'eval_accuracy': 0.6, 'eval_runtime': 14.6962, 'eval_samples_per_second': 0.68, 'eval_steps_per_second': 0.068, 'epoch': 6.0}\n",
      "{'loss': 0.5158, 'learning_rate': 9.166666666666666e-06, 'epoch': 7.0}\n"
     ]
    },
    {
     "data": {
      "application/vnd.jupyter.widget-view+json": {
       "model_id": "8f0c8cb3ff4a490cb057a3882c8fb93a",
       "version_major": 2,
       "version_minor": 0
      },
      "text/plain": [
       "  0%|          | 0/1 [00:00<?, ?it/s]"
      ]
     },
     "metadata": {},
     "output_type": "display_data"
    },
    {
     "name": "stdout",
     "output_type": "stream",
     "text": [
      "{'eval_loss': 0.6455480456352234, 'eval_accuracy': 0.6, 'eval_runtime': 14.7038, 'eval_samples_per_second': 0.68, 'eval_steps_per_second': 0.068, 'epoch': 7.0}\n",
      "{'loss': 0.6764, 'learning_rate': 8.888888888888888e-06, 'epoch': 8.0}\n"
     ]
    },
    {
     "data": {
      "application/vnd.jupyter.widget-view+json": {
       "model_id": "7983c1c6957e4ecf9b204a8c8ec797c3",
       "version_major": 2,
       "version_minor": 0
      },
      "text/plain": [
       "  0%|          | 0/1 [00:00<?, ?it/s]"
      ]
     },
     "metadata": {},
     "output_type": "display_data"
    },
    {
     "name": "stdout",
     "output_type": "stream",
     "text": [
      "{'eval_loss': 0.6451296806335449, 'eval_accuracy': 0.6, 'eval_runtime': 14.7796, 'eval_samples_per_second': 0.677, 'eval_steps_per_second': 0.068, 'epoch': 8.0}\n",
      "{'loss': 0.6064, 'learning_rate': 8.611111111111112e-06, 'epoch': 9.0}\n"
     ]
    },
    {
     "data": {
      "application/vnd.jupyter.widget-view+json": {
       "model_id": "1e0d268b83cb4968a380f9d6687ff875",
       "version_major": 2,
       "version_minor": 0
      },
      "text/plain": [
       "  0%|          | 0/1 [00:00<?, ?it/s]"
      ]
     },
     "metadata": {},
     "output_type": "display_data"
    },
    {
     "name": "stdout",
     "output_type": "stream",
     "text": [
      "{'eval_loss': 0.6446970701217651, 'eval_accuracy': 0.6, 'eval_runtime': 14.7905, 'eval_samples_per_second': 0.676, 'eval_steps_per_second': 0.068, 'epoch': 9.0}\n",
      "{'loss': 0.5388, 'learning_rate': 8.333333333333334e-06, 'epoch': 10.0}\n"
     ]
    },
    {
     "data": {
      "application/vnd.jupyter.widget-view+json": {
       "model_id": "23728d47b7034131b9df9e5b27677c3a",
       "version_major": 2,
       "version_minor": 0
      },
      "text/plain": [
       "  0%|          | 0/1 [00:00<?, ?it/s]"
      ]
     },
     "metadata": {},
     "output_type": "display_data"
    },
    {
     "name": "stdout",
     "output_type": "stream",
     "text": [
      "{'eval_loss': 0.6442745923995972, 'eval_accuracy': 0.6, 'eval_runtime': 14.6644, 'eval_samples_per_second': 0.682, 'eval_steps_per_second': 0.068, 'epoch': 10.0}\n",
      "{'loss': 0.7458, 'learning_rate': 8.055555555555557e-06, 'epoch': 11.0}\n"
     ]
    },
    {
     "data": {
      "application/vnd.jupyter.widget-view+json": {
       "model_id": "9226a04752c74dc8bee15313b35a5f37",
       "version_major": 2,
       "version_minor": 0
      },
      "text/plain": [
       "  0%|          | 0/1 [00:00<?, ?it/s]"
      ]
     },
     "metadata": {},
     "output_type": "display_data"
    },
    {
     "name": "stdout",
     "output_type": "stream",
     "text": [
      "{'eval_loss': 0.6438366174697876, 'eval_accuracy': 0.6, 'eval_runtime': 14.6673, 'eval_samples_per_second': 0.682, 'eval_steps_per_second': 0.068, 'epoch': 11.0}\n",
      "{'loss': 0.5946, 'learning_rate': 7.77777777777778e-06, 'epoch': 12.0}\n"
     ]
    },
    {
     "data": {
      "application/vnd.jupyter.widget-view+json": {
       "model_id": "cd4505e951ee40c7a1139835f164fbf3",
       "version_major": 2,
       "version_minor": 0
      },
      "text/plain": [
       "  0%|          | 0/1 [00:00<?, ?it/s]"
      ]
     },
     "metadata": {},
     "output_type": "display_data"
    },
    {
     "name": "stdout",
     "output_type": "stream",
     "text": [
      "{'eval_loss': 0.6433802843093872, 'eval_accuracy': 0.6, 'eval_runtime': 14.8121, 'eval_samples_per_second': 0.675, 'eval_steps_per_second': 0.068, 'epoch': 12.0}\n",
      "{'loss': 0.6504, 'learning_rate': 7.500000000000001e-06, 'epoch': 13.0}\n"
     ]
    },
    {
     "data": {
      "application/vnd.jupyter.widget-view+json": {
       "model_id": "7b154e79cd0b497399812ab6a10ad2ad",
       "version_major": 2,
       "version_minor": 0
      },
      "text/plain": [
       "  0%|          | 0/1 [00:00<?, ?it/s]"
      ]
     },
     "metadata": {},
     "output_type": "display_data"
    },
    {
     "name": "stdout",
     "output_type": "stream",
     "text": [
      "{'eval_loss': 0.643022894859314, 'eval_accuracy': 0.6, 'eval_runtime': 15.1261, 'eval_samples_per_second': 0.661, 'eval_steps_per_second': 0.066, 'epoch': 13.0}\n",
      "{'loss': 0.5804, 'learning_rate': 7.222222222222223e-06, 'epoch': 14.0}\n"
     ]
    },
    {
     "data": {
      "application/vnd.jupyter.widget-view+json": {
       "model_id": "cb25a539a97b48d2bafb65d0afd08ccc",
       "version_major": 2,
       "version_minor": 0
      },
      "text/plain": [
       "  0%|          | 0/1 [00:00<?, ?it/s]"
      ]
     },
     "metadata": {},
     "output_type": "display_data"
    },
    {
     "name": "stdout",
     "output_type": "stream",
     "text": [
      "{'eval_loss': 0.6427289843559265, 'eval_accuracy': 0.6, 'eval_runtime': 15.1065, 'eval_samples_per_second': 0.662, 'eval_steps_per_second': 0.066, 'epoch': 14.0}\n",
      "{'loss': 0.65, 'learning_rate': 6.944444444444445e-06, 'epoch': 15.0}\n"
     ]
    },
    {
     "data": {
      "application/vnd.jupyter.widget-view+json": {
       "model_id": "8a294577799a4069be6acd6551b1e419",
       "version_major": 2,
       "version_minor": 0
      },
      "text/plain": [
       "  0%|          | 0/1 [00:00<?, ?it/s]"
      ]
     },
     "metadata": {},
     "output_type": "display_data"
    },
    {
     "name": "stdout",
     "output_type": "stream",
     "text": [
      "{'eval_loss': 0.6424619555473328, 'eval_accuracy': 0.7, 'eval_runtime': 15.1505, 'eval_samples_per_second': 0.66, 'eval_steps_per_second': 0.066, 'epoch': 15.0}\n",
      "{'loss': 0.6687, 'learning_rate': 6.666666666666667e-06, 'epoch': 16.0}\n"
     ]
    },
    {
     "data": {
      "application/vnd.jupyter.widget-view+json": {
       "model_id": "1ba7a96ed4f94fad9aedc981cc5a25f1",
       "version_major": 2,
       "version_minor": 0
      },
      "text/plain": [
       "  0%|          | 0/1 [00:00<?, ?it/s]"
      ]
     },
     "metadata": {},
     "output_type": "display_data"
    },
    {
     "name": "stdout",
     "output_type": "stream",
     "text": [
      "{'eval_loss': 0.6421907544136047, 'eval_accuracy': 0.7, 'eval_runtime': 15.4627, 'eval_samples_per_second': 0.647, 'eval_steps_per_second': 0.065, 'epoch': 16.0}\n",
      "{'loss': 0.6278, 'learning_rate': 6.3888888888888885e-06, 'epoch': 17.0}\n"
     ]
    },
    {
     "data": {
      "application/vnd.jupyter.widget-view+json": {
       "model_id": "d8d746e47bbc46b9aeb6102295bac2de",
       "version_major": 2,
       "version_minor": 0
      },
      "text/plain": [
       "  0%|          | 0/1 [00:00<?, ?it/s]"
      ]
     },
     "metadata": {},
     "output_type": "display_data"
    },
    {
     "name": "stdout",
     "output_type": "stream",
     "text": [
      "{'eval_loss': 0.6419511437416077, 'eval_accuracy': 0.7, 'eval_runtime': 15.0513, 'eval_samples_per_second': 0.664, 'eval_steps_per_second': 0.066, 'epoch': 17.0}\n",
      "{'loss': 0.561, 'learning_rate': 6.111111111111112e-06, 'epoch': 18.0}\n"
     ]
    },
    {
     "data": {
      "application/vnd.jupyter.widget-view+json": {
       "model_id": "0d9b7e713ae84783ae97e4161b5f533a",
       "version_major": 2,
       "version_minor": 0
      },
      "text/plain": [
       "  0%|          | 0/1 [00:00<?, ?it/s]"
      ]
     },
     "metadata": {},
     "output_type": "display_data"
    },
    {
     "name": "stdout",
     "output_type": "stream",
     "text": [
      "{'eval_loss': 0.641779899597168, 'eval_accuracy': 0.7, 'eval_runtime': 15.0454, 'eval_samples_per_second': 0.665, 'eval_steps_per_second': 0.066, 'epoch': 18.0}\n",
      "{'loss': 0.6936, 'learning_rate': 5.833333333333334e-06, 'epoch': 19.0}\n"
     ]
    },
    {
     "data": {
      "application/vnd.jupyter.widget-view+json": {
       "model_id": "a44fdd1bbaf64f0cb1dc0c86c1d2f199",
       "version_major": 2,
       "version_minor": 0
      },
      "text/plain": [
       "  0%|          | 0/1 [00:00<?, ?it/s]"
      ]
     },
     "metadata": {},
     "output_type": "display_data"
    },
    {
     "name": "stdout",
     "output_type": "stream",
     "text": [
      "{'eval_loss': 0.6416970491409302, 'eval_accuracy': 0.7, 'eval_runtime': 15.1097, 'eval_samples_per_second': 0.662, 'eval_steps_per_second': 0.066, 'epoch': 19.0}\n",
      "{'loss': 0.4614, 'learning_rate': 5.555555555555557e-06, 'epoch': 20.0}\n"
     ]
    },
    {
     "data": {
      "application/vnd.jupyter.widget-view+json": {
       "model_id": "c8112d9fad7340c8a592734aaeb51636",
       "version_major": 2,
       "version_minor": 0
      },
      "text/plain": [
       "  0%|          | 0/1 [00:00<?, ?it/s]"
      ]
     },
     "metadata": {},
     "output_type": "display_data"
    },
    {
     "name": "stdout",
     "output_type": "stream",
     "text": [
      "{'eval_loss': 0.6415835618972778, 'eval_accuracy': 0.7, 'eval_runtime': 15.0496, 'eval_samples_per_second': 0.664, 'eval_steps_per_second': 0.066, 'epoch': 20.0}\n",
      "{'loss': 0.4991, 'learning_rate': 5.2777777777777785e-06, 'epoch': 21.0}\n"
     ]
    },
    {
     "data": {
      "application/vnd.jupyter.widget-view+json": {
       "model_id": "6fd481cb10ee4305a25384f353226c96",
       "version_major": 2,
       "version_minor": 0
      },
      "text/plain": [
       "  0%|          | 0/1 [00:00<?, ?it/s]"
      ]
     },
     "metadata": {},
     "output_type": "display_data"
    },
    {
     "name": "stdout",
     "output_type": "stream",
     "text": [
      "{'eval_loss': 0.6415632963180542, 'eval_accuracy': 0.7, 'eval_runtime': 15.1845, 'eval_samples_per_second': 0.659, 'eval_steps_per_second': 0.066, 'epoch': 21.0}\n",
      "{'loss': 0.5047, 'learning_rate': 5e-06, 'epoch': 22.0}\n"
     ]
    },
    {
     "data": {
      "application/vnd.jupyter.widget-view+json": {
       "model_id": "edcee340cae14784a77c893d4f40ac33",
       "version_major": 2,
       "version_minor": 0
      },
      "text/plain": [
       "  0%|          | 0/1 [00:00<?, ?it/s]"
      ]
     },
     "metadata": {},
     "output_type": "display_data"
    },
    {
     "name": "stdout",
     "output_type": "stream",
     "text": [
      "{'eval_loss': 0.6415778994560242, 'eval_accuracy': 0.7, 'eval_runtime': 15.1817, 'eval_samples_per_second': 0.659, 'eval_steps_per_second': 0.066, 'epoch': 22.0}\n",
      "{'loss': 0.6059, 'learning_rate': 4.722222222222222e-06, 'epoch': 23.0}\n"
     ]
    },
    {
     "data": {
      "application/vnd.jupyter.widget-view+json": {
       "model_id": "5670834aefc542be8c80d1cffa8fbc3a",
       "version_major": 2,
       "version_minor": 0
      },
      "text/plain": [
       "  0%|          | 0/1 [00:00<?, ?it/s]"
      ]
     },
     "metadata": {},
     "output_type": "display_data"
    },
    {
     "name": "stdout",
     "output_type": "stream",
     "text": [
      "{'eval_loss': 0.6416023969650269, 'eval_accuracy': 0.7, 'eval_runtime': 15.1159, 'eval_samples_per_second': 0.662, 'eval_steps_per_second': 0.066, 'epoch': 23.0}\n",
      "{'loss': 0.7042, 'learning_rate': 4.444444444444444e-06, 'epoch': 24.0}\n"
     ]
    },
    {
     "data": {
      "application/vnd.jupyter.widget-view+json": {
       "model_id": "e6559f95a1d64a098c02365038442071",
       "version_major": 2,
       "version_minor": 0
      },
      "text/plain": [
       "  0%|          | 0/1 [00:00<?, ?it/s]"
      ]
     },
     "metadata": {},
     "output_type": "display_data"
    },
    {
     "name": "stdout",
     "output_type": "stream",
     "text": [
      "{'eval_loss': 0.6416759490966797, 'eval_accuracy': 0.7, 'eval_runtime': 15.3428, 'eval_samples_per_second': 0.652, 'eval_steps_per_second': 0.065, 'epoch': 24.0}\n",
      "{'loss': 0.601, 'learning_rate': 4.166666666666667e-06, 'epoch': 25.0}\n"
     ]
    },
    {
     "data": {
      "application/vnd.jupyter.widget-view+json": {
       "model_id": "0d2d176f208c416c8ac0be3af822140b",
       "version_major": 2,
       "version_minor": 0
      },
      "text/plain": [
       "  0%|          | 0/1 [00:00<?, ?it/s]"
      ]
     },
     "metadata": {},
     "output_type": "display_data"
    },
    {
     "name": "stdout",
     "output_type": "stream",
     "text": [
      "{'eval_loss': 0.6417379379272461, 'eval_accuracy': 0.7, 'eval_runtime': 16.6013, 'eval_samples_per_second': 0.602, 'eval_steps_per_second': 0.06, 'epoch': 25.0}\n",
      "{'loss': 0.6047, 'learning_rate': 3.88888888888889e-06, 'epoch': 26.0}\n"
     ]
    },
    {
     "data": {
      "application/vnd.jupyter.widget-view+json": {
       "model_id": "52974b0840b4495c816abdc3c3f902b0",
       "version_major": 2,
       "version_minor": 0
      },
      "text/plain": [
       "  0%|          | 0/1 [00:00<?, ?it/s]"
      ]
     },
     "metadata": {},
     "output_type": "display_data"
    },
    {
     "name": "stdout",
     "output_type": "stream",
     "text": [
      "{'eval_loss': 0.6417974233627319, 'eval_accuracy': 0.7, 'eval_runtime': 17.9254, 'eval_samples_per_second': 0.558, 'eval_steps_per_second': 0.056, 'epoch': 26.0}\n",
      "{'loss': 0.6334, 'learning_rate': 3.6111111111111115e-06, 'epoch': 27.0}\n"
     ]
    },
    {
     "data": {
      "application/vnd.jupyter.widget-view+json": {
       "model_id": "c821d99f118c4f148ef9aae52379c1b6",
       "version_major": 2,
       "version_minor": 0
      },
      "text/plain": [
       "  0%|          | 0/1 [00:00<?, ?it/s]"
      ]
     },
     "metadata": {},
     "output_type": "display_data"
    },
    {
     "name": "stdout",
     "output_type": "stream",
     "text": [
      "{'eval_loss': 0.6418706178665161, 'eval_accuracy': 0.7, 'eval_runtime': 17.2369, 'eval_samples_per_second': 0.58, 'eval_steps_per_second': 0.058, 'epoch': 27.0}\n",
      "{'loss': 0.5907, 'learning_rate': 3.3333333333333333e-06, 'epoch': 28.0}\n"
     ]
    },
    {
     "data": {
      "application/vnd.jupyter.widget-view+json": {
       "model_id": "7ee31808b3074332a5bebc3189135a4f",
       "version_major": 2,
       "version_minor": 0
      },
      "text/plain": [
       "  0%|          | 0/1 [00:00<?, ?it/s]"
      ]
     },
     "metadata": {},
     "output_type": "display_data"
    },
    {
     "name": "stdout",
     "output_type": "stream",
     "text": [
      "{'eval_loss': 0.6419126391410828, 'eval_accuracy': 0.7, 'eval_runtime': 15.3015, 'eval_samples_per_second': 0.654, 'eval_steps_per_second': 0.065, 'epoch': 28.0}\n",
      "{'loss': 0.5742, 'learning_rate': 3.055555555555556e-06, 'epoch': 29.0}\n"
     ]
    },
    {
     "data": {
      "application/vnd.jupyter.widget-view+json": {
       "model_id": "94f26596f27143c59e95f7753ec0018f",
       "version_major": 2,
       "version_minor": 0
      },
      "text/plain": [
       "  0%|          | 0/1 [00:00<?, ?it/s]"
      ]
     },
     "metadata": {},
     "output_type": "display_data"
    },
    {
     "name": "stdout",
     "output_type": "stream",
     "text": [
      "{'eval_loss': 0.6419821381568909, 'eval_accuracy': 0.7, 'eval_runtime': 15.3551, 'eval_samples_per_second': 0.651, 'eval_steps_per_second': 0.065, 'epoch': 29.0}\n",
      "{'loss': 0.4417, 'learning_rate': 2.7777777777777783e-06, 'epoch': 30.0}\n"
     ]
    },
    {
     "data": {
      "application/vnd.jupyter.widget-view+json": {
       "model_id": "e6cf1041f8694c9888cc515e0785c1cb",
       "version_major": 2,
       "version_minor": 0
      },
      "text/plain": [
       "  0%|          | 0/1 [00:00<?, ?it/s]"
      ]
     },
     "metadata": {},
     "output_type": "display_data"
    },
    {
     "name": "stdout",
     "output_type": "stream",
     "text": [
      "{'eval_loss': 0.6420227289199829, 'eval_accuracy': 0.7, 'eval_runtime': 14.9931, 'eval_samples_per_second': 0.667, 'eval_steps_per_second': 0.067, 'epoch': 30.0}\n",
      "{'loss': 0.6507, 'learning_rate': 2.5e-06, 'epoch': 31.0}\n"
     ]
    },
    {
     "data": {
      "application/vnd.jupyter.widget-view+json": {
       "model_id": "84c588666a8f4626962a5445ad202731",
       "version_major": 2,
       "version_minor": 0
      },
      "text/plain": [
       "  0%|          | 0/1 [00:00<?, ?it/s]"
      ]
     },
     "metadata": {},
     "output_type": "display_data"
    },
    {
     "name": "stdout",
     "output_type": "stream",
     "text": [
      "{'eval_loss': 0.6420460939407349, 'eval_accuracy': 0.7, 'eval_runtime': 15.1233, 'eval_samples_per_second': 0.661, 'eval_steps_per_second': 0.066, 'epoch': 31.0}\n",
      "{'loss': 0.5699, 'learning_rate': 2.222222222222222e-06, 'epoch': 32.0}\n"
     ]
    },
    {
     "data": {
      "application/vnd.jupyter.widget-view+json": {
       "model_id": "1a1f710d1747476e859d492b727fcd36",
       "version_major": 2,
       "version_minor": 0
      },
      "text/plain": [
       "  0%|          | 0/1 [00:00<?, ?it/s]"
      ]
     },
     "metadata": {},
     "output_type": "display_data"
    },
    {
     "name": "stdout",
     "output_type": "stream",
     "text": [
      "{'eval_loss': 0.6420407295227051, 'eval_accuracy': 0.7, 'eval_runtime': 15.0891, 'eval_samples_per_second': 0.663, 'eval_steps_per_second': 0.066, 'epoch': 32.0}\n",
      "{'loss': 0.507, 'learning_rate': 1.944444444444445e-06, 'epoch': 33.0}\n"
     ]
    },
    {
     "data": {
      "application/vnd.jupyter.widget-view+json": {
       "model_id": "0037ab17e67843a690fa362a146ebd57",
       "version_major": 2,
       "version_minor": 0
      },
      "text/plain": [
       "  0%|          | 0/1 [00:00<?, ?it/s]"
      ]
     },
     "metadata": {},
     "output_type": "display_data"
    },
    {
     "name": "stdout",
     "output_type": "stream",
     "text": [
      "{'eval_loss': 0.642034113407135, 'eval_accuracy': 0.7, 'eval_runtime': 15.0191, 'eval_samples_per_second': 0.666, 'eval_steps_per_second': 0.067, 'epoch': 33.0}\n",
      "{'loss': 0.4784, 'learning_rate': 1.6666666666666667e-06, 'epoch': 34.0}\n"
     ]
    },
    {
     "data": {
      "application/vnd.jupyter.widget-view+json": {
       "model_id": "6fddc2bfb1874034a9a125cb28a2be74",
       "version_major": 2,
       "version_minor": 0
      },
      "text/plain": [
       "  0%|          | 0/1 [00:00<?, ?it/s]"
      ]
     },
     "metadata": {},
     "output_type": "display_data"
    },
    {
     "name": "stdout",
     "output_type": "stream",
     "text": [
      "{'eval_loss': 0.6420073509216309, 'eval_accuracy': 0.7, 'eval_runtime': 15.2304, 'eval_samples_per_second': 0.657, 'eval_steps_per_second': 0.066, 'epoch': 34.0}\n",
      "{'loss': 0.5185, 'learning_rate': 1.3888888888888892e-06, 'epoch': 35.0}\n"
     ]
    },
    {
     "data": {
      "application/vnd.jupyter.widget-view+json": {
       "model_id": "6266dd504d2542e3b477aca93b4ae3ed",
       "version_major": 2,
       "version_minor": 0
      },
      "text/plain": [
       "  0%|          | 0/1 [00:00<?, ?it/s]"
      ]
     },
     "metadata": {},
     "output_type": "display_data"
    },
    {
     "name": "stdout",
     "output_type": "stream",
     "text": [
      "{'eval_loss': 0.6419671773910522, 'eval_accuracy': 0.7, 'eval_runtime': 15.1305, 'eval_samples_per_second': 0.661, 'eval_steps_per_second': 0.066, 'epoch': 35.0}\n",
      "{'loss': 0.5821, 'learning_rate': 1.111111111111111e-06, 'epoch': 36.0}\n"
     ]
    },
    {
     "data": {
      "application/vnd.jupyter.widget-view+json": {
       "model_id": "5912461a32e9459c8c903015bd44619c",
       "version_major": 2,
       "version_minor": 0
      },
      "text/plain": [
       "  0%|          | 0/1 [00:00<?, ?it/s]"
      ]
     },
     "metadata": {},
     "output_type": "display_data"
    },
    {
     "name": "stdout",
     "output_type": "stream",
     "text": [
      "{'eval_loss': 0.6419402360916138, 'eval_accuracy': 0.7, 'eval_runtime': 15.0375, 'eval_samples_per_second': 0.665, 'eval_steps_per_second': 0.067, 'epoch': 36.0}\n",
      "{'loss': 0.5348, 'learning_rate': 8.333333333333333e-07, 'epoch': 37.0}\n"
     ]
    },
    {
     "data": {
      "application/vnd.jupyter.widget-view+json": {
       "model_id": "4de52c3043fa45a28a881359ae83ec85",
       "version_major": 2,
       "version_minor": 0
      },
      "text/plain": [
       "  0%|          | 0/1 [00:00<?, ?it/s]"
      ]
     },
     "metadata": {},
     "output_type": "display_data"
    },
    {
     "name": "stdout",
     "output_type": "stream",
     "text": [
      "{'eval_loss': 0.6419225931167603, 'eval_accuracy': 0.7, 'eval_runtime': 15.1483, 'eval_samples_per_second': 0.66, 'eval_steps_per_second': 0.066, 'epoch': 37.0}\n",
      "{'loss': 0.5235, 'learning_rate': 5.555555555555555e-07, 'epoch': 38.0}\n"
     ]
    },
    {
     "data": {
      "application/vnd.jupyter.widget-view+json": {
       "model_id": "d32734d77ea74aaabc677675e89c8f8c",
       "version_major": 2,
       "version_minor": 0
      },
      "text/plain": [
       "  0%|          | 0/1 [00:00<?, ?it/s]"
      ]
     },
     "metadata": {},
     "output_type": "display_data"
    },
    {
     "name": "stdout",
     "output_type": "stream",
     "text": [
      "{'eval_loss': 0.6419099569320679, 'eval_accuracy': 0.7, 'eval_runtime': 15.1768, 'eval_samples_per_second': 0.659, 'eval_steps_per_second': 0.066, 'epoch': 38.0}\n",
      "{'loss': 0.4954, 'learning_rate': 2.7777777777777776e-07, 'epoch': 39.0}\n"
     ]
    },
    {
     "data": {
      "application/vnd.jupyter.widget-view+json": {
       "model_id": "842017c9706445d0865598ae6e78a970",
       "version_major": 2,
       "version_minor": 0
      },
      "text/plain": [
       "  0%|          | 0/1 [00:00<?, ?it/s]"
      ]
     },
     "metadata": {},
     "output_type": "display_data"
    },
    {
     "name": "stdout",
     "output_type": "stream",
     "text": [
      "{'eval_loss': 0.6419004201889038, 'eval_accuracy': 0.7, 'eval_runtime': 15.1398, 'eval_samples_per_second': 0.661, 'eval_steps_per_second': 0.066, 'epoch': 39.0}\n",
      "{'loss': 0.5833, 'learning_rate': 0.0, 'epoch': 40.0}\n"
     ]
    },
    {
     "data": {
      "application/vnd.jupyter.widget-view+json": {
       "model_id": "df3f1cb2a5dc4fcc87ecd2e8c6be6d4d",
       "version_major": 2,
       "version_minor": 0
      },
      "text/plain": [
       "  0%|          | 0/1 [00:00<?, ?it/s]"
      ]
     },
     "metadata": {},
     "output_type": "display_data"
    },
    {
     "name": "stdout",
     "output_type": "stream",
     "text": [
      "{'eval_loss': 0.6418983340263367, 'eval_accuracy': 0.7, 'eval_runtime': 14.986, 'eval_samples_per_second': 0.667, 'eval_steps_per_second': 0.067, 'epoch': 40.0}\n",
      "{'train_runtime': 723.3853, 'train_samples_per_second': 0.111, 'train_steps_per_second': 0.055, 'train_loss': 0.5920889876782894, 'epoch': 40.0, 'train_peak_memory_gb': 4.65462589263916}\n"
     ]
    },
    {
     "data": {
      "application/vnd.jupyter.widget-view+json": {
       "model_id": "ed3802852d3a47be8a1c9b38a9679b15",
       "version_major": 2,
       "version_minor": 0
      },
      "text/plain": [
       "  0%|          | 0/1 [00:00<?, ?it/s]"
      ]
     },
     "metadata": {},
     "output_type": "display_data"
    },
    {
     "data": {
      "application/vnd.jupyter.widget-view+json": {
       "model_id": "2937f78e69d24da0a194552bdef66f6a",
       "version_major": 2,
       "version_minor": 0
      },
      "text/plain": [
       "  0%|          | 0/1 [00:00<?, ?it/s]"
      ]
     },
     "metadata": {},
     "output_type": "display_data"
    },
    {
     "data": {
      "application/vnd.jupyter.widget-view+json": {
       "model_id": "4c11d38e28c94c74afda9298010bf508",
       "version_major": 2,
       "version_minor": 0
      },
      "text/plain": [
       "  0%|          | 0/40 [00:00<?, ?it/s]"
      ]
     },
     "metadata": {},
     "output_type": "display_data"
    },
    {
     "name": "stdout",
     "output_type": "stream",
     "text": [
      "{'loss': 0.6629, 'learning_rate': 2.5e-06, 'epoch': 1.0}\n"
     ]
    },
    {
     "data": {
      "application/vnd.jupyter.widget-view+json": {
       "model_id": "f0b67ff019e64df89bb127ab54ee6954",
       "version_major": 2,
       "version_minor": 0
      },
      "text/plain": [
       "  0%|          | 0/1 [00:00<?, ?it/s]"
      ]
     },
     "metadata": {},
     "output_type": "display_data"
    },
    {
     "name": "stdout",
     "output_type": "stream",
     "text": [
      "{'eval_loss': 0.6946821212768555, 'eval_accuracy': 0.4, 'eval_runtime': 9.5385, 'eval_samples_per_second': 1.048, 'eval_steps_per_second': 0.105, 'epoch': 1.0}\n",
      "{'loss': 0.5989, 'learning_rate': 5e-06, 'epoch': 2.0}\n"
     ]
    },
    {
     "data": {
      "application/vnd.jupyter.widget-view+json": {
       "model_id": "ff33f2926c0b497fa248b1a211bdbd0f",
       "version_major": 2,
       "version_minor": 0
      },
      "text/plain": [
       "  0%|          | 0/1 [00:00<?, ?it/s]"
      ]
     },
     "metadata": {},
     "output_type": "display_data"
    },
    {
     "name": "stdout",
     "output_type": "stream",
     "text": [
      "{'eval_loss': 0.6940721273422241, 'eval_accuracy': 0.4, 'eval_runtime': 8.9943, 'eval_samples_per_second': 1.112, 'eval_steps_per_second': 0.111, 'epoch': 2.0}\n",
      "{'loss': 0.4874, 'learning_rate': 7.500000000000001e-06, 'epoch': 3.0}\n"
     ]
    },
    {
     "data": {
      "application/vnd.jupyter.widget-view+json": {
       "model_id": "09bdd61cdb774a0cb8b419b284fd7f03",
       "version_major": 2,
       "version_minor": 0
      },
      "text/plain": [
       "  0%|          | 0/1 [00:00<?, ?it/s]"
      ]
     },
     "metadata": {},
     "output_type": "display_data"
    },
    {
     "name": "stdout",
     "output_type": "stream",
     "text": [
      "{'eval_loss': 0.6928739547729492, 'eval_accuracy': 0.4, 'eval_runtime': 9.0974, 'eval_samples_per_second': 1.099, 'eval_steps_per_second': 0.11, 'epoch': 3.0}\n",
      "{'loss': 0.5658, 'learning_rate': 1e-05, 'epoch': 4.0}\n"
     ]
    },
    {
     "data": {
      "application/vnd.jupyter.widget-view+json": {
       "model_id": "932151d3425247c387b54b6f324ba3dd",
       "version_major": 2,
       "version_minor": 0
      },
      "text/plain": [
       "  0%|          | 0/1 [00:00<?, ?it/s]"
      ]
     },
     "metadata": {},
     "output_type": "display_data"
    },
    {
     "name": "stdout",
     "output_type": "stream",
     "text": [
      "{'eval_loss': 0.6911183595657349, 'eval_accuracy': 0.4, 'eval_runtime': 18.9496, 'eval_samples_per_second': 0.528, 'eval_steps_per_second': 0.053, 'epoch': 4.0}\n",
      "{'loss': 0.5878, 'learning_rate': 9.722222222222223e-06, 'epoch': 5.0}\n"
     ]
    },
    {
     "data": {
      "application/vnd.jupyter.widget-view+json": {
       "model_id": "9bfb22ead8794eeb8bc2f7e6acad3951",
       "version_major": 2,
       "version_minor": 0
      },
      "text/plain": [
       "  0%|          | 0/1 [00:00<?, ?it/s]"
      ]
     },
     "metadata": {},
     "output_type": "display_data"
    },
    {
     "name": "stdout",
     "output_type": "stream",
     "text": [
      "{'eval_loss': 0.6888831853866577, 'eval_accuracy': 0.4, 'eval_runtime': 9.0745, 'eval_samples_per_second': 1.102, 'eval_steps_per_second': 0.11, 'epoch': 5.0}\n",
      "{'loss': 0.7139, 'learning_rate': 9.444444444444445e-06, 'epoch': 6.0}\n"
     ]
    },
    {
     "data": {
      "application/vnd.jupyter.widget-view+json": {
       "model_id": "eddd2185351f4c8dad869480822dbb8c",
       "version_major": 2,
       "version_minor": 0
      },
      "text/plain": [
       "  0%|          | 0/1 [00:00<?, ?it/s]"
      ]
     },
     "metadata": {},
     "output_type": "display_data"
    },
    {
     "name": "stdout",
     "output_type": "stream",
     "text": [
      "{'eval_loss': 0.686813235282898, 'eval_accuracy': 0.3, 'eval_runtime': 8.9474, 'eval_samples_per_second': 1.118, 'eval_steps_per_second': 0.112, 'epoch': 6.0}\n",
      "{'loss': 0.615, 'learning_rate': 9.166666666666666e-06, 'epoch': 7.0}\n"
     ]
    },
    {
     "data": {
      "application/vnd.jupyter.widget-view+json": {
       "model_id": "365b4fdd15d14a7fa821c30855ad9108",
       "version_major": 2,
       "version_minor": 0
      },
      "text/plain": [
       "  0%|          | 0/1 [00:00<?, ?it/s]"
      ]
     },
     "metadata": {},
     "output_type": "display_data"
    },
    {
     "name": "stdout",
     "output_type": "stream",
     "text": [
      "{'eval_loss': 0.6848927736282349, 'eval_accuracy': 0.3, 'eval_runtime': 8.9538, 'eval_samples_per_second': 1.117, 'eval_steps_per_second': 0.112, 'epoch': 7.0}\n",
      "{'loss': 0.5866, 'learning_rate': 8.888888888888888e-06, 'epoch': 8.0}\n"
     ]
    },
    {
     "data": {
      "application/vnd.jupyter.widget-view+json": {
       "model_id": "9e3b767a14a44ccaa6579c4baa34b348",
       "version_major": 2,
       "version_minor": 0
      },
      "text/plain": [
       "  0%|          | 0/1 [00:00<?, ?it/s]"
      ]
     },
     "metadata": {},
     "output_type": "display_data"
    },
    {
     "name": "stdout",
     "output_type": "stream",
     "text": [
      "{'eval_loss': 0.6830998659133911, 'eval_accuracy': 0.3, 'eval_runtime': 9.085, 'eval_samples_per_second': 1.101, 'eval_steps_per_second': 0.11, 'epoch': 8.0}\n",
      "{'loss': 0.6482, 'learning_rate': 8.611111111111112e-06, 'epoch': 9.0}\n"
     ]
    },
    {
     "data": {
      "application/vnd.jupyter.widget-view+json": {
       "model_id": "d08fe74c0433484aa23d1e5e90b8e67d",
       "version_major": 2,
       "version_minor": 0
      },
      "text/plain": [
       "  0%|          | 0/1 [00:00<?, ?it/s]"
      ]
     },
     "metadata": {},
     "output_type": "display_data"
    },
    {
     "name": "stdout",
     "output_type": "stream",
     "text": [
      "{'eval_loss': 0.6813970804214478, 'eval_accuracy': 0.3, 'eval_runtime': 9.091, 'eval_samples_per_second': 1.1, 'eval_steps_per_second': 0.11, 'epoch': 9.0}\n",
      "{'loss': 0.613, 'learning_rate': 8.333333333333334e-06, 'epoch': 10.0}\n"
     ]
    },
    {
     "data": {
      "application/vnd.jupyter.widget-view+json": {
       "model_id": "f47d6b6684f847ebb9acb88f7566d44c",
       "version_major": 2,
       "version_minor": 0
      },
      "text/plain": [
       "  0%|          | 0/1 [00:00<?, ?it/s]"
      ]
     },
     "metadata": {},
     "output_type": "display_data"
    },
    {
     "name": "stdout",
     "output_type": "stream",
     "text": [
      "{'eval_loss': 0.6798118352890015, 'eval_accuracy': 0.3, 'eval_runtime': 9.0194, 'eval_samples_per_second': 1.109, 'eval_steps_per_second': 0.111, 'epoch': 10.0}\n",
      "{'loss': 0.4879, 'learning_rate': 8.055555555555557e-06, 'epoch': 11.0}\n"
     ]
    },
    {
     "data": {
      "application/vnd.jupyter.widget-view+json": {
       "model_id": "64569de7adc44a09bb12b83733c35f0b",
       "version_major": 2,
       "version_minor": 0
      },
      "text/plain": [
       "  0%|          | 0/1 [00:00<?, ?it/s]"
      ]
     },
     "metadata": {},
     "output_type": "display_data"
    },
    {
     "name": "stdout",
     "output_type": "stream",
     "text": [
      "{'eval_loss': 0.6783512830734253, 'eval_accuracy': 0.5, 'eval_runtime': 8.9786, 'eval_samples_per_second': 1.114, 'eval_steps_per_second': 0.111, 'epoch': 11.0}\n",
      "{'loss': 0.4708, 'learning_rate': 7.77777777777778e-06, 'epoch': 12.0}\n"
     ]
    },
    {
     "data": {
      "application/vnd.jupyter.widget-view+json": {
       "model_id": "79cd9fb5d49c4b8d9d7712303d12be3b",
       "version_major": 2,
       "version_minor": 0
      },
      "text/plain": [
       "  0%|          | 0/1 [00:00<?, ?it/s]"
      ]
     },
     "metadata": {},
     "output_type": "display_data"
    },
    {
     "name": "stdout",
     "output_type": "stream",
     "text": [
      "{'eval_loss': 0.6769989728927612, 'eval_accuracy': 0.5, 'eval_runtime': 9.1294, 'eval_samples_per_second': 1.095, 'eval_steps_per_second': 0.11, 'epoch': 12.0}\n",
      "{'loss': 0.5229, 'learning_rate': 7.500000000000001e-06, 'epoch': 13.0}\n"
     ]
    },
    {
     "data": {
      "application/vnd.jupyter.widget-view+json": {
       "model_id": "6db8438acc6f4fc9b67600a21e719bb9",
       "version_major": 2,
       "version_minor": 0
      },
      "text/plain": [
       "  0%|          | 0/1 [00:00<?, ?it/s]"
      ]
     },
     "metadata": {},
     "output_type": "display_data"
    },
    {
     "name": "stdout",
     "output_type": "stream",
     "text": [
      "{'eval_loss': 0.6757539510726929, 'eval_accuracy': 0.5, 'eval_runtime': 9.0334, 'eval_samples_per_second': 1.107, 'eval_steps_per_second': 0.111, 'epoch': 13.0}\n",
      "{'loss': 0.4518, 'learning_rate': 7.222222222222223e-06, 'epoch': 14.0}\n"
     ]
    },
    {
     "data": {
      "application/vnd.jupyter.widget-view+json": {
       "model_id": "659de41cb3164c03967e31432f958051",
       "version_major": 2,
       "version_minor": 0
      },
      "text/plain": [
       "  0%|          | 0/1 [00:00<?, ?it/s]"
      ]
     },
     "metadata": {},
     "output_type": "display_data"
    },
    {
     "name": "stdout",
     "output_type": "stream",
     "text": [
      "{'eval_loss': 0.6746140718460083, 'eval_accuracy': 0.5, 'eval_runtime': 9.1368, 'eval_samples_per_second': 1.094, 'eval_steps_per_second': 0.109, 'epoch': 14.0}\n",
      "{'loss': 0.4621, 'learning_rate': 6.944444444444445e-06, 'epoch': 15.0}\n"
     ]
    },
    {
     "data": {
      "application/vnd.jupyter.widget-view+json": {
       "model_id": "2713238bc7da4639b4fd57e3c75d7e71",
       "version_major": 2,
       "version_minor": 0
      },
      "text/plain": [
       "  0%|          | 0/1 [00:00<?, ?it/s]"
      ]
     },
     "metadata": {},
     "output_type": "display_data"
    },
    {
     "name": "stdout",
     "output_type": "stream",
     "text": [
      "{'eval_loss': 0.673568606376648, 'eval_accuracy': 0.5, 'eval_runtime': 9.1183, 'eval_samples_per_second': 1.097, 'eval_steps_per_second': 0.11, 'epoch': 15.0}\n",
      "{'loss': 0.484, 'learning_rate': 6.666666666666667e-06, 'epoch': 16.0}\n"
     ]
    },
    {
     "data": {
      "application/vnd.jupyter.widget-view+json": {
       "model_id": "d379af1f222a48748a09896b963bb53c",
       "version_major": 2,
       "version_minor": 0
      },
      "text/plain": [
       "  0%|          | 0/1 [00:00<?, ?it/s]"
      ]
     },
     "metadata": {},
     "output_type": "display_data"
    },
    {
     "name": "stdout",
     "output_type": "stream",
     "text": [
      "{'eval_loss': 0.6726008653640747, 'eval_accuracy': 0.5, 'eval_runtime': 9.0727, 'eval_samples_per_second': 1.102, 'eval_steps_per_second': 0.11, 'epoch': 16.0}\n",
      "{'loss': 0.4499, 'learning_rate': 6.3888888888888885e-06, 'epoch': 17.0}\n"
     ]
    },
    {
     "data": {
      "application/vnd.jupyter.widget-view+json": {
       "model_id": "4bfaae6f9a6b43fe9794baa4bd55bc73",
       "version_major": 2,
       "version_minor": 0
      },
      "text/plain": [
       "  0%|          | 0/1 [00:00<?, ?it/s]"
      ]
     },
     "metadata": {},
     "output_type": "display_data"
    },
    {
     "name": "stdout",
     "output_type": "stream",
     "text": [
      "{'eval_loss': 0.6716951131820679, 'eval_accuracy': 0.5, 'eval_runtime': 9.17, 'eval_samples_per_second': 1.091, 'eval_steps_per_second': 0.109, 'epoch': 17.0}\n",
      "{'loss': 0.4978, 'learning_rate': 6.111111111111112e-06, 'epoch': 18.0}\n"
     ]
    },
    {
     "data": {
      "application/vnd.jupyter.widget-view+json": {
       "model_id": "590b7cc05f1648469d5816d97062e313",
       "version_major": 2,
       "version_minor": 0
      },
      "text/plain": [
       "  0%|          | 0/1 [00:00<?, ?it/s]"
      ]
     },
     "metadata": {},
     "output_type": "display_data"
    },
    {
     "name": "stdout",
     "output_type": "stream",
     "text": [
      "{'eval_loss': 0.6708720922470093, 'eval_accuracy': 0.5, 'eval_runtime': 9.1928, 'eval_samples_per_second': 1.088, 'eval_steps_per_second': 0.109, 'epoch': 18.0}\n",
      "{'loss': 0.3929, 'learning_rate': 5.833333333333334e-06, 'epoch': 19.0}\n"
     ]
    },
    {
     "data": {
      "application/vnd.jupyter.widget-view+json": {
       "model_id": "344ee4ba4a8e442c83f694b9116e2d13",
       "version_major": 2,
       "version_minor": 0
      },
      "text/plain": [
       "  0%|          | 0/1 [00:00<?, ?it/s]"
      ]
     },
     "metadata": {},
     "output_type": "display_data"
    },
    {
     "name": "stdout",
     "output_type": "stream",
     "text": [
      "{'eval_loss': 0.6701241135597229, 'eval_accuracy': 0.6, 'eval_runtime': 8.9727, 'eval_samples_per_second': 1.114, 'eval_steps_per_second': 0.111, 'epoch': 19.0}\n",
      "{'loss': 0.4815, 'learning_rate': 5.555555555555557e-06, 'epoch': 20.0}\n"
     ]
    },
    {
     "data": {
      "application/vnd.jupyter.widget-view+json": {
       "model_id": "a8f8f27a823f4f7bbb75f8b264c836ff",
       "version_major": 2,
       "version_minor": 0
      },
      "text/plain": [
       "  0%|          | 0/1 [00:00<?, ?it/s]"
      ]
     },
     "metadata": {},
     "output_type": "display_data"
    },
    {
     "name": "stdout",
     "output_type": "stream",
     "text": [
      "{'eval_loss': 0.6694322824478149, 'eval_accuracy': 0.6, 'eval_runtime': 9.1477, 'eval_samples_per_second': 1.093, 'eval_steps_per_second': 0.109, 'epoch': 20.0}\n",
      "{'loss': 0.4289, 'learning_rate': 5.2777777777777785e-06, 'epoch': 21.0}\n"
     ]
    },
    {
     "data": {
      "application/vnd.jupyter.widget-view+json": {
       "model_id": "9c281f6d2f394e38b1e7254feaaa6732",
       "version_major": 2,
       "version_minor": 0
      },
      "text/plain": [
       "  0%|          | 0/1 [00:00<?, ?it/s]"
      ]
     },
     "metadata": {},
     "output_type": "display_data"
    },
    {
     "name": "stdout",
     "output_type": "stream",
     "text": [
      "{'eval_loss': 0.6688026189804077, 'eval_accuracy': 0.6, 'eval_runtime': 8.9616, 'eval_samples_per_second': 1.116, 'eval_steps_per_second': 0.112, 'epoch': 21.0}\n",
      "{'loss': 0.388, 'learning_rate': 5e-06, 'epoch': 22.0}\n"
     ]
    },
    {
     "data": {
      "application/vnd.jupyter.widget-view+json": {
       "model_id": "6d1f2a97bfeb4cd1be0edfb3519b24e5",
       "version_major": 2,
       "version_minor": 0
      },
      "text/plain": [
       "  0%|          | 0/1 [00:00<?, ?it/s]"
      ]
     },
     "metadata": {},
     "output_type": "display_data"
    },
    {
     "name": "stdout",
     "output_type": "stream",
     "text": [
      "{'eval_loss': 0.668237566947937, 'eval_accuracy': 0.6, 'eval_runtime': 8.9976, 'eval_samples_per_second': 1.111, 'eval_steps_per_second': 0.111, 'epoch': 22.0}\n",
      "{'loss': 0.4033, 'learning_rate': 4.722222222222222e-06, 'epoch': 23.0}\n"
     ]
    },
    {
     "data": {
      "application/vnd.jupyter.widget-view+json": {
       "model_id": "f4356bcd4f634c4f9d497cc374a0765b",
       "version_major": 2,
       "version_minor": 0
      },
      "text/plain": [
       "  0%|          | 0/1 [00:00<?, ?it/s]"
      ]
     },
     "metadata": {},
     "output_type": "display_data"
    },
    {
     "name": "stdout",
     "output_type": "stream",
     "text": [
      "{'eval_loss': 0.667728066444397, 'eval_accuracy': 0.6, 'eval_runtime': 9.094, 'eval_samples_per_second': 1.1, 'eval_steps_per_second': 0.11, 'epoch': 23.0}\n",
      "{'loss': 0.3833, 'learning_rate': 4.444444444444444e-06, 'epoch': 24.0}\n"
     ]
    },
    {
     "data": {
      "application/vnd.jupyter.widget-view+json": {
       "model_id": "652d968490b24f78956cb3e821afc5d9",
       "version_major": 2,
       "version_minor": 0
      },
      "text/plain": [
       "  0%|          | 0/1 [00:00<?, ?it/s]"
      ]
     },
     "metadata": {},
     "output_type": "display_data"
    },
    {
     "name": "stdout",
     "output_type": "stream",
     "text": [
      "{'eval_loss': 0.667264461517334, 'eval_accuracy': 0.6, 'eval_runtime': 9.0738, 'eval_samples_per_second': 1.102, 'eval_steps_per_second': 0.11, 'epoch': 24.0}\n",
      "{'loss': 0.3994, 'learning_rate': 4.166666666666667e-06, 'epoch': 25.0}\n"
     ]
    },
    {
     "data": {
      "application/vnd.jupyter.widget-view+json": {
       "model_id": "b1c896ff631d4b7d83f7c7c33c3b744a",
       "version_major": 2,
       "version_minor": 0
      },
      "text/plain": [
       "  0%|          | 0/1 [00:00<?, ?it/s]"
      ]
     },
     "metadata": {},
     "output_type": "display_data"
    },
    {
     "name": "stdout",
     "output_type": "stream",
     "text": [
      "{'eval_loss': 0.666833758354187, 'eval_accuracy': 0.6, 'eval_runtime': 9.0646, 'eval_samples_per_second': 1.103, 'eval_steps_per_second': 0.11, 'epoch': 25.0}\n",
      "{'loss': 0.4025, 'learning_rate': 3.88888888888889e-06, 'epoch': 26.0}\n"
     ]
    },
    {
     "data": {
      "application/vnd.jupyter.widget-view+json": {
       "model_id": "e854ec2a8f4542ab8f13984cdefe3672",
       "version_major": 2,
       "version_minor": 0
      },
      "text/plain": [
       "  0%|          | 0/1 [00:00<?, ?it/s]"
      ]
     },
     "metadata": {},
     "output_type": "display_data"
    },
    {
     "name": "stdout",
     "output_type": "stream",
     "text": [
      "{'eval_loss': 0.6664376258850098, 'eval_accuracy': 0.6, 'eval_runtime': 9.0505, 'eval_samples_per_second': 1.105, 'eval_steps_per_second': 0.11, 'epoch': 26.0}\n",
      "{'loss': 0.5292, 'learning_rate': 3.6111111111111115e-06, 'epoch': 27.0}\n"
     ]
    },
    {
     "data": {
      "application/vnd.jupyter.widget-view+json": {
       "model_id": "18d6602cad7944088a6672c09a3caac3",
       "version_major": 2,
       "version_minor": 0
      },
      "text/plain": [
       "  0%|          | 0/1 [00:00<?, ?it/s]"
      ]
     },
     "metadata": {},
     "output_type": "display_data"
    },
    {
     "name": "stdout",
     "output_type": "stream",
     "text": [
      "{'eval_loss': 0.6660810708999634, 'eval_accuracy': 0.6, 'eval_runtime': 9.0937, 'eval_samples_per_second': 1.1, 'eval_steps_per_second': 0.11, 'epoch': 27.0}\n",
      "{'loss': 0.4377, 'learning_rate': 3.3333333333333333e-06, 'epoch': 28.0}\n"
     ]
    },
    {
     "data": {
      "application/vnd.jupyter.widget-view+json": {
       "model_id": "acfbac3ca5c24d56b7bd69bc2c5ffe79",
       "version_major": 2,
       "version_minor": 0
      },
      "text/plain": [
       "  0%|          | 0/1 [00:00<?, ?it/s]"
      ]
     },
     "metadata": {},
     "output_type": "display_data"
    },
    {
     "name": "stdout",
     "output_type": "stream",
     "text": [
      "{'eval_loss': 0.6657611727714539, 'eval_accuracy': 0.6, 'eval_runtime': 9.0278, 'eval_samples_per_second': 1.108, 'eval_steps_per_second': 0.111, 'epoch': 28.0}\n",
      "{'loss': 0.4092, 'learning_rate': 3.055555555555556e-06, 'epoch': 29.0}\n"
     ]
    },
    {
     "data": {
      "application/vnd.jupyter.widget-view+json": {
       "model_id": "af0f594654094707a1199b6d59866a19",
       "version_major": 2,
       "version_minor": 0
      },
      "text/plain": [
       "  0%|          | 0/1 [00:00<?, ?it/s]"
      ]
     },
     "metadata": {},
     "output_type": "display_data"
    },
    {
     "name": "stdout",
     "output_type": "stream",
     "text": [
      "{'eval_loss': 0.6654781103134155, 'eval_accuracy': 0.6, 'eval_runtime': 9.1042, 'eval_samples_per_second': 1.098, 'eval_steps_per_second': 0.11, 'epoch': 29.0}\n",
      "{'loss': 0.4008, 'learning_rate': 2.7777777777777783e-06, 'epoch': 30.0}\n"
     ]
    },
    {
     "data": {
      "application/vnd.jupyter.widget-view+json": {
       "model_id": "251fa4f9874a490ebd2c5b1218e59c8b",
       "version_major": 2,
       "version_minor": 0
      },
      "text/plain": [
       "  0%|          | 0/1 [00:00<?, ?it/s]"
      ]
     },
     "metadata": {},
     "output_type": "display_data"
    },
    {
     "name": "stdout",
     "output_type": "stream",
     "text": [
      "{'eval_loss': 0.6652239561080933, 'eval_accuracy': 0.6, 'eval_runtime': 9.153, 'eval_samples_per_second': 1.093, 'eval_steps_per_second': 0.109, 'epoch': 30.0}\n",
      "{'loss': 0.3349, 'learning_rate': 2.5e-06, 'epoch': 31.0}\n"
     ]
    },
    {
     "data": {
      "application/vnd.jupyter.widget-view+json": {
       "model_id": "e87fbda9e30d4f46889c8eab6a60e638",
       "version_major": 2,
       "version_minor": 0
      },
      "text/plain": [
       "  0%|          | 0/1 [00:00<?, ?it/s]"
      ]
     },
     "metadata": {},
     "output_type": "display_data"
    },
    {
     "name": "stdout",
     "output_type": "stream",
     "text": [
      "{'eval_loss': 0.6650005578994751, 'eval_accuracy': 0.6, 'eval_runtime': 9.1051, 'eval_samples_per_second': 1.098, 'eval_steps_per_second': 0.11, 'epoch': 31.0}\n",
      "{'loss': 0.3215, 'learning_rate': 2.222222222222222e-06, 'epoch': 32.0}\n"
     ]
    },
    {
     "data": {
      "application/vnd.jupyter.widget-view+json": {
       "model_id": "e3313e13e6df4fb689f9843c4585c430",
       "version_major": 2,
       "version_minor": 0
      },
      "text/plain": [
       "  0%|          | 0/1 [00:00<?, ?it/s]"
      ]
     },
     "metadata": {},
     "output_type": "display_data"
    },
    {
     "name": "stdout",
     "output_type": "stream",
     "text": [
      "{'eval_loss': 0.6648050546646118, 'eval_accuracy': 0.6, 'eval_runtime': 9.1791, 'eval_samples_per_second': 1.089, 'eval_steps_per_second': 0.109, 'epoch': 32.0}\n",
      "{'loss': 0.3374, 'learning_rate': 1.944444444444445e-06, 'epoch': 33.0}\n"
     ]
    },
    {
     "data": {
      "application/vnd.jupyter.widget-view+json": {
       "model_id": "0afceff63da2422fba99332c92ba13eb",
       "version_major": 2,
       "version_minor": 0
      },
      "text/plain": [
       "  0%|          | 0/1 [00:00<?, ?it/s]"
      ]
     },
     "metadata": {},
     "output_type": "display_data"
    },
    {
     "name": "stdout",
     "output_type": "stream",
     "text": [
      "{'eval_loss': 0.6646360158920288, 'eval_accuracy': 0.6, 'eval_runtime': 9.3071, 'eval_samples_per_second': 1.074, 'eval_steps_per_second': 0.107, 'epoch': 33.0}\n",
      "{'loss': 0.4133, 'learning_rate': 1.6666666666666667e-06, 'epoch': 34.0}\n"
     ]
    },
    {
     "data": {
      "application/vnd.jupyter.widget-view+json": {
       "model_id": "b8f8c1cc8cf64c01ac1ca09c8604090f",
       "version_major": 2,
       "version_minor": 0
      },
      "text/plain": [
       "  0%|          | 0/1 [00:00<?, ?it/s]"
      ]
     },
     "metadata": {},
     "output_type": "display_data"
    },
    {
     "name": "stdout",
     "output_type": "stream",
     "text": [
      "{'eval_loss': 0.664490282535553, 'eval_accuracy': 0.6, 'eval_runtime': 9.0558, 'eval_samples_per_second': 1.104, 'eval_steps_per_second': 0.11, 'epoch': 34.0}\n",
      "{'loss': 0.3449, 'learning_rate': 1.3888888888888892e-06, 'epoch': 35.0}\n"
     ]
    },
    {
     "data": {
      "application/vnd.jupyter.widget-view+json": {
       "model_id": "d0410f2a625b4dc0bae1b9d16d12ed10",
       "version_major": 2,
       "version_minor": 0
      },
      "text/plain": [
       "  0%|          | 0/1 [00:00<?, ?it/s]"
      ]
     },
     "metadata": {},
     "output_type": "display_data"
    },
    {
     "name": "stdout",
     "output_type": "stream",
     "text": [
      "{'eval_loss': 0.664367139339447, 'eval_accuracy': 0.6, 'eval_runtime': 11.3793, 'eval_samples_per_second': 0.879, 'eval_steps_per_second': 0.088, 'epoch': 35.0}\n",
      "{'loss': 0.3957, 'learning_rate': 1.111111111111111e-06, 'epoch': 36.0}\n"
     ]
    },
    {
     "data": {
      "application/vnd.jupyter.widget-view+json": {
       "model_id": "b0511bea42d14e9a8ede7b65878b58b2",
       "version_major": 2,
       "version_minor": 0
      },
      "text/plain": [
       "  0%|          | 0/1 [00:00<?, ?it/s]"
      ]
     },
     "metadata": {},
     "output_type": "display_data"
    },
    {
     "name": "stdout",
     "output_type": "stream",
     "text": [
      "{'eval_loss': 0.6642665266990662, 'eval_accuracy': 0.6, 'eval_runtime': 9.7361, 'eval_samples_per_second': 1.027, 'eval_steps_per_second': 0.103, 'epoch': 36.0}\n",
      "{'loss': 0.4429, 'learning_rate': 8.333333333333333e-07, 'epoch': 37.0}\n"
     ]
    },
    {
     "data": {
      "application/vnd.jupyter.widget-view+json": {
       "model_id": "cf58844a55a4434fb97ecfd1faaa7540",
       "version_major": 2,
       "version_minor": 0
      },
      "text/plain": [
       "  0%|          | 0/1 [00:00<?, ?it/s]"
      ]
     },
     "metadata": {},
     "output_type": "display_data"
    },
    {
     "name": "stdout",
     "output_type": "stream",
     "text": [
      "{'eval_loss': 0.6641887426376343, 'eval_accuracy': 0.6, 'eval_runtime': 9.3227, 'eval_samples_per_second': 1.073, 'eval_steps_per_second': 0.107, 'epoch': 37.0}\n",
      "{'loss': 0.3647, 'learning_rate': 5.555555555555555e-07, 'epoch': 38.0}\n"
     ]
    },
    {
     "data": {
      "application/vnd.jupyter.widget-view+json": {
       "model_id": "9dd503ac6ed84f0aa46d86c2c62f297b",
       "version_major": 2,
       "version_minor": 0
      },
      "text/plain": [
       "  0%|          | 0/1 [00:00<?, ?it/s]"
      ]
     },
     "metadata": {},
     "output_type": "display_data"
    },
    {
     "name": "stdout",
     "output_type": "stream",
     "text": [
      "{'eval_loss': 0.6641309857368469, 'eval_accuracy': 0.6, 'eval_runtime': 9.0188, 'eval_samples_per_second': 1.109, 'eval_steps_per_second': 0.111, 'epoch': 38.0}\n",
      "{'loss': 0.3319, 'learning_rate': 2.7777777777777776e-07, 'epoch': 39.0}\n"
     ]
    },
    {
     "data": {
      "application/vnd.jupyter.widget-view+json": {
       "model_id": "31999826110147939440ffd06dd82a0c",
       "version_major": 2,
       "version_minor": 0
      },
      "text/plain": [
       "  0%|          | 0/1 [00:00<?, ?it/s]"
      ]
     },
     "metadata": {},
     "output_type": "display_data"
    },
    {
     "name": "stdout",
     "output_type": "stream",
     "text": [
      "{'eval_loss': 0.6640929579734802, 'eval_accuracy': 0.6, 'eval_runtime': 9.151, 'eval_samples_per_second': 1.093, 'eval_steps_per_second': 0.109, 'epoch': 39.0}\n",
      "{'loss': 0.3382, 'learning_rate': 0.0, 'epoch': 40.0}\n"
     ]
    },
    {
     "data": {
      "application/vnd.jupyter.widget-view+json": {
       "model_id": "be09467d05cb451f9e3148a10ffad4eb",
       "version_major": 2,
       "version_minor": 0
      },
      "text/plain": [
       "  0%|          | 0/1 [00:00<?, ?it/s]"
      ]
     },
     "metadata": {},
     "output_type": "display_data"
    },
    {
     "name": "stdout",
     "output_type": "stream",
     "text": [
      "{'eval_loss': 0.6640740633010864, 'eval_accuracy': 0.6, 'eval_runtime': 9.0735, 'eval_samples_per_second': 1.102, 'eval_steps_per_second': 0.11, 'epoch': 40.0}\n",
      "{'train_runtime': 507.5244, 'train_samples_per_second': 0.158, 'train_steps_per_second': 0.079, 'train_loss': 0.4647229090332985, 'epoch': 40.0, 'train_peak_memory_gb': 4.636595726013184}\n"
     ]
    },
    {
     "data": {
      "application/vnd.jupyter.widget-view+json": {
       "model_id": "ed098e3313334aa0ba4daec97cb98eec",
       "version_major": 2,
       "version_minor": 0
      },
      "text/plain": [
       "  0%|          | 0/1 [00:00<?, ?it/s]"
      ]
     },
     "metadata": {},
     "output_type": "display_data"
    },
    {
     "data": {
      "application/vnd.jupyter.widget-view+json": {
       "model_id": "a1e8be11b94d4b88a2b7ce253157a652",
       "version_major": 2,
       "version_minor": 0
      },
      "text/plain": [
       "  0%|          | 0/1 [00:00<?, ?it/s]"
      ]
     },
     "metadata": {},
     "output_type": "display_data"
    },
    {
     "data": {
      "application/vnd.jupyter.widget-view+json": {
       "model_id": "37a3519cc9824350ab173c81862fe385",
       "version_major": 2,
       "version_minor": 0
      },
      "text/plain": [
       "  0%|          | 0/40 [00:00<?, ?it/s]"
      ]
     },
     "metadata": {},
     "output_type": "display_data"
    },
    {
     "name": "stdout",
     "output_type": "stream",
     "text": [
      "{'loss': 0.7616, 'learning_rate': 2.5e-06, 'epoch': 1.0}\n"
     ]
    },
    {
     "data": {
      "application/vnd.jupyter.widget-view+json": {
       "model_id": "e99a388f3ae44f7084200106b590d693",
       "version_major": 2,
       "version_minor": 0
      },
      "text/plain": [
       "  0%|          | 0/1 [00:00<?, ?it/s]"
      ]
     },
     "metadata": {},
     "output_type": "display_data"
    },
    {
     "name": "stdout",
     "output_type": "stream",
     "text": [
      "{'eval_loss': 0.6946821212768555, 'eval_accuracy': 0.4, 'eval_runtime': 11.182, 'eval_samples_per_second': 0.894, 'eval_steps_per_second': 0.089, 'epoch': 1.0}\n",
      "{'loss': 0.7083, 'learning_rate': 5e-06, 'epoch': 2.0}\n"
     ]
    },
    {
     "data": {
      "application/vnd.jupyter.widget-view+json": {
       "model_id": "845b9d023b7845e782d69c6a15990406",
       "version_major": 2,
       "version_minor": 0
      },
      "text/plain": [
       "  0%|          | 0/1 [00:00<?, ?it/s]"
      ]
     },
     "metadata": {},
     "output_type": "display_data"
    },
    {
     "name": "stdout",
     "output_type": "stream",
     "text": [
      "{'eval_loss': 0.6952842473983765, 'eval_accuracy': 0.4, 'eval_runtime': 11.1775, 'eval_samples_per_second': 0.895, 'eval_steps_per_second': 0.089, 'epoch': 2.0}\n",
      "{'loss': 0.6556, 'learning_rate': 7.500000000000001e-06, 'epoch': 3.0}\n"
     ]
    },
    {
     "data": {
      "application/vnd.jupyter.widget-view+json": {
       "model_id": "965db80d765c44449576b60dcb799870",
       "version_major": 2,
       "version_minor": 0
      },
      "text/plain": [
       "  0%|          | 0/1 [00:00<?, ?it/s]"
      ]
     },
     "metadata": {},
     "output_type": "display_data"
    },
    {
     "name": "stdout",
     "output_type": "stream",
     "text": [
      "{'eval_loss': 0.6965152025222778, 'eval_accuracy': 0.5, 'eval_runtime': 11.069, 'eval_samples_per_second': 0.903, 'eval_steps_per_second': 0.09, 'epoch': 3.0}\n",
      "{'loss': 0.7636, 'learning_rate': 1e-05, 'epoch': 4.0}\n"
     ]
    },
    {
     "data": {
      "application/vnd.jupyter.widget-view+json": {
       "model_id": "3c16da9eb38d4c738444e016c4645e3d",
       "version_major": 2,
       "version_minor": 0
      },
      "text/plain": [
       "  0%|          | 0/1 [00:00<?, ?it/s]"
      ]
     },
     "metadata": {},
     "output_type": "display_data"
    },
    {
     "name": "stdout",
     "output_type": "stream",
     "text": [
      "{'eval_loss': 0.6984082460403442, 'eval_accuracy': 0.5, 'eval_runtime': 11.1341, 'eval_samples_per_second': 0.898, 'eval_steps_per_second': 0.09, 'epoch': 4.0}\n",
      "{'loss': 0.728, 'learning_rate': 9.722222222222223e-06, 'epoch': 5.0}\n"
     ]
    },
    {
     "data": {
      "application/vnd.jupyter.widget-view+json": {
       "model_id": "d8107fbc5e4a4dadbaff59012bfac7f9",
       "version_major": 2,
       "version_minor": 0
      },
      "text/plain": [
       "  0%|          | 0/1 [00:00<?, ?it/s]"
      ]
     },
     "metadata": {},
     "output_type": "display_data"
    },
    {
     "name": "stdout",
     "output_type": "stream",
     "text": [
      "{'eval_loss': 0.7009517550468445, 'eval_accuracy': 0.6, 'eval_runtime': 11.2305, 'eval_samples_per_second': 0.89, 'eval_steps_per_second': 0.089, 'epoch': 5.0}\n",
      "{'loss': 0.6972, 'learning_rate': 9.444444444444445e-06, 'epoch': 6.0}\n"
     ]
    },
    {
     "data": {
      "application/vnd.jupyter.widget-view+json": {
       "model_id": "015f89ef01be411d8ead8e0f5aa0dcb5",
       "version_major": 2,
       "version_minor": 0
      },
      "text/plain": [
       "  0%|          | 0/1 [00:00<?, ?it/s]"
      ]
     },
     "metadata": {},
     "output_type": "display_data"
    },
    {
     "name": "stdout",
     "output_type": "stream",
     "text": [
      "{'eval_loss': 0.7035265564918518, 'eval_accuracy': 0.6, 'eval_runtime': 11.2514, 'eval_samples_per_second': 0.889, 'eval_steps_per_second': 0.089, 'epoch': 6.0}\n",
      "{'loss': 0.7317, 'learning_rate': 9.166666666666666e-06, 'epoch': 7.0}\n"
     ]
    },
    {
     "data": {
      "application/vnd.jupyter.widget-view+json": {
       "model_id": "58a1044bf15945d99b3747bc595f1557",
       "version_major": 2,
       "version_minor": 0
      },
      "text/plain": [
       "  0%|          | 0/1 [00:00<?, ?it/s]"
      ]
     },
     "metadata": {},
     "output_type": "display_data"
    },
    {
     "name": "stdout",
     "output_type": "stream",
     "text": [
      "{'eval_loss': 0.7061032056808472, 'eval_accuracy': 0.6, 'eval_runtime': 11.1915, 'eval_samples_per_second': 0.894, 'eval_steps_per_second': 0.089, 'epoch': 7.0}\n",
      "{'loss': 0.6517, 'learning_rate': 8.888888888888888e-06, 'epoch': 8.0}\n"
     ]
    },
    {
     "data": {
      "application/vnd.jupyter.widget-view+json": {
       "model_id": "d68de1ecf3314004b627e2e38aac7050",
       "version_major": 2,
       "version_minor": 0
      },
      "text/plain": [
       "  0%|          | 0/1 [00:00<?, ?it/s]"
      ]
     },
     "metadata": {},
     "output_type": "display_data"
    },
    {
     "name": "stdout",
     "output_type": "stream",
     "text": [
      "{'eval_loss': 0.7086783647537231, 'eval_accuracy': 0.6, 'eval_runtime': 11.0785, 'eval_samples_per_second': 0.903, 'eval_steps_per_second': 0.09, 'epoch': 8.0}\n",
      "{'loss': 0.5398, 'learning_rate': 8.611111111111112e-06, 'epoch': 9.0}\n"
     ]
    },
    {
     "data": {
      "application/vnd.jupyter.widget-view+json": {
       "model_id": "1bfcb4653c83446095a534dfeb536080",
       "version_major": 2,
       "version_minor": 0
      },
      "text/plain": [
       "  0%|          | 0/1 [00:00<?, ?it/s]"
      ]
     },
     "metadata": {},
     "output_type": "display_data"
    },
    {
     "name": "stdout",
     "output_type": "stream",
     "text": [
      "{'eval_loss': 0.7112804651260376, 'eval_accuracy': 0.6, 'eval_runtime': 11.127, 'eval_samples_per_second': 0.899, 'eval_steps_per_second': 0.09, 'epoch': 9.0}\n",
      "{'loss': 0.6069, 'learning_rate': 8.333333333333334e-06, 'epoch': 10.0}\n"
     ]
    },
    {
     "data": {
      "application/vnd.jupyter.widget-view+json": {
       "model_id": "f3390b1bd5524deaa2830a9da9949841",
       "version_major": 2,
       "version_minor": 0
      },
      "text/plain": [
       "  0%|          | 0/1 [00:00<?, ?it/s]"
      ]
     },
     "metadata": {},
     "output_type": "display_data"
    },
    {
     "name": "stdout",
     "output_type": "stream",
     "text": [
      "{'eval_loss': 0.7138913869857788, 'eval_accuracy': 0.5, 'eval_runtime': 11.0539, 'eval_samples_per_second': 0.905, 'eval_steps_per_second': 0.09, 'epoch': 10.0}\n",
      "{'loss': 0.5963, 'learning_rate': 8.055555555555557e-06, 'epoch': 11.0}\n"
     ]
    },
    {
     "data": {
      "application/vnd.jupyter.widget-view+json": {
       "model_id": "94cb858b1910469eb9a716e87039c8a2",
       "version_major": 2,
       "version_minor": 0
      },
      "text/plain": [
       "  0%|          | 0/1 [00:00<?, ?it/s]"
      ]
     },
     "metadata": {},
     "output_type": "display_data"
    },
    {
     "name": "stdout",
     "output_type": "stream",
     "text": [
      "{'eval_loss': 0.7165144681930542, 'eval_accuracy': 0.5, 'eval_runtime': 11.1097, 'eval_samples_per_second': 0.9, 'eval_steps_per_second': 0.09, 'epoch': 11.0}\n",
      "{'loss': 0.5522, 'learning_rate': 7.77777777777778e-06, 'epoch': 12.0}\n"
     ]
    },
    {
     "data": {
      "application/vnd.jupyter.widget-view+json": {
       "model_id": "c84edd94ef2c43efb97434e2fa10fac5",
       "version_major": 2,
       "version_minor": 0
      },
      "text/plain": [
       "  0%|          | 0/1 [00:00<?, ?it/s]"
      ]
     },
     "metadata": {},
     "output_type": "display_data"
    },
    {
     "name": "stdout",
     "output_type": "stream",
     "text": [
      "{'eval_loss': 0.719140887260437, 'eval_accuracy': 0.5, 'eval_runtime': 11.187, 'eval_samples_per_second': 0.894, 'eval_steps_per_second': 0.089, 'epoch': 12.0}\n",
      "{'loss': 0.6135, 'learning_rate': 7.500000000000001e-06, 'epoch': 13.0}\n"
     ]
    },
    {
     "data": {
      "application/vnd.jupyter.widget-view+json": {
       "model_id": "638b2c718dc44d889149032a2cc62226",
       "version_major": 2,
       "version_minor": 0
      },
      "text/plain": [
       "  0%|          | 0/1 [00:00<?, ?it/s]"
      ]
     },
     "metadata": {},
     "output_type": "display_data"
    },
    {
     "name": "stdout",
     "output_type": "stream",
     "text": [
      "{'eval_loss': 0.7217221260070801, 'eval_accuracy': 0.5, 'eval_runtime': 11.0621, 'eval_samples_per_second': 0.904, 'eval_steps_per_second': 0.09, 'epoch': 13.0}\n",
      "{'loss': 0.5749, 'learning_rate': 7.222222222222223e-06, 'epoch': 14.0}\n"
     ]
    },
    {
     "data": {
      "application/vnd.jupyter.widget-view+json": {
       "model_id": "5950e1fdb9e841228a31e8bda48f5265",
       "version_major": 2,
       "version_minor": 0
      },
      "text/plain": [
       "  0%|          | 0/1 [00:00<?, ?it/s]"
      ]
     },
     "metadata": {},
     "output_type": "display_data"
    },
    {
     "name": "stdout",
     "output_type": "stream",
     "text": [
      "{'eval_loss': 0.7242555022239685, 'eval_accuracy': 0.5, 'eval_runtime': 11.0442, 'eval_samples_per_second': 0.905, 'eval_steps_per_second': 0.091, 'epoch': 14.0}\n",
      "{'loss': 0.5463, 'learning_rate': 6.944444444444445e-06, 'epoch': 15.0}\n"
     ]
    },
    {
     "data": {
      "application/vnd.jupyter.widget-view+json": {
       "model_id": "da65b9ed169a4bf2be7c21d9ef2a8dd3",
       "version_major": 2,
       "version_minor": 0
      },
      "text/plain": [
       "  0%|          | 0/1 [00:00<?, ?it/s]"
      ]
     },
     "metadata": {},
     "output_type": "display_data"
    },
    {
     "name": "stdout",
     "output_type": "stream",
     "text": [
      "{'eval_loss': 0.7267142534255981, 'eval_accuracy': 0.5, 'eval_runtime': 11.2234, 'eval_samples_per_second': 0.891, 'eval_steps_per_second': 0.089, 'epoch': 15.0}\n",
      "{'loss': 0.5112, 'learning_rate': 6.666666666666667e-06, 'epoch': 16.0}\n"
     ]
    },
    {
     "data": {
      "application/vnd.jupyter.widget-view+json": {
       "model_id": "0f654037d94b415ebb07df235ade7feb",
       "version_major": 2,
       "version_minor": 0
      },
      "text/plain": [
       "  0%|          | 0/1 [00:00<?, ?it/s]"
      ]
     },
     "metadata": {},
     "output_type": "display_data"
    },
    {
     "name": "stdout",
     "output_type": "stream",
     "text": [
      "{'eval_loss': 0.7291455864906311, 'eval_accuracy': 0.5, 'eval_runtime': 11.2413, 'eval_samples_per_second': 0.89, 'eval_steps_per_second': 0.089, 'epoch': 16.0}\n",
      "{'loss': 0.5852, 'learning_rate': 6.3888888888888885e-06, 'epoch': 17.0}\n"
     ]
    },
    {
     "data": {
      "application/vnd.jupyter.widget-view+json": {
       "model_id": "c1c8c4c05da54be29e8f58a723072e01",
       "version_major": 2,
       "version_minor": 0
      },
      "text/plain": [
       "  0%|          | 0/1 [00:00<?, ?it/s]"
      ]
     },
     "metadata": {},
     "output_type": "display_data"
    },
    {
     "name": "stdout",
     "output_type": "stream",
     "text": [
      "{'eval_loss': 0.7315559983253479, 'eval_accuracy': 0.5, 'eval_runtime': 11.2934, 'eval_samples_per_second': 0.885, 'eval_steps_per_second': 0.089, 'epoch': 17.0}\n",
      "{'loss': 0.5105, 'learning_rate': 6.111111111111112e-06, 'epoch': 18.0}\n"
     ]
    },
    {
     "data": {
      "application/vnd.jupyter.widget-view+json": {
       "model_id": "69edb28e81cd43ecb2001c68ec67afa9",
       "version_major": 2,
       "version_minor": 0
      },
      "text/plain": [
       "  0%|          | 0/1 [00:00<?, ?it/s]"
      ]
     },
     "metadata": {},
     "output_type": "display_data"
    },
    {
     "name": "stdout",
     "output_type": "stream",
     "text": [
      "{'eval_loss': 0.7339314222335815, 'eval_accuracy': 0.5, 'eval_runtime': 11.1117, 'eval_samples_per_second': 0.9, 'eval_steps_per_second': 0.09, 'epoch': 18.0}\n",
      "{'loss': 0.4937, 'learning_rate': 5.833333333333334e-06, 'epoch': 19.0}\n"
     ]
    },
    {
     "data": {
      "application/vnd.jupyter.widget-view+json": {
       "model_id": "5f51f0364182457ab7f859fc25d770aa",
       "version_major": 2,
       "version_minor": 0
      },
      "text/plain": [
       "  0%|          | 0/1 [00:00<?, ?it/s]"
      ]
     },
     "metadata": {},
     "output_type": "display_data"
    },
    {
     "name": "stdout",
     "output_type": "stream",
     "text": [
      "{'eval_loss': 0.7362308502197266, 'eval_accuracy': 0.5, 'eval_runtime': 11.1817, 'eval_samples_per_second': 0.894, 'eval_steps_per_second': 0.089, 'epoch': 19.0}\n",
      "{'loss': 0.4969, 'learning_rate': 5.555555555555557e-06, 'epoch': 20.0}\n"
     ]
    },
    {
     "data": {
      "application/vnd.jupyter.widget-view+json": {
       "model_id": "6a3f70e62fb84405a5573066cfe6abaf",
       "version_major": 2,
       "version_minor": 0
      },
      "text/plain": [
       "  0%|          | 0/1 [00:00<?, ?it/s]"
      ]
     },
     "metadata": {},
     "output_type": "display_data"
    },
    {
     "name": "stdout",
     "output_type": "stream",
     "text": [
      "{'eval_loss': 0.7384609580039978, 'eval_accuracy': 0.5, 'eval_runtime': 11.1512, 'eval_samples_per_second': 0.897, 'eval_steps_per_second': 0.09, 'epoch': 20.0}\n",
      "{'loss': 0.5431, 'learning_rate': 5.2777777777777785e-06, 'epoch': 21.0}\n"
     ]
    },
    {
     "data": {
      "application/vnd.jupyter.widget-view+json": {
       "model_id": "2703a1fd5c82429da9dd9403ec6ebe61",
       "version_major": 2,
       "version_minor": 0
      },
      "text/plain": [
       "  0%|          | 0/1 [00:00<?, ?it/s]"
      ]
     },
     "metadata": {},
     "output_type": "display_data"
    },
    {
     "name": "stdout",
     "output_type": "stream",
     "text": [
      "{'eval_loss': 0.7406197786331177, 'eval_accuracy': 0.5, 'eval_runtime': 11.1095, 'eval_samples_per_second': 0.9, 'eval_steps_per_second': 0.09, 'epoch': 21.0}\n",
      "{'loss': 0.4621, 'learning_rate': 5e-06, 'epoch': 22.0}\n"
     ]
    },
    {
     "data": {
      "application/vnd.jupyter.widget-view+json": {
       "model_id": "b69eeffa6a294545840cdff8137e4281",
       "version_major": 2,
       "version_minor": 0
      },
      "text/plain": [
       "  0%|          | 0/1 [00:00<?, ?it/s]"
      ]
     },
     "metadata": {},
     "output_type": "display_data"
    },
    {
     "name": "stdout",
     "output_type": "stream",
     "text": [
      "{'eval_loss': 0.7426767349243164, 'eval_accuracy': 0.5, 'eval_runtime': 11.1247, 'eval_samples_per_second': 0.899, 'eval_steps_per_second': 0.09, 'epoch': 22.0}\n",
      "{'loss': 0.588, 'learning_rate': 4.722222222222222e-06, 'epoch': 23.0}\n"
     ]
    },
    {
     "data": {
      "application/vnd.jupyter.widget-view+json": {
       "model_id": "ed0b971c548747ea9da2db53409f3f89",
       "version_major": 2,
       "version_minor": 0
      },
      "text/plain": [
       "  0%|          | 0/1 [00:00<?, ?it/s]"
      ]
     },
     "metadata": {},
     "output_type": "display_data"
    },
    {
     "name": "stdout",
     "output_type": "stream",
     "text": [
      "{'eval_loss': 0.7446540594100952, 'eval_accuracy': 0.5, 'eval_runtime': 11.1034, 'eval_samples_per_second': 0.901, 'eval_steps_per_second': 0.09, 'epoch': 23.0}\n",
      "{'loss': 0.4038, 'learning_rate': 4.444444444444444e-06, 'epoch': 24.0}\n"
     ]
    },
    {
     "data": {
      "application/vnd.jupyter.widget-view+json": {
       "model_id": "8188c5f9c2cf40ab95c0015d0c8afa97",
       "version_major": 2,
       "version_minor": 0
      },
      "text/plain": [
       "  0%|          | 0/1 [00:00<?, ?it/s]"
      ]
     },
     "metadata": {},
     "output_type": "display_data"
    },
    {
     "name": "stdout",
     "output_type": "stream",
     "text": [
      "{'eval_loss': 0.7465513944625854, 'eval_accuracy': 0.5, 'eval_runtime': 11.0751, 'eval_samples_per_second': 0.903, 'eval_steps_per_second': 0.09, 'epoch': 24.0}\n",
      "{'loss': 0.4468, 'learning_rate': 4.166666666666667e-06, 'epoch': 25.0}\n"
     ]
    },
    {
     "data": {
      "application/vnd.jupyter.widget-view+json": {
       "model_id": "9732c8fdea494d0587bf034b65fda463",
       "version_major": 2,
       "version_minor": 0
      },
      "text/plain": [
       "  0%|          | 0/1 [00:00<?, ?it/s]"
      ]
     },
     "metadata": {},
     "output_type": "display_data"
    },
    {
     "name": "stdout",
     "output_type": "stream",
     "text": [
      "{'eval_loss': 0.748369038105011, 'eval_accuracy': 0.5, 'eval_runtime': 11.0879, 'eval_samples_per_second': 0.902, 'eval_steps_per_second': 0.09, 'epoch': 25.0}\n",
      "{'loss': 0.5836, 'learning_rate': 3.88888888888889e-06, 'epoch': 26.0}\n"
     ]
    },
    {
     "data": {
      "application/vnd.jupyter.widget-view+json": {
       "model_id": "41fb8b9de2fe4b84853f0392201585ab",
       "version_major": 2,
       "version_minor": 0
      },
      "text/plain": [
       "  0%|          | 0/1 [00:00<?, ?it/s]"
      ]
     },
     "metadata": {},
     "output_type": "display_data"
    },
    {
     "name": "stdout",
     "output_type": "stream",
     "text": [
      "{'eval_loss': 0.7500559091567993, 'eval_accuracy': 0.5, 'eval_runtime': 11.1498, 'eval_samples_per_second': 0.897, 'eval_steps_per_second': 0.09, 'epoch': 26.0}\n",
      "{'loss': 0.4679, 'learning_rate': 3.6111111111111115e-06, 'epoch': 27.0}\n"
     ]
    },
    {
     "data": {
      "application/vnd.jupyter.widget-view+json": {
       "model_id": "1fe156c607904fda90812b8284be2c89",
       "version_major": 2,
       "version_minor": 0
      },
      "text/plain": [
       "  0%|          | 0/1 [00:00<?, ?it/s]"
      ]
     },
     "metadata": {},
     "output_type": "display_data"
    },
    {
     "name": "stdout",
     "output_type": "stream",
     "text": [
      "{'eval_loss': 0.7516313791275024, 'eval_accuracy': 0.5, 'eval_runtime': 11.0219, 'eval_samples_per_second': 0.907, 'eval_steps_per_second': 0.091, 'epoch': 27.0}\n",
      "{'loss': 0.5032, 'learning_rate': 3.3333333333333333e-06, 'epoch': 28.0}\n"
     ]
    },
    {
     "data": {
      "application/vnd.jupyter.widget-view+json": {
       "model_id": "d90a78a066c14e30948822468939bdb0",
       "version_major": 2,
       "version_minor": 0
      },
      "text/plain": [
       "  0%|          | 0/1 [00:00<?, ?it/s]"
      ]
     },
     "metadata": {},
     "output_type": "display_data"
    },
    {
     "name": "stdout",
     "output_type": "stream",
     "text": [
      "{'eval_loss': 0.7531057596206665, 'eval_accuracy': 0.5, 'eval_runtime': 11.1149, 'eval_samples_per_second': 0.9, 'eval_steps_per_second': 0.09, 'epoch': 28.0}\n",
      "{'loss': 0.4355, 'learning_rate': 3.055555555555556e-06, 'epoch': 29.0}\n"
     ]
    },
    {
     "data": {
      "application/vnd.jupyter.widget-view+json": {
       "model_id": "7b8be916441c419f9e38ecf751b454d5",
       "version_major": 2,
       "version_minor": 0
      },
      "text/plain": [
       "  0%|          | 0/1 [00:00<?, ?it/s]"
      ]
     },
     "metadata": {},
     "output_type": "display_data"
    },
    {
     "name": "stdout",
     "output_type": "stream",
     "text": [
      "{'eval_loss': 0.7544833421707153, 'eval_accuracy': 0.5, 'eval_runtime': 11.047, 'eval_samples_per_second': 0.905, 'eval_steps_per_second': 0.091, 'epoch': 29.0}\n",
      "{'loss': 0.4412, 'learning_rate': 2.7777777777777783e-06, 'epoch': 30.0}\n"
     ]
    },
    {
     "data": {
      "application/vnd.jupyter.widget-view+json": {
       "model_id": "129f833e6d3f439a838f1dafe0449e34",
       "version_major": 2,
       "version_minor": 0
      },
      "text/plain": [
       "  0%|          | 0/1 [00:00<?, ?it/s]"
      ]
     },
     "metadata": {},
     "output_type": "display_data"
    },
    {
     "name": "stdout",
     "output_type": "stream",
     "text": [
      "{'eval_loss': 0.7557473182678223, 'eval_accuracy': 0.5, 'eval_runtime': 11.0619, 'eval_samples_per_second': 0.904, 'eval_steps_per_second': 0.09, 'epoch': 30.0}\n",
      "{'loss': 0.3955, 'learning_rate': 2.5e-06, 'epoch': 31.0}\n"
     ]
    },
    {
     "data": {
      "application/vnd.jupyter.widget-view+json": {
       "model_id": "597944b02a3a4a14b90412fb3d48ff7c",
       "version_major": 2,
       "version_minor": 0
      },
      "text/plain": [
       "  0%|          | 0/1 [00:00<?, ?it/s]"
      ]
     },
     "metadata": {},
     "output_type": "display_data"
    },
    {
     "name": "stdout",
     "output_type": "stream",
     "text": [
      "{'eval_loss': 0.7568990588188171, 'eval_accuracy': 0.5, 'eval_runtime': 11.4211, 'eval_samples_per_second': 0.876, 'eval_steps_per_second': 0.088, 'epoch': 31.0}\n",
      "{'loss': 0.3357, 'learning_rate': 2.222222222222222e-06, 'epoch': 32.0}\n"
     ]
    },
    {
     "data": {
      "application/vnd.jupyter.widget-view+json": {
       "model_id": "917d882fc8ef4f88af815b954950b5ac",
       "version_major": 2,
       "version_minor": 0
      },
      "text/plain": [
       "  0%|          | 0/1 [00:00<?, ?it/s]"
      ]
     },
     "metadata": {},
     "output_type": "display_data"
    },
    {
     "name": "stdout",
     "output_type": "stream",
     "text": [
      "{'eval_loss': 0.7579470276832581, 'eval_accuracy': 0.5, 'eval_runtime': 11.1086, 'eval_samples_per_second': 0.9, 'eval_steps_per_second': 0.09, 'epoch': 32.0}\n",
      "{'loss': 0.4442, 'learning_rate': 1.944444444444445e-06, 'epoch': 33.0}\n"
     ]
    },
    {
     "data": {
      "application/vnd.jupyter.widget-view+json": {
       "model_id": "f97f3b8e18164c36a40197512f7969b8",
       "version_major": 2,
       "version_minor": 0
      },
      "text/plain": [
       "  0%|          | 0/1 [00:00<?, ?it/s]"
      ]
     },
     "metadata": {},
     "output_type": "display_data"
    },
    {
     "name": "stdout",
     "output_type": "stream",
     "text": [
      "{'eval_loss': 0.7588847875595093, 'eval_accuracy': 0.5, 'eval_runtime': 11.2021, 'eval_samples_per_second': 0.893, 'eval_steps_per_second': 0.089, 'epoch': 33.0}\n",
      "{'loss': 0.5182, 'learning_rate': 1.6666666666666667e-06, 'epoch': 34.0}\n"
     ]
    },
    {
     "data": {
      "application/vnd.jupyter.widget-view+json": {
       "model_id": "59bc46a1b0da4c2fb96d8a14af5fe3ea",
       "version_major": 2,
       "version_minor": 0
      },
      "text/plain": [
       "  0%|          | 0/1 [00:00<?, ?it/s]"
      ]
     },
     "metadata": {},
     "output_type": "display_data"
    },
    {
     "name": "stdout",
     "output_type": "stream",
     "text": [
      "{'eval_loss': 0.7596997022628784, 'eval_accuracy': 0.5, 'eval_runtime': 11.0604, 'eval_samples_per_second': 0.904, 'eval_steps_per_second': 0.09, 'epoch': 34.0}\n",
      "{'loss': 0.357, 'learning_rate': 1.3888888888888892e-06, 'epoch': 35.0}\n"
     ]
    },
    {
     "data": {
      "application/vnd.jupyter.widget-view+json": {
       "model_id": "9e7bcaa0b0794ce1ba224d71fd708146",
       "version_major": 2,
       "version_minor": 0
      },
      "text/plain": [
       "  0%|          | 0/1 [00:00<?, ?it/s]"
      ]
     },
     "metadata": {},
     "output_type": "display_data"
    },
    {
     "name": "stdout",
     "output_type": "stream",
     "text": [
      "{'eval_loss': 0.7604070901870728, 'eval_accuracy': 0.5, 'eval_runtime': 11.0797, 'eval_samples_per_second': 0.903, 'eval_steps_per_second': 0.09, 'epoch': 35.0}\n",
      "{'loss': 0.3847, 'learning_rate': 1.111111111111111e-06, 'epoch': 36.0}\n"
     ]
    },
    {
     "data": {
      "application/vnd.jupyter.widget-view+json": {
       "model_id": "b240af64174a43ca9eac83a68f305abf",
       "version_major": 2,
       "version_minor": 0
      },
      "text/plain": [
       "  0%|          | 0/1 [00:00<?, ?it/s]"
      ]
     },
     "metadata": {},
     "output_type": "display_data"
    },
    {
     "name": "stdout",
     "output_type": "stream",
     "text": [
      "{'eval_loss': 0.7609940767288208, 'eval_accuracy': 0.5, 'eval_runtime': 11.1636, 'eval_samples_per_second': 0.896, 'eval_steps_per_second': 0.09, 'epoch': 36.0}\n",
      "{'loss': 0.3972, 'learning_rate': 8.333333333333333e-07, 'epoch': 37.0}\n"
     ]
    },
    {
     "data": {
      "application/vnd.jupyter.widget-view+json": {
       "model_id": "4d53f8c34b83496a9dd6e369fad12167",
       "version_major": 2,
       "version_minor": 0
      },
      "text/plain": [
       "  0%|          | 0/1 [00:00<?, ?it/s]"
      ]
     },
     "metadata": {},
     "output_type": "display_data"
    },
    {
     "name": "stdout",
     "output_type": "stream",
     "text": [
      "{'eval_loss': 0.7614645957946777, 'eval_accuracy': 0.5, 'eval_runtime': 11.1659, 'eval_samples_per_second': 0.896, 'eval_steps_per_second': 0.09, 'epoch': 37.0}\n",
      "{'loss': 0.4552, 'learning_rate': 5.555555555555555e-07, 'epoch': 38.0}\n"
     ]
    },
    {
     "data": {
      "application/vnd.jupyter.widget-view+json": {
       "model_id": "e7e6dffb2a6b466da7d53b8e97d9e818",
       "version_major": 2,
       "version_minor": 0
      },
      "text/plain": [
       "  0%|          | 0/1 [00:00<?, ?it/s]"
      ]
     },
     "metadata": {},
     "output_type": "display_data"
    },
    {
     "name": "stdout",
     "output_type": "stream",
     "text": [
      "{'eval_loss': 0.7618169188499451, 'eval_accuracy': 0.5, 'eval_runtime': 11.1296, 'eval_samples_per_second': 0.899, 'eval_steps_per_second': 0.09, 'epoch': 38.0}\n",
      "{'loss': 0.4271, 'learning_rate': 2.7777777777777776e-07, 'epoch': 39.0}\n"
     ]
    },
    {
     "data": {
      "application/vnd.jupyter.widget-view+json": {
       "model_id": "09cd635759514866995d192606cb0d24",
       "version_major": 2,
       "version_minor": 0
      },
      "text/plain": [
       "  0%|          | 0/1 [00:00<?, ?it/s]"
      ]
     },
     "metadata": {},
     "output_type": "display_data"
    },
    {
     "name": "stdout",
     "output_type": "stream",
     "text": [
      "{'eval_loss': 0.7620523571968079, 'eval_accuracy': 0.5, 'eval_runtime': 13.0263, 'eval_samples_per_second': 0.768, 'eval_steps_per_second': 0.077, 'epoch': 39.0}\n",
      "{'loss': 0.4073, 'learning_rate': 0.0, 'epoch': 40.0}\n"
     ]
    },
    {
     "data": {
      "application/vnd.jupyter.widget-view+json": {
       "model_id": "f7eeaff6ac8143888280c27610d64150",
       "version_major": 2,
       "version_minor": 0
      },
      "text/plain": [
       "  0%|          | 0/1 [00:00<?, ?it/s]"
      ]
     },
     "metadata": {},
     "output_type": "display_data"
    },
    {
     "name": "stdout",
     "output_type": "stream",
     "text": [
      "{'eval_loss': 0.7621711492538452, 'eval_accuracy': 0.5, 'eval_runtime': 11.2501, 'eval_samples_per_second': 0.889, 'eval_steps_per_second': 0.089, 'epoch': 40.0}\n",
      "{'train_runtime': 501.8864, 'train_samples_per_second': 0.159, 'train_steps_per_second': 0.08, 'train_loss': 0.5330687291920185, 'epoch': 40.0, 'train_peak_memory_gb': 4.63710880279541}\n"
     ]
    },
    {
     "data": {
      "application/vnd.jupyter.widget-view+json": {
       "model_id": "df380c04f8254caa8e9f65d701ed5624",
       "version_major": 2,
       "version_minor": 0
      },
      "text/plain": [
       "  0%|          | 0/1 [00:00<?, ?it/s]"
      ]
     },
     "metadata": {},
     "output_type": "display_data"
    },
    {
     "data": {
      "application/vnd.jupyter.widget-view+json": {
       "model_id": "f2299086b46a4da8b357996ee5ee4b55",
       "version_major": 2,
       "version_minor": 0
      },
      "text/plain": [
       "  0%|          | 0/1 [00:00<?, ?it/s]"
      ]
     },
     "metadata": {},
     "output_type": "display_data"
    },
    {
     "data": {
      "application/vnd.jupyter.widget-view+json": {
       "model_id": "d3c21d22547542888732e04b1aec300c",
       "version_major": 2,
       "version_minor": 0
      },
      "text/plain": [
       "  0%|          | 0/40 [00:00<?, ?it/s]"
      ]
     },
     "metadata": {},
     "output_type": "display_data"
    },
    {
     "name": "stdout",
     "output_type": "stream",
     "text": [
      "{'loss': 1.0855, 'learning_rate': 2.5e-06, 'epoch': 1.0}\n"
     ]
    },
    {
     "data": {
      "application/vnd.jupyter.widget-view+json": {
       "model_id": "130dd3fbbf3a4684a035ae2fcf86abaa",
       "version_major": 2,
       "version_minor": 0
      },
      "text/plain": [
       "  0%|          | 0/1 [00:00<?, ?it/s]"
      ]
     },
     "metadata": {},
     "output_type": "display_data"
    },
    {
     "name": "stdout",
     "output_type": "stream",
     "text": [
      "{'eval_loss': 0.6946821212768555, 'eval_accuracy': 0.4, 'eval_runtime': 9.3377, 'eval_samples_per_second': 1.071, 'eval_steps_per_second': 0.107, 'epoch': 1.0}\n",
      "{'loss': 1.0264, 'learning_rate': 5e-06, 'epoch': 2.0}\n"
     ]
    },
    {
     "data": {
      "application/vnd.jupyter.widget-view+json": {
       "model_id": "72af0bc09dde4ea29d739e5c9a2201ce",
       "version_major": 2,
       "version_minor": 0
      },
      "text/plain": [
       "  0%|          | 0/1 [00:00<?, ?it/s]"
      ]
     },
     "metadata": {},
     "output_type": "display_data"
    },
    {
     "name": "stdout",
     "output_type": "stream",
     "text": [
      "{'eval_loss': 0.695226788520813, 'eval_accuracy': 0.4, 'eval_runtime': 9.1601, 'eval_samples_per_second': 1.092, 'eval_steps_per_second': 0.109, 'epoch': 2.0}\n",
      "{'loss': 0.9204, 'learning_rate': 7.500000000000001e-06, 'epoch': 3.0}\n"
     ]
    },
    {
     "data": {
      "application/vnd.jupyter.widget-view+json": {
       "model_id": "77d2109320a741869d6ec6447c777739",
       "version_major": 2,
       "version_minor": 0
      },
      "text/plain": [
       "  0%|          | 0/1 [00:00<?, ?it/s]"
      ]
     },
     "metadata": {},
     "output_type": "display_data"
    },
    {
     "name": "stdout",
     "output_type": "stream",
     "text": [
      "{'eval_loss': 0.6963487863540649, 'eval_accuracy': 0.5, 'eval_runtime': 9.1224, 'eval_samples_per_second': 1.096, 'eval_steps_per_second': 0.11, 'epoch': 3.0}\n",
      "{'loss': 0.9773, 'learning_rate': 1e-05, 'epoch': 4.0}\n"
     ]
    },
    {
     "data": {
      "application/vnd.jupyter.widget-view+json": {
       "model_id": "4ce368efb34d48edb9f943aa817da473",
       "version_major": 2,
       "version_minor": 0
      },
      "text/plain": [
       "  0%|          | 0/1 [00:00<?, ?it/s]"
      ]
     },
     "metadata": {},
     "output_type": "display_data"
    },
    {
     "name": "stdout",
     "output_type": "stream",
     "text": [
      "{'eval_loss': 0.6980518102645874, 'eval_accuracy': 0.5, 'eval_runtime': 9.2888, 'eval_samples_per_second': 1.077, 'eval_steps_per_second': 0.108, 'epoch': 4.0}\n",
      "{'loss': 0.8925, 'learning_rate': 9.722222222222223e-06, 'epoch': 5.0}\n"
     ]
    },
    {
     "data": {
      "application/vnd.jupyter.widget-view+json": {
       "model_id": "e904de0c0022474e9965f2cc0992fcab",
       "version_major": 2,
       "version_minor": 0
      },
      "text/plain": [
       "  0%|          | 0/1 [00:00<?, ?it/s]"
      ]
     },
     "metadata": {},
     "output_type": "display_data"
    },
    {
     "name": "stdout",
     "output_type": "stream",
     "text": [
      "{'eval_loss': 0.700334906578064, 'eval_accuracy': 0.6, 'eval_runtime': 10.0357, 'eval_samples_per_second': 0.996, 'eval_steps_per_second': 0.1, 'epoch': 5.0}\n",
      "{'loss': 0.9135, 'learning_rate': 9.444444444444445e-06, 'epoch': 6.0}\n"
     ]
    },
    {
     "data": {
      "application/vnd.jupyter.widget-view+json": {
       "model_id": "f2d13ce6ee504d45a85a93be01f6b84a",
       "version_major": 2,
       "version_minor": 0
      },
      "text/plain": [
       "  0%|          | 0/1 [00:00<?, ?it/s]"
      ]
     },
     "metadata": {},
     "output_type": "display_data"
    },
    {
     "name": "stdout",
     "output_type": "stream",
     "text": [
      "{'eval_loss': 0.702632486820221, 'eval_accuracy': 0.6, 'eval_runtime': 9.4492, 'eval_samples_per_second': 1.058, 'eval_steps_per_second': 0.106, 'epoch': 6.0}\n",
      "{'loss': 0.853, 'learning_rate': 9.166666666666666e-06, 'epoch': 7.0}\n"
     ]
    },
    {
     "data": {
      "application/vnd.jupyter.widget-view+json": {
       "model_id": "43ccd19208f1434f9702b2cdfd380974",
       "version_major": 2,
       "version_minor": 0
      },
      "text/plain": [
       "  0%|          | 0/1 [00:00<?, ?it/s]"
      ]
     },
     "metadata": {},
     "output_type": "display_data"
    },
    {
     "name": "stdout",
     "output_type": "stream",
     "text": [
      "{'eval_loss': 0.7049217820167542, 'eval_accuracy': 0.6, 'eval_runtime': 9.1747, 'eval_samples_per_second': 1.09, 'eval_steps_per_second': 0.109, 'epoch': 7.0}\n",
      "{'loss': 0.8008, 'learning_rate': 8.888888888888888e-06, 'epoch': 8.0}\n"
     ]
    },
    {
     "data": {
      "application/vnd.jupyter.widget-view+json": {
       "model_id": "ebaaef67ed2a457aac4d744dee23f30c",
       "version_major": 2,
       "version_minor": 0
      },
      "text/plain": [
       "  0%|          | 0/1 [00:00<?, ?it/s]"
      ]
     },
     "metadata": {},
     "output_type": "display_data"
    },
    {
     "name": "stdout",
     "output_type": "stream",
     "text": [
      "{'eval_loss': 0.7071617841720581, 'eval_accuracy': 0.6, 'eval_runtime': 9.1769, 'eval_samples_per_second': 1.09, 'eval_steps_per_second': 0.109, 'epoch': 8.0}\n",
      "{'loss': 0.8176, 'learning_rate': 8.611111111111112e-06, 'epoch': 9.0}\n"
     ]
    },
    {
     "data": {
      "application/vnd.jupyter.widget-view+json": {
       "model_id": "2e6a1cbc7a9c449d9c7b040aa3cbcd76",
       "version_major": 2,
       "version_minor": 0
      },
      "text/plain": [
       "  0%|          | 0/1 [00:00<?, ?it/s]"
      ]
     },
     "metadata": {},
     "output_type": "display_data"
    },
    {
     "name": "stdout",
     "output_type": "stream",
     "text": [
      "{'eval_loss': 0.7093449831008911, 'eval_accuracy': 0.6, 'eval_runtime': 9.2969, 'eval_samples_per_second': 1.076, 'eval_steps_per_second': 0.108, 'epoch': 9.0}\n",
      "{'loss': 0.856, 'learning_rate': 8.333333333333334e-06, 'epoch': 10.0}\n"
     ]
    },
    {
     "data": {
      "application/vnd.jupyter.widget-view+json": {
       "model_id": "668049d9ed2c4ce08041e71a13f6c76f",
       "version_major": 2,
       "version_minor": 0
      },
      "text/plain": [
       "  0%|          | 0/1 [00:00<?, ?it/s]"
      ]
     },
     "metadata": {},
     "output_type": "display_data"
    },
    {
     "name": "stdout",
     "output_type": "stream",
     "text": [
      "{'eval_loss': 0.711542546749115, 'eval_accuracy': 0.6, 'eval_runtime': 9.203, 'eval_samples_per_second': 1.087, 'eval_steps_per_second': 0.109, 'epoch': 10.0}\n",
      "{'loss': 0.8723, 'learning_rate': 8.055555555555557e-06, 'epoch': 11.0}\n"
     ]
    },
    {
     "data": {
      "application/vnd.jupyter.widget-view+json": {
       "model_id": "8530de63a09e45599207435b73b29790",
       "version_major": 2,
       "version_minor": 0
      },
      "text/plain": [
       "  0%|          | 0/1 [00:00<?, ?it/s]"
      ]
     },
     "metadata": {},
     "output_type": "display_data"
    },
    {
     "name": "stdout",
     "output_type": "stream",
     "text": [
      "{'eval_loss': 0.7137404680252075, 'eval_accuracy': 0.6, 'eval_runtime': 9.2276, 'eval_samples_per_second': 1.084, 'eval_steps_per_second': 0.108, 'epoch': 11.0}\n",
      "{'loss': 0.984, 'learning_rate': 7.77777777777778e-06, 'epoch': 12.0}\n"
     ]
    },
    {
     "data": {
      "application/vnd.jupyter.widget-view+json": {
       "model_id": "5004bc9231e04e31bcf932641c1da755",
       "version_major": 2,
       "version_minor": 0
      },
      "text/plain": [
       "  0%|          | 0/1 [00:00<?, ?it/s]"
      ]
     },
     "metadata": {},
     "output_type": "display_data"
    },
    {
     "name": "stdout",
     "output_type": "stream",
     "text": [
      "{'eval_loss': 0.7159334421157837, 'eval_accuracy': 0.6, 'eval_runtime': 9.2022, 'eval_samples_per_second': 1.087, 'eval_steps_per_second': 0.109, 'epoch': 12.0}\n",
      "{'loss': 0.7533, 'learning_rate': 7.500000000000001e-06, 'epoch': 13.0}\n"
     ]
    },
    {
     "data": {
      "application/vnd.jupyter.widget-view+json": {
       "model_id": "a2b64fe86df543f99a5788493b5b63ba",
       "version_major": 2,
       "version_minor": 0
      },
      "text/plain": [
       "  0%|          | 0/1 [00:00<?, ?it/s]"
      ]
     },
     "metadata": {},
     "output_type": "display_data"
    },
    {
     "name": "stdout",
     "output_type": "stream",
     "text": [
      "{'eval_loss': 0.7180637121200562, 'eval_accuracy': 0.5, 'eval_runtime': 9.2216, 'eval_samples_per_second': 1.084, 'eval_steps_per_second': 0.108, 'epoch': 13.0}\n",
      "{'loss': 0.996, 'learning_rate': 7.222222222222223e-06, 'epoch': 14.0}\n"
     ]
    },
    {
     "data": {
      "application/vnd.jupyter.widget-view+json": {
       "model_id": "63531d53cbc54b95a3cc2b458876a52e",
       "version_major": 2,
       "version_minor": 0
      },
      "text/plain": [
       "  0%|          | 0/1 [00:00<?, ?it/s]"
      ]
     },
     "metadata": {},
     "output_type": "display_data"
    },
    {
     "name": "stdout",
     "output_type": "stream",
     "text": [
      "{'eval_loss': 0.7201939821243286, 'eval_accuracy': 0.5, 'eval_runtime': 9.3569, 'eval_samples_per_second': 1.069, 'eval_steps_per_second': 0.107, 'epoch': 14.0}\n",
      "{'loss': 0.8101, 'learning_rate': 6.944444444444445e-06, 'epoch': 15.0}\n"
     ]
    },
    {
     "data": {
      "application/vnd.jupyter.widget-view+json": {
       "model_id": "cfda2052757241d29978931533dd2553",
       "version_major": 2,
       "version_minor": 0
      },
      "text/plain": [
       "  0%|          | 0/1 [00:00<?, ?it/s]"
      ]
     },
     "metadata": {},
     "output_type": "display_data"
    },
    {
     "name": "stdout",
     "output_type": "stream",
     "text": [
      "{'eval_loss': 0.7223005294799805, 'eval_accuracy': 0.5, 'eval_runtime': 10.4209, 'eval_samples_per_second': 0.96, 'eval_steps_per_second': 0.096, 'epoch': 15.0}\n",
      "{'loss': 0.8646, 'learning_rate': 6.666666666666667e-06, 'epoch': 16.0}\n"
     ]
    },
    {
     "data": {
      "application/vnd.jupyter.widget-view+json": {
       "model_id": "a2e052835a6e457ca0b65d8e1390d320",
       "version_major": 2,
       "version_minor": 0
      },
      "text/plain": [
       "  0%|          | 0/1 [00:00<?, ?it/s]"
      ]
     },
     "metadata": {},
     "output_type": "display_data"
    },
    {
     "name": "stdout",
     "output_type": "stream",
     "text": [
      "{'eval_loss': 0.7243719100952148, 'eval_accuracy': 0.5, 'eval_runtime': 9.6107, 'eval_samples_per_second': 1.041, 'eval_steps_per_second': 0.104, 'epoch': 16.0}\n",
      "{'loss': 0.8929, 'learning_rate': 6.3888888888888885e-06, 'epoch': 17.0}\n"
     ]
    },
    {
     "data": {
      "application/vnd.jupyter.widget-view+json": {
       "model_id": "5790d52d29cc40db9231a4cae84f8176",
       "version_major": 2,
       "version_minor": 0
      },
      "text/plain": [
       "  0%|          | 0/1 [00:00<?, ?it/s]"
      ]
     },
     "metadata": {},
     "output_type": "display_data"
    },
    {
     "name": "stdout",
     "output_type": "stream",
     "text": [
      "{'eval_loss': 0.7264186143875122, 'eval_accuracy': 0.5, 'eval_runtime': 9.5239, 'eval_samples_per_second': 1.05, 'eval_steps_per_second': 0.105, 'epoch': 17.0}\n",
      "{'loss': 0.725, 'learning_rate': 6.111111111111112e-06, 'epoch': 18.0}\n"
     ]
    },
    {
     "data": {
      "application/vnd.jupyter.widget-view+json": {
       "model_id": "91227b09ed724228b75bf86c5ee373e0",
       "version_major": 2,
       "version_minor": 0
      },
      "text/plain": [
       "  0%|          | 0/1 [00:00<?, ?it/s]"
      ]
     },
     "metadata": {},
     "output_type": "display_data"
    },
    {
     "name": "stdout",
     "output_type": "stream",
     "text": [
      "{'eval_loss': 0.7284391522407532, 'eval_accuracy': 0.5, 'eval_runtime': 9.27, 'eval_samples_per_second': 1.079, 'eval_steps_per_second': 0.108, 'epoch': 18.0}\n",
      "{'loss': 0.8156, 'learning_rate': 5.833333333333334e-06, 'epoch': 19.0}\n"
     ]
    },
    {
     "data": {
      "application/vnd.jupyter.widget-view+json": {
       "model_id": "ce6f24a628994000b954516e5ecc7bf7",
       "version_major": 2,
       "version_minor": 0
      },
      "text/plain": [
       "  0%|          | 0/1 [00:00<?, ?it/s]"
      ]
     },
     "metadata": {},
     "output_type": "display_data"
    },
    {
     "name": "stdout",
     "output_type": "stream",
     "text": [
      "{'eval_loss': 0.7304030656814575, 'eval_accuracy': 0.5, 'eval_runtime': 9.5396, 'eval_samples_per_second': 1.048, 'eval_steps_per_second': 0.105, 'epoch': 19.0}\n",
      "{'loss': 0.9601, 'learning_rate': 5.555555555555557e-06, 'epoch': 20.0}\n"
     ]
    },
    {
     "data": {
      "application/vnd.jupyter.widget-view+json": {
       "model_id": "291f01a4dfcf4297a3da640159cf8611",
       "version_major": 2,
       "version_minor": 0
      },
      "text/plain": [
       "  0%|          | 0/1 [00:00<?, ?it/s]"
      ]
     },
     "metadata": {},
     "output_type": "display_data"
    },
    {
     "name": "stdout",
     "output_type": "stream",
     "text": [
      "{'eval_loss': 0.7322975397109985, 'eval_accuracy': 0.5, 'eval_runtime': 9.5417, 'eval_samples_per_second': 1.048, 'eval_steps_per_second': 0.105, 'epoch': 20.0}\n",
      "{'loss': 0.6917, 'learning_rate': 5.2777777777777785e-06, 'epoch': 21.0}\n"
     ]
    },
    {
     "data": {
      "application/vnd.jupyter.widget-view+json": {
       "model_id": "98cc25b0fd084f009222334cf5cd4e5c",
       "version_major": 2,
       "version_minor": 0
      },
      "text/plain": [
       "  0%|          | 0/1 [00:00<?, ?it/s]"
      ]
     },
     "metadata": {},
     "output_type": "display_data"
    },
    {
     "name": "stdout",
     "output_type": "stream",
     "text": [
      "{'eval_loss': 0.7341400384902954, 'eval_accuracy': 0.5, 'eval_runtime': 9.6861, 'eval_samples_per_second': 1.032, 'eval_steps_per_second': 0.103, 'epoch': 21.0}\n",
      "{'loss': 0.687, 'learning_rate': 5e-06, 'epoch': 22.0}\n"
     ]
    },
    {
     "data": {
      "application/vnd.jupyter.widget-view+json": {
       "model_id": "b73402fb84da4f809ad2f30af9bb9fed",
       "version_major": 2,
       "version_minor": 0
      },
      "text/plain": [
       "  0%|          | 0/1 [00:00<?, ?it/s]"
      ]
     },
     "metadata": {},
     "output_type": "display_data"
    },
    {
     "name": "stdout",
     "output_type": "stream",
     "text": [
      "{'eval_loss': 0.7359153032302856, 'eval_accuracy': 0.5, 'eval_runtime': 9.5031, 'eval_samples_per_second': 1.052, 'eval_steps_per_second': 0.105, 'epoch': 22.0}\n",
      "{'loss': 0.6598, 'learning_rate': 4.722222222222222e-06, 'epoch': 23.0}\n"
     ]
    },
    {
     "data": {
      "application/vnd.jupyter.widget-view+json": {
       "model_id": "03e4d8bb2b184efb81b591c2eb9d049a",
       "version_major": 2,
       "version_minor": 0
      },
      "text/plain": [
       "  0%|          | 0/1 [00:00<?, ?it/s]"
      ]
     },
     "metadata": {},
     "output_type": "display_data"
    },
    {
     "name": "stdout",
     "output_type": "stream",
     "text": [
      "{'eval_loss': 0.7376168966293335, 'eval_accuracy': 0.5, 'eval_runtime': 9.3198, 'eval_samples_per_second': 1.073, 'eval_steps_per_second': 0.107, 'epoch': 23.0}\n",
      "{'loss': 0.5923, 'learning_rate': 4.444444444444444e-06, 'epoch': 24.0}\n"
     ]
    },
    {
     "data": {
      "application/vnd.jupyter.widget-view+json": {
       "model_id": "9452eeca6e6f4241ad912ffe51c3c066",
       "version_major": 2,
       "version_minor": 0
      },
      "text/plain": [
       "  0%|          | 0/1 [00:00<?, ?it/s]"
      ]
     },
     "metadata": {},
     "output_type": "display_data"
    },
    {
     "name": "stdout",
     "output_type": "stream",
     "text": [
      "{'eval_loss': 0.7392536401748657, 'eval_accuracy': 0.5, 'eval_runtime': 11.8505, 'eval_samples_per_second': 0.844, 'eval_steps_per_second': 0.084, 'epoch': 24.0}\n",
      "{'loss': 0.6259, 'learning_rate': 4.166666666666667e-06, 'epoch': 25.0}\n"
     ]
    },
    {
     "data": {
      "application/vnd.jupyter.widget-view+json": {
       "model_id": "8214c0237f6c482992df1720c95de2f9",
       "version_major": 2,
       "version_minor": 0
      },
      "text/plain": [
       "  0%|          | 0/1 [00:00<?, ?it/s]"
      ]
     },
     "metadata": {},
     "output_type": "display_data"
    },
    {
     "name": "stdout",
     "output_type": "stream",
     "text": [
      "{'eval_loss': 0.7407912015914917, 'eval_accuracy': 0.5, 'eval_runtime': 9.9649, 'eval_samples_per_second': 1.004, 'eval_steps_per_second': 0.1, 'epoch': 25.0}\n",
      "{'loss': 0.7664, 'learning_rate': 3.88888888888889e-06, 'epoch': 26.0}\n"
     ]
    },
    {
     "data": {
      "application/vnd.jupyter.widget-view+json": {
       "model_id": "b208eb0479a14ce584bbd1e1b611d282",
       "version_major": 2,
       "version_minor": 0
      },
      "text/plain": [
       "  0%|          | 0/1 [00:00<?, ?it/s]"
      ]
     },
     "metadata": {},
     "output_type": "display_data"
    },
    {
     "name": "stdout",
     "output_type": "stream",
     "text": [
      "{'eval_loss': 0.7422384023666382, 'eval_accuracy': 0.5, 'eval_runtime': 9.7057, 'eval_samples_per_second': 1.03, 'eval_steps_per_second': 0.103, 'epoch': 26.0}\n",
      "{'loss': 0.5626, 'learning_rate': 3.6111111111111115e-06, 'epoch': 27.0}\n"
     ]
    },
    {
     "data": {
      "application/vnd.jupyter.widget-view+json": {
       "model_id": "d7fdd818226c4fd49cb12182a6a08146",
       "version_major": 2,
       "version_minor": 0
      },
      "text/plain": [
       "  0%|          | 0/1 [00:00<?, ?it/s]"
      ]
     },
     "metadata": {},
     "output_type": "display_data"
    },
    {
     "name": "stdout",
     "output_type": "stream",
     "text": [
      "{'eval_loss': 0.743606686592102, 'eval_accuracy': 0.5, 'eval_runtime': 9.4826, 'eval_samples_per_second': 1.055, 'eval_steps_per_second': 0.105, 'epoch': 27.0}\n",
      "{'loss': 0.5778, 'learning_rate': 3.3333333333333333e-06, 'epoch': 28.0}\n"
     ]
    },
    {
     "data": {
      "application/vnd.jupyter.widget-view+json": {
       "model_id": "2363e2965c00468b8459edde5cfc906c",
       "version_major": 2,
       "version_minor": 0
      },
      "text/plain": [
       "  0%|          | 0/1 [00:00<?, ?it/s]"
      ]
     },
     "metadata": {},
     "output_type": "display_data"
    },
    {
     "name": "stdout",
     "output_type": "stream",
     "text": [
      "{'eval_loss': 0.7448874711990356, 'eval_accuracy': 0.5, 'eval_runtime': 9.2705, 'eval_samples_per_second': 1.079, 'eval_steps_per_second': 0.108, 'epoch': 28.0}\n",
      "{'loss': 0.6481, 'learning_rate': 3.055555555555556e-06, 'epoch': 29.0}\n"
     ]
    },
    {
     "data": {
      "application/vnd.jupyter.widget-view+json": {
       "model_id": "f2c68aea1f584a69a6dbda0d4a28f664",
       "version_major": 2,
       "version_minor": 0
      },
      "text/plain": [
       "  0%|          | 0/1 [00:00<?, ?it/s]"
      ]
     },
     "metadata": {},
     "output_type": "display_data"
    },
    {
     "name": "stdout",
     "output_type": "stream",
     "text": [
      "{'eval_loss': 0.7460721731185913, 'eval_accuracy': 0.5, 'eval_runtime': 9.2804, 'eval_samples_per_second': 1.078, 'eval_steps_per_second': 0.108, 'epoch': 29.0}\n",
      "{'loss': 0.7617, 'learning_rate': 2.7777777777777783e-06, 'epoch': 30.0}\n"
     ]
    },
    {
     "data": {
      "application/vnd.jupyter.widget-view+json": {
       "model_id": "858c7cbb6f9e4fefb199678a2dbdd217",
       "version_major": 2,
       "version_minor": 0
      },
      "text/plain": [
       "  0%|          | 0/1 [00:00<?, ?it/s]"
      ]
     },
     "metadata": {},
     "output_type": "display_data"
    },
    {
     "name": "stdout",
     "output_type": "stream",
     "text": [
      "{'eval_loss': 0.7471598982810974, 'eval_accuracy': 0.5, 'eval_runtime': 9.2865, 'eval_samples_per_second': 1.077, 'eval_steps_per_second': 0.108, 'epoch': 30.0}\n",
      "{'loss': 0.6955, 'learning_rate': 2.5e-06, 'epoch': 31.0}\n"
     ]
    },
    {
     "data": {
      "application/vnd.jupyter.widget-view+json": {
       "model_id": "93bf7de476a64c64b9fca5cb761e21dc",
       "version_major": 2,
       "version_minor": 0
      },
      "text/plain": [
       "  0%|          | 0/1 [00:00<?, ?it/s]"
      ]
     },
     "metadata": {},
     "output_type": "display_data"
    },
    {
     "name": "stdout",
     "output_type": "stream",
     "text": [
      "{'eval_loss': 0.7481557130813599, 'eval_accuracy': 0.5, 'eval_runtime': 9.1968, 'eval_samples_per_second': 1.087, 'eval_steps_per_second': 0.109, 'epoch': 31.0}\n",
      "{'loss': 0.5623, 'learning_rate': 2.222222222222222e-06, 'epoch': 32.0}\n"
     ]
    },
    {
     "data": {
      "application/vnd.jupyter.widget-view+json": {
       "model_id": "f25e2465a9c34906b3264b74628ebb27",
       "version_major": 2,
       "version_minor": 0
      },
      "text/plain": [
       "  0%|          | 0/1 [00:00<?, ?it/s]"
      ]
     },
     "metadata": {},
     "output_type": "display_data"
    },
    {
     "name": "stdout",
     "output_type": "stream",
     "text": [
      "{'eval_loss': 0.7490614652633667, 'eval_accuracy': 0.5, 'eval_runtime': 9.5125, 'eval_samples_per_second': 1.051, 'eval_steps_per_second': 0.105, 'epoch': 32.0}\n",
      "{'loss': 0.7553, 'learning_rate': 1.944444444444445e-06, 'epoch': 33.0}\n"
     ]
    },
    {
     "data": {
      "application/vnd.jupyter.widget-view+json": {
       "model_id": "56a88073e95a4b6e98b9fe50f846c3b7",
       "version_major": 2,
       "version_minor": 0
      },
      "text/plain": [
       "  0%|          | 0/1 [00:00<?, ?it/s]"
      ]
     },
     "metadata": {},
     "output_type": "display_data"
    },
    {
     "name": "stdout",
     "output_type": "stream",
     "text": [
      "{'eval_loss': 0.7498780488967896, 'eval_accuracy': 0.5, 'eval_runtime': 9.1997, 'eval_samples_per_second': 1.087, 'eval_steps_per_second': 0.109, 'epoch': 33.0}\n",
      "{'loss': 0.6389, 'learning_rate': 1.6666666666666667e-06, 'epoch': 34.0}\n"
     ]
    },
    {
     "data": {
      "application/vnd.jupyter.widget-view+json": {
       "model_id": "373528d646334b23b58549636fb9ab76",
       "version_major": 2,
       "version_minor": 0
      },
      "text/plain": [
       "  0%|          | 0/1 [00:00<?, ?it/s]"
      ]
     },
     "metadata": {},
     "output_type": "display_data"
    },
    {
     "name": "stdout",
     "output_type": "stream",
     "text": [
      "{'eval_loss': 0.750585675239563, 'eval_accuracy': 0.5, 'eval_runtime': 9.4156, 'eval_samples_per_second': 1.062, 'eval_steps_per_second': 0.106, 'epoch': 34.0}\n",
      "{'loss': 0.602, 'learning_rate': 1.3888888888888892e-06, 'epoch': 35.0}\n"
     ]
    },
    {
     "data": {
      "application/vnd.jupyter.widget-view+json": {
       "model_id": "7569e2a8083b447aa2d25bb008ba30f1",
       "version_major": 2,
       "version_minor": 0
      },
      "text/plain": [
       "  0%|          | 0/1 [00:00<?, ?it/s]"
      ]
     },
     "metadata": {},
     "output_type": "display_data"
    },
    {
     "name": "stdout",
     "output_type": "stream",
     "text": [
      "{'eval_loss': 0.7512027025222778, 'eval_accuracy': 0.5, 'eval_runtime': 9.181, 'eval_samples_per_second': 1.089, 'eval_steps_per_second': 0.109, 'epoch': 35.0}\n",
      "{'loss': 0.7966, 'learning_rate': 1.111111111111111e-06, 'epoch': 36.0}\n"
     ]
    },
    {
     "data": {
      "application/vnd.jupyter.widget-view+json": {
       "model_id": "c77ed40dc11b452eb0232e9585624ad1",
       "version_major": 2,
       "version_minor": 0
      },
      "text/plain": [
       "  0%|          | 0/1 [00:00<?, ?it/s]"
      ]
     },
     "metadata": {},
     "output_type": "display_data"
    },
    {
     "name": "stdout",
     "output_type": "stream",
     "text": [
      "{'eval_loss': 0.7517138123512268, 'eval_accuracy': 0.5, 'eval_runtime': 9.326, 'eval_samples_per_second': 1.072, 'eval_steps_per_second': 0.107, 'epoch': 36.0}\n",
      "{'loss': 0.6594, 'learning_rate': 8.333333333333333e-07, 'epoch': 37.0}\n"
     ]
    },
    {
     "data": {
      "application/vnd.jupyter.widget-view+json": {
       "model_id": "fbf1923d44f44313a17b6e428cefa7f4",
       "version_major": 2,
       "version_minor": 0
      },
      "text/plain": [
       "  0%|          | 0/1 [00:00<?, ?it/s]"
      ]
     },
     "metadata": {},
     "output_type": "display_data"
    },
    {
     "name": "stdout",
     "output_type": "stream",
     "text": [
      "{'eval_loss': 0.7521246671676636, 'eval_accuracy': 0.5, 'eval_runtime': 9.3908, 'eval_samples_per_second': 1.065, 'eval_steps_per_second': 0.106, 'epoch': 37.0}\n",
      "{'loss': 0.6572, 'learning_rate': 5.555555555555555e-07, 'epoch': 38.0}\n"
     ]
    },
    {
     "data": {
      "application/vnd.jupyter.widget-view+json": {
       "model_id": "3cf22d3b2b5e49adbd698595852610fa",
       "version_major": 2,
       "version_minor": 0
      },
      "text/plain": [
       "  0%|          | 0/1 [00:00<?, ?it/s]"
      ]
     },
     "metadata": {},
     "output_type": "display_data"
    },
    {
     "name": "stdout",
     "output_type": "stream",
     "text": [
      "{'eval_loss': 0.7524320483207703, 'eval_accuracy': 0.5, 'eval_runtime': 9.5418, 'eval_samples_per_second': 1.048, 'eval_steps_per_second': 0.105, 'epoch': 38.0}\n",
      "{'loss': 0.6242, 'learning_rate': 2.7777777777777776e-07, 'epoch': 39.0}\n"
     ]
    },
    {
     "data": {
      "application/vnd.jupyter.widget-view+json": {
       "model_id": "99337f63069942968b3e4761be5b6521",
       "version_major": 2,
       "version_minor": 0
      },
      "text/plain": [
       "  0%|          | 0/1 [00:00<?, ?it/s]"
      ]
     },
     "metadata": {},
     "output_type": "display_data"
    },
    {
     "name": "stdout",
     "output_type": "stream",
     "text": [
      "{'eval_loss': 0.7526344060897827, 'eval_accuracy': 0.5, 'eval_runtime': 9.4186, 'eval_samples_per_second': 1.062, 'eval_steps_per_second': 0.106, 'epoch': 39.0}\n",
      "{'loss': 0.6185, 'learning_rate': 0.0, 'epoch': 40.0}\n"
     ]
    },
    {
     "data": {
      "application/vnd.jupyter.widget-view+json": {
       "model_id": "f2f9888a05bd4bf18359d9c89afa705c",
       "version_major": 2,
       "version_minor": 0
      },
      "text/plain": [
       "  0%|          | 0/1 [00:00<?, ?it/s]"
      ]
     },
     "metadata": {},
     "output_type": "display_data"
    },
    {
     "name": "stdout",
     "output_type": "stream",
     "text": [
      "{'eval_loss': 0.7527381181716919, 'eval_accuracy': 0.5, 'eval_runtime': 9.336, 'eval_samples_per_second': 1.071, 'eval_steps_per_second': 0.107, 'epoch': 40.0}\n",
      "{'train_runtime': 516.1436, 'train_samples_per_second': 0.155, 'train_steps_per_second': 0.077, 'train_loss': 0.7750082343816758, 'epoch': 40.0, 'train_peak_memory_gb': 4.636595726013184}\n"
     ]
    },
    {
     "data": {
      "application/vnd.jupyter.widget-view+json": {
       "model_id": "3737e3005ba74c24bfbdef40b31bb255",
       "version_major": 2,
       "version_minor": 0
      },
      "text/plain": [
       "  0%|          | 0/1 [00:00<?, ?it/s]"
      ]
     },
     "metadata": {},
     "output_type": "display_data"
    },
    {
     "data": {
      "application/vnd.jupyter.widget-view+json": {
       "model_id": "ce63e8d834cf404781128172445643fb",
       "version_major": 2,
       "version_minor": 0
      },
      "text/plain": [
       "  0%|          | 0/1 [00:00<?, ?it/s]"
      ]
     },
     "metadata": {},
     "output_type": "display_data"
    },
    {
     "data": {
      "application/vnd.jupyter.widget-view+json": {
       "model_id": "840cfc529cc54cda82ed5b4e9ea7de8c",
       "version_major": 2,
       "version_minor": 0
      },
      "text/plain": [
       "  0%|          | 0/40 [00:00<?, ?it/s]"
      ]
     },
     "metadata": {},
     "output_type": "display_data"
    },
    {
     "name": "stdout",
     "output_type": "stream",
     "text": [
      "{'loss': 0.3896, 'learning_rate': 2.5e-06, 'epoch': 1.0}\n"
     ]
    },
    {
     "data": {
      "application/vnd.jupyter.widget-view+json": {
       "model_id": "dd66088943b5455f844971fe5c4f6646",
       "version_major": 2,
       "version_minor": 0
      },
      "text/plain": [
       "  0%|          | 0/1 [00:00<?, ?it/s]"
      ]
     },
     "metadata": {},
     "output_type": "display_data"
    },
    {
     "name": "stdout",
     "output_type": "stream",
     "text": [
      "{'eval_loss': 0.6946821212768555, 'eval_accuracy': 0.4, 'eval_runtime': 11.3051, 'eval_samples_per_second': 0.885, 'eval_steps_per_second': 0.088, 'epoch': 1.0}\n",
      "{'loss': 0.4835, 'learning_rate': 5e-06, 'epoch': 2.0}\n"
     ]
    },
    {
     "data": {
      "application/vnd.jupyter.widget-view+json": {
       "model_id": "21e34175e25744f5945bb25c92b60f23",
       "version_major": 2,
       "version_minor": 0
      },
      "text/plain": [
       "  0%|          | 0/1 [00:00<?, ?it/s]"
      ]
     },
     "metadata": {},
     "output_type": "display_data"
    },
    {
     "name": "stdout",
     "output_type": "stream",
     "text": [
      "{'eval_loss': 0.6946759819984436, 'eval_accuracy': 0.4, 'eval_runtime': 11.2963, 'eval_samples_per_second': 0.885, 'eval_steps_per_second': 0.089, 'epoch': 2.0}\n",
      "{'loss': 0.3769, 'learning_rate': 7.500000000000001e-06, 'epoch': 3.0}\n"
     ]
    },
    {
     "data": {
      "application/vnd.jupyter.widget-view+json": {
       "model_id": "a9b69b8c513a47f2a8f5b68d601c4cbb",
       "version_major": 2,
       "version_minor": 0
      },
      "text/plain": [
       "  0%|          | 0/1 [00:00<?, ?it/s]"
      ]
     },
     "metadata": {},
     "output_type": "display_data"
    },
    {
     "name": "stdout",
     "output_type": "stream",
     "text": [
      "{'eval_loss': 0.6948803067207336, 'eval_accuracy': 0.4, 'eval_runtime': 11.5683, 'eval_samples_per_second': 0.864, 'eval_steps_per_second': 0.086, 'epoch': 3.0}\n",
      "{'loss': 0.3942, 'learning_rate': 1e-05, 'epoch': 4.0}\n"
     ]
    },
    {
     "data": {
      "application/vnd.jupyter.widget-view+json": {
       "model_id": "5ef0b9a681274eb88201ff007b69205c",
       "version_major": 2,
       "version_minor": 0
      },
      "text/plain": [
       "  0%|          | 0/1 [00:00<?, ?it/s]"
      ]
     },
     "metadata": {},
     "output_type": "display_data"
    },
    {
     "name": "stdout",
     "output_type": "stream",
     "text": [
      "{'eval_loss': 0.6954748034477234, 'eval_accuracy': 0.4, 'eval_runtime': 11.4229, 'eval_samples_per_second': 0.875, 'eval_steps_per_second': 0.088, 'epoch': 4.0}\n",
      "{'loss': 0.3843, 'learning_rate': 9.722222222222223e-06, 'epoch': 5.0}\n"
     ]
    },
    {
     "data": {
      "application/vnd.jupyter.widget-view+json": {
       "model_id": "72501099d84c4b21b41e5f6ab98a63f9",
       "version_major": 2,
       "version_minor": 0
      },
      "text/plain": [
       "  0%|          | 0/1 [00:00<?, ?it/s]"
      ]
     },
     "metadata": {},
     "output_type": "display_data"
    },
    {
     "name": "stdout",
     "output_type": "stream",
     "text": [
      "{'eval_loss': 0.6962279081344604, 'eval_accuracy': 0.5, 'eval_runtime': 12.2304, 'eval_samples_per_second': 0.818, 'eval_steps_per_second': 0.082, 'epoch': 5.0}\n",
      "{'loss': 0.4097, 'learning_rate': 9.444444444444445e-06, 'epoch': 6.0}\n"
     ]
    },
    {
     "data": {
      "application/vnd.jupyter.widget-view+json": {
       "model_id": "04cbf50364ba4f668c12ce5f7a49afa5",
       "version_major": 2,
       "version_minor": 0
      },
      "text/plain": [
       "  0%|          | 0/1 [00:00<?, ?it/s]"
      ]
     },
     "metadata": {},
     "output_type": "display_data"
    },
    {
     "name": "stdout",
     "output_type": "stream",
     "text": [
      "{'eval_loss': 0.6969836950302124, 'eval_accuracy': 0.5, 'eval_runtime': 12.0598, 'eval_samples_per_second': 0.829, 'eval_steps_per_second': 0.083, 'epoch': 6.0}\n",
      "{'loss': 0.3924, 'learning_rate': 9.166666666666666e-06, 'epoch': 7.0}\n"
     ]
    },
    {
     "data": {
      "application/vnd.jupyter.widget-view+json": {
       "model_id": "98371e1c798648da9f7cfff5530eeb5a",
       "version_major": 2,
       "version_minor": 0
      },
      "text/plain": [
       "  0%|          | 0/1 [00:00<?, ?it/s]"
      ]
     },
     "metadata": {},
     "output_type": "display_data"
    },
    {
     "name": "stdout",
     "output_type": "stream",
     "text": [
      "{'eval_loss': 0.6977475881576538, 'eval_accuracy': 0.5, 'eval_runtime': 12.4804, 'eval_samples_per_second': 0.801, 'eval_steps_per_second': 0.08, 'epoch': 7.0}\n",
      "{'loss': 0.421, 'learning_rate': 8.888888888888888e-06, 'epoch': 8.0}\n"
     ]
    },
    {
     "data": {
      "application/vnd.jupyter.widget-view+json": {
       "model_id": "89c8aa8d3ad3479f9a89b13d6e43668a",
       "version_major": 2,
       "version_minor": 0
      },
      "text/plain": [
       "  0%|          | 0/1 [00:00<?, ?it/s]"
      ]
     },
     "metadata": {},
     "output_type": "display_data"
    },
    {
     "name": "stdout",
     "output_type": "stream",
     "text": [
      "{'eval_loss': 0.6985068321228027, 'eval_accuracy': 0.5, 'eval_runtime': 12.1884, 'eval_samples_per_second': 0.82, 'eval_steps_per_second': 0.082, 'epoch': 8.0}\n",
      "{'loss': 0.416, 'learning_rate': 8.611111111111112e-06, 'epoch': 9.0}\n"
     ]
    },
    {
     "data": {
      "application/vnd.jupyter.widget-view+json": {
       "model_id": "60dfd1e3d2284eba9f919fde6adc701b",
       "version_major": 2,
       "version_minor": 0
      },
      "text/plain": [
       "  0%|          | 0/1 [00:00<?, ?it/s]"
      ]
     },
     "metadata": {},
     "output_type": "display_data"
    },
    {
     "name": "stdout",
     "output_type": "stream",
     "text": [
      "{'eval_loss': 0.6992777585983276, 'eval_accuracy': 0.5, 'eval_runtime': 12.2242, 'eval_samples_per_second': 0.818, 'eval_steps_per_second': 0.082, 'epoch': 9.0}\n",
      "{'loss': 0.4299, 'learning_rate': 8.333333333333334e-06, 'epoch': 10.0}\n"
     ]
    },
    {
     "data": {
      "application/vnd.jupyter.widget-view+json": {
       "model_id": "e44d2d15003a4601a79474aa528c3187",
       "version_major": 2,
       "version_minor": 0
      },
      "text/plain": [
       "  0%|          | 0/1 [00:00<?, ?it/s]"
      ]
     },
     "metadata": {},
     "output_type": "display_data"
    },
    {
     "name": "stdout",
     "output_type": "stream",
     "text": [
      "{'eval_loss': 0.6998740434646606, 'eval_accuracy': 0.5, 'eval_runtime': 11.3269, 'eval_samples_per_second': 0.883, 'eval_steps_per_second': 0.088, 'epoch': 10.0}\n",
      "{'loss': 0.4828, 'learning_rate': 8.055555555555557e-06, 'epoch': 11.0}\n"
     ]
    },
    {
     "data": {
      "application/vnd.jupyter.widget-view+json": {
       "model_id": "07f0dbc71cd84d048e0f44b99ee6b910",
       "version_major": 2,
       "version_minor": 0
      },
      "text/plain": [
       "  0%|          | 0/1 [00:00<?, ?it/s]"
      ]
     },
     "metadata": {},
     "output_type": "display_data"
    },
    {
     "name": "stdout",
     "output_type": "stream",
     "text": [
      "{'eval_loss': 0.7003735899925232, 'eval_accuracy': 0.5, 'eval_runtime': 11.261, 'eval_samples_per_second': 0.888, 'eval_steps_per_second': 0.089, 'epoch': 11.0}\n",
      "{'loss': 0.3748, 'learning_rate': 7.77777777777778e-06, 'epoch': 12.0}\n"
     ]
    },
    {
     "data": {
      "application/vnd.jupyter.widget-view+json": {
       "model_id": "224ddc7ffad640fba334c133ea0ab337",
       "version_major": 2,
       "version_minor": 0
      },
      "text/plain": [
       "  0%|          | 0/1 [00:00<?, ?it/s]"
      ]
     },
     "metadata": {},
     "output_type": "display_data"
    },
    {
     "name": "stdout",
     "output_type": "stream",
     "text": [
      "{'eval_loss': 0.7008124589920044, 'eval_accuracy': 0.5, 'eval_runtime': 11.2996, 'eval_samples_per_second': 0.885, 'eval_steps_per_second': 0.088, 'epoch': 12.0}\n",
      "{'loss': 0.5497, 'learning_rate': 7.500000000000001e-06, 'epoch': 13.0}\n"
     ]
    },
    {
     "data": {
      "application/vnd.jupyter.widget-view+json": {
       "model_id": "78b2e345c3a74a07a4c5711ff62f039a",
       "version_major": 2,
       "version_minor": 0
      },
      "text/plain": [
       "  0%|          | 0/1 [00:00<?, ?it/s]"
      ]
     },
     "metadata": {},
     "output_type": "display_data"
    },
    {
     "name": "stdout",
     "output_type": "stream",
     "text": [
      "{'eval_loss': 0.7011866569519043, 'eval_accuracy': 0.6, 'eval_runtime': 11.2467, 'eval_samples_per_second': 0.889, 'eval_steps_per_second': 0.089, 'epoch': 13.0}\n",
      "{'loss': 0.6458, 'learning_rate': 7.222222222222223e-06, 'epoch': 14.0}\n"
     ]
    },
    {
     "data": {
      "application/vnd.jupyter.widget-view+json": {
       "model_id": "b7a227f6c992482fa420f2e406cd959b",
       "version_major": 2,
       "version_minor": 0
      },
      "text/plain": [
       "  0%|          | 0/1 [00:00<?, ?it/s]"
      ]
     },
     "metadata": {},
     "output_type": "display_data"
    },
    {
     "name": "stdout",
     "output_type": "stream",
     "text": [
      "{'eval_loss': 0.7013791799545288, 'eval_accuracy': 0.6, 'eval_runtime': 11.3065, 'eval_samples_per_second': 0.884, 'eval_steps_per_second': 0.088, 'epoch': 14.0}\n",
      "{'loss': 0.3344, 'learning_rate': 6.944444444444445e-06, 'epoch': 15.0}\n"
     ]
    },
    {
     "data": {
      "application/vnd.jupyter.widget-view+json": {
       "model_id": "ed8679a565d64b9388798d1f0f805507",
       "version_major": 2,
       "version_minor": 0
      },
      "text/plain": [
       "  0%|          | 0/1 [00:00<?, ?it/s]"
      ]
     },
     "metadata": {},
     "output_type": "display_data"
    },
    {
     "name": "stdout",
     "output_type": "stream",
     "text": [
      "{'eval_loss': 0.7014865875244141, 'eval_accuracy': 0.6, 'eval_runtime': 11.4182, 'eval_samples_per_second': 0.876, 'eval_steps_per_second': 0.088, 'epoch': 15.0}\n",
      "{'loss': 0.5224, 'learning_rate': 6.666666666666667e-06, 'epoch': 16.0}\n"
     ]
    },
    {
     "data": {
      "application/vnd.jupyter.widget-view+json": {
       "model_id": "62a2f7dbbc394dde8b0fa54edfa99d5d",
       "version_major": 2,
       "version_minor": 0
      },
      "text/plain": [
       "  0%|          | 0/1 [00:00<?, ?it/s]"
      ]
     },
     "metadata": {},
     "output_type": "display_data"
    },
    {
     "name": "stdout",
     "output_type": "stream",
     "text": [
      "{'eval_loss': 0.7016748189926147, 'eval_accuracy': 0.6, 'eval_runtime': 11.3298, 'eval_samples_per_second': 0.883, 'eval_steps_per_second': 0.088, 'epoch': 16.0}\n",
      "{'loss': 0.3613, 'learning_rate': 6.3888888888888885e-06, 'epoch': 17.0}\n"
     ]
    },
    {
     "data": {
      "application/vnd.jupyter.widget-view+json": {
       "model_id": "1a6a77f12e034ec0a2b687959f84d8b3",
       "version_major": 2,
       "version_minor": 0
      },
      "text/plain": [
       "  0%|          | 0/1 [00:00<?, ?it/s]"
      ]
     },
     "metadata": {},
     "output_type": "display_data"
    },
    {
     "name": "stdout",
     "output_type": "stream",
     "text": [
      "{'eval_loss': 0.7018644213676453, 'eval_accuracy': 0.6, 'eval_runtime': 11.4673, 'eval_samples_per_second': 0.872, 'eval_steps_per_second': 0.087, 'epoch': 17.0}\n",
      "{'loss': 0.3971, 'learning_rate': 6.111111111111112e-06, 'epoch': 18.0}\n"
     ]
    },
    {
     "data": {
      "application/vnd.jupyter.widget-view+json": {
       "model_id": "1a04dcf827c7412d8dd96dbe6bbdc3ee",
       "version_major": 2,
       "version_minor": 0
      },
      "text/plain": [
       "  0%|          | 0/1 [00:00<?, ?it/s]"
      ]
     },
     "metadata": {},
     "output_type": "display_data"
    },
    {
     "name": "stdout",
     "output_type": "stream",
     "text": [
      "{'eval_loss': 0.7021359205245972, 'eval_accuracy': 0.6, 'eval_runtime': 11.344, 'eval_samples_per_second': 0.882, 'eval_steps_per_second': 0.088, 'epoch': 18.0}\n",
      "{'loss': 0.4092, 'learning_rate': 5.833333333333334e-06, 'epoch': 19.0}\n"
     ]
    },
    {
     "data": {
      "application/vnd.jupyter.widget-view+json": {
       "model_id": "455bded5922c4bf8a45df3eac5f70844",
       "version_major": 2,
       "version_minor": 0
      },
      "text/plain": [
       "  0%|          | 0/1 [00:00<?, ?it/s]"
      ]
     },
     "metadata": {},
     "output_type": "display_data"
    },
    {
     "name": "stdout",
     "output_type": "stream",
     "text": [
      "{'eval_loss': 0.7023473978042603, 'eval_accuracy': 0.6, 'eval_runtime': 11.8102, 'eval_samples_per_second': 0.847, 'eval_steps_per_second': 0.085, 'epoch': 19.0}\n",
      "{'loss': 0.4258, 'learning_rate': 5.555555555555557e-06, 'epoch': 20.0}\n"
     ]
    },
    {
     "data": {
      "application/vnd.jupyter.widget-view+json": {
       "model_id": "214d5d6c83a2403cb45217bbee09a36e",
       "version_major": 2,
       "version_minor": 0
      },
      "text/plain": [
       "  0%|          | 0/1 [00:00<?, ?it/s]"
      ]
     },
     "metadata": {},
     "output_type": "display_data"
    },
    {
     "name": "stdout",
     "output_type": "stream",
     "text": [
      "{'eval_loss': 0.7024856805801392, 'eval_accuracy': 0.6, 'eval_runtime': 12.0994, 'eval_samples_per_second': 0.826, 'eval_steps_per_second': 0.083, 'epoch': 20.0}\n",
      "{'loss': 0.3991, 'learning_rate': 5.2777777777777785e-06, 'epoch': 21.0}\n"
     ]
    },
    {
     "data": {
      "application/vnd.jupyter.widget-view+json": {
       "model_id": "2d2a9a49e3f842ee97c954716af42715",
       "version_major": 2,
       "version_minor": 0
      },
      "text/plain": [
       "  0%|          | 0/1 [00:00<?, ?it/s]"
      ]
     },
     "metadata": {},
     "output_type": "display_data"
    },
    {
     "name": "stdout",
     "output_type": "stream",
     "text": [
      "{'eval_loss': 0.7025985717773438, 'eval_accuracy': 0.6, 'eval_runtime': 13.0915, 'eval_samples_per_second': 0.764, 'eval_steps_per_second': 0.076, 'epoch': 21.0}\n",
      "{'loss': 0.4893, 'learning_rate': 5e-06, 'epoch': 22.0}\n"
     ]
    },
    {
     "data": {
      "application/vnd.jupyter.widget-view+json": {
       "model_id": "9e328a7d98884a0895c02780532e04a6",
       "version_major": 2,
       "version_minor": 0
      },
      "text/plain": [
       "  0%|          | 0/1 [00:00<?, ?it/s]"
      ]
     },
     "metadata": {},
     "output_type": "display_data"
    },
    {
     "name": "stdout",
     "output_type": "stream",
     "text": [
      "{'eval_loss': 0.702771782875061, 'eval_accuracy': 0.6, 'eval_runtime': 11.2895, 'eval_samples_per_second': 0.886, 'eval_steps_per_second': 0.089, 'epoch': 22.0}\n",
      "{'loss': 0.3473, 'learning_rate': 4.722222222222222e-06, 'epoch': 23.0}\n"
     ]
    },
    {
     "data": {
      "application/vnd.jupyter.widget-view+json": {
       "model_id": "5d54025b3e0d46c29c1667bf2b74e7d4",
       "version_major": 2,
       "version_minor": 0
      },
      "text/plain": [
       "  0%|          | 0/1 [00:00<?, ?it/s]"
      ]
     },
     "metadata": {},
     "output_type": "display_data"
    },
    {
     "name": "stdout",
     "output_type": "stream",
     "text": [
      "{'eval_loss': 0.7029757499694824, 'eval_accuracy': 0.6, 'eval_runtime': 11.117, 'eval_samples_per_second': 0.9, 'eval_steps_per_second': 0.09, 'epoch': 23.0}\n",
      "{'loss': 0.3971, 'learning_rate': 4.444444444444444e-06, 'epoch': 24.0}\n"
     ]
    },
    {
     "data": {
      "application/vnd.jupyter.widget-view+json": {
       "model_id": "a0692eb6e8d94ff9822247e9bc3170c9",
       "version_major": 2,
       "version_minor": 0
      },
      "text/plain": [
       "  0%|          | 0/1 [00:00<?, ?it/s]"
      ]
     },
     "metadata": {},
     "output_type": "display_data"
    },
    {
     "name": "stdout",
     "output_type": "stream",
     "text": [
      "{'eval_loss': 0.7031806707382202, 'eval_accuracy': 0.6, 'eval_runtime': 12.4024, 'eval_samples_per_second': 0.806, 'eval_steps_per_second': 0.081, 'epoch': 24.0}\n",
      "{'loss': 0.3487, 'learning_rate': 4.166666666666667e-06, 'epoch': 25.0}\n"
     ]
    },
    {
     "data": {
      "application/vnd.jupyter.widget-view+json": {
       "model_id": "f1afe445a9064dd1b3927d664c543c48",
       "version_major": 2,
       "version_minor": 0
      },
      "text/plain": [
       "  0%|          | 0/1 [00:00<?, ?it/s]"
      ]
     },
     "metadata": {},
     "output_type": "display_data"
    },
    {
     "name": "stdout",
     "output_type": "stream",
     "text": [
      "{'eval_loss': 0.7033900022506714, 'eval_accuracy': 0.6, 'eval_runtime': 12.7004, 'eval_samples_per_second': 0.787, 'eval_steps_per_second': 0.079, 'epoch': 25.0}\n",
      "{'loss': 0.3984, 'learning_rate': 3.88888888888889e-06, 'epoch': 26.0}\n"
     ]
    },
    {
     "data": {
      "application/vnd.jupyter.widget-view+json": {
       "model_id": "0650124ce80248eda37ce48ce0bad2d1",
       "version_major": 2,
       "version_minor": 0
      },
      "text/plain": [
       "  0%|          | 0/1 [00:00<?, ?it/s]"
      ]
     },
     "metadata": {},
     "output_type": "display_data"
    },
    {
     "name": "stdout",
     "output_type": "stream",
     "text": [
      "{'eval_loss': 0.7035809755325317, 'eval_accuracy': 0.6, 'eval_runtime': 12.1884, 'eval_samples_per_second': 0.82, 'eval_steps_per_second': 0.082, 'epoch': 26.0}\n",
      "{'loss': 0.3768, 'learning_rate': 3.6111111111111115e-06, 'epoch': 27.0}\n"
     ]
    },
    {
     "data": {
      "application/vnd.jupyter.widget-view+json": {
       "model_id": "15c7f34c13544a5081adefc9a245ff62",
       "version_major": 2,
       "version_minor": 0
      },
      "text/plain": [
       "  0%|          | 0/1 [00:00<?, ?it/s]"
      ]
     },
     "metadata": {},
     "output_type": "display_data"
    },
    {
     "name": "stdout",
     "output_type": "stream",
     "text": [
      "{'eval_loss': 0.703763484954834, 'eval_accuracy': 0.6, 'eval_runtime': 11.8372, 'eval_samples_per_second': 0.845, 'eval_steps_per_second': 0.084, 'epoch': 27.0}\n",
      "{'loss': 0.362, 'learning_rate': 3.3333333333333333e-06, 'epoch': 28.0}\n"
     ]
    },
    {
     "data": {
      "application/vnd.jupyter.widget-view+json": {
       "model_id": "b65e4a477ac346e7a6db3c3ab56d9fa0",
       "version_major": 2,
       "version_minor": 0
      },
      "text/plain": [
       "  0%|          | 0/1 [00:00<?, ?it/s]"
      ]
     },
     "metadata": {},
     "output_type": "display_data"
    },
    {
     "name": "stdout",
     "output_type": "stream",
     "text": [
      "{'eval_loss': 0.7039059996604919, 'eval_accuracy': 0.6, 'eval_runtime': 11.832, 'eval_samples_per_second': 0.845, 'eval_steps_per_second': 0.085, 'epoch': 28.0}\n",
      "{'loss': 0.3504, 'learning_rate': 3.055555555555556e-06, 'epoch': 29.0}\n"
     ]
    },
    {
     "data": {
      "application/vnd.jupyter.widget-view+json": {
       "model_id": "cf6eaf124eeb48bab74871705bb342ae",
       "version_major": 2,
       "version_minor": 0
      },
      "text/plain": [
       "  0%|          | 0/1 [00:00<?, ?it/s]"
      ]
     },
     "metadata": {},
     "output_type": "display_data"
    },
    {
     "name": "stdout",
     "output_type": "stream",
     "text": [
      "{'eval_loss': 0.7040920853614807, 'eval_accuracy': 0.6, 'eval_runtime': 11.6779, 'eval_samples_per_second': 0.856, 'eval_steps_per_second': 0.086, 'epoch': 29.0}\n",
      "{'loss': 0.4444, 'learning_rate': 2.7777777777777783e-06, 'epoch': 30.0}\n"
     ]
    },
    {
     "data": {
      "application/vnd.jupyter.widget-view+json": {
       "model_id": "ef13d9e8910a4f0aa8f36626a891e6f5",
       "version_major": 2,
       "version_minor": 0
      },
      "text/plain": [
       "  0%|          | 0/1 [00:00<?, ?it/s]"
      ]
     },
     "metadata": {},
     "output_type": "display_data"
    },
    {
     "name": "stdout",
     "output_type": "stream",
     "text": [
      "{'eval_loss': 0.704304575920105, 'eval_accuracy': 0.6, 'eval_runtime': 12.1407, 'eval_samples_per_second': 0.824, 'eval_steps_per_second': 0.082, 'epoch': 30.0}\n",
      "{'loss': 0.3505, 'learning_rate': 2.5e-06, 'epoch': 31.0}\n"
     ]
    },
    {
     "data": {
      "application/vnd.jupyter.widget-view+json": {
       "model_id": "c42cf9b630084169a212c3cdd1f213db",
       "version_major": 2,
       "version_minor": 0
      },
      "text/plain": [
       "  0%|          | 0/1 [00:00<?, ?it/s]"
      ]
     },
     "metadata": {},
     "output_type": "display_data"
    },
    {
     "name": "stdout",
     "output_type": "stream",
     "text": [
      "{'eval_loss': 0.7044698596000671, 'eval_accuracy': 0.6, 'eval_runtime': 11.4185, 'eval_samples_per_second': 0.876, 'eval_steps_per_second': 0.088, 'epoch': 31.0}\n",
      "{'loss': 0.3583, 'learning_rate': 2.222222222222222e-06, 'epoch': 32.0}\n"
     ]
    },
    {
     "data": {
      "application/vnd.jupyter.widget-view+json": {
       "model_id": "0dbb91db13dc429196a5a87e1142b330",
       "version_major": 2,
       "version_minor": 0
      },
      "text/plain": [
       "  0%|          | 0/1 [00:00<?, ?it/s]"
      ]
     },
     "metadata": {},
     "output_type": "display_data"
    },
    {
     "name": "stdout",
     "output_type": "stream",
     "text": [
      "{'eval_loss': 0.7045971155166626, 'eval_accuracy': 0.6, 'eval_runtime': 11.5488, 'eval_samples_per_second': 0.866, 'eval_steps_per_second': 0.087, 'epoch': 32.0}\n",
      "{'loss': 0.2986, 'learning_rate': 1.944444444444445e-06, 'epoch': 33.0}\n"
     ]
    },
    {
     "data": {
      "application/vnd.jupyter.widget-view+json": {
       "model_id": "e43a020ab89648a789a6e546955b4bd9",
       "version_major": 2,
       "version_minor": 0
      },
      "text/plain": [
       "  0%|          | 0/1 [00:00<?, ?it/s]"
      ]
     },
     "metadata": {},
     "output_type": "display_data"
    },
    {
     "name": "stdout",
     "output_type": "stream",
     "text": [
      "{'eval_loss': 0.7047195434570312, 'eval_accuracy': 0.6, 'eval_runtime': 11.4454, 'eval_samples_per_second': 0.874, 'eval_steps_per_second': 0.087, 'epoch': 33.0}\n",
      "{'loss': 0.3456, 'learning_rate': 1.6666666666666667e-06, 'epoch': 34.0}\n"
     ]
    },
    {
     "data": {
      "application/vnd.jupyter.widget-view+json": {
       "model_id": "e0108efb0b774ce2a92143ef6d98b9f4",
       "version_major": 2,
       "version_minor": 0
      },
      "text/plain": [
       "  0%|          | 0/1 [00:00<?, ?it/s]"
      ]
     },
     "metadata": {},
     "output_type": "display_data"
    },
    {
     "name": "stdout",
     "output_type": "stream",
     "text": [
      "{'eval_loss': 0.7047897577285767, 'eval_accuracy': 0.6, 'eval_runtime': 11.4015, 'eval_samples_per_second': 0.877, 'eval_steps_per_second': 0.088, 'epoch': 34.0}\n",
      "{'loss': 0.3344, 'learning_rate': 1.3888888888888892e-06, 'epoch': 35.0}\n"
     ]
    },
    {
     "data": {
      "application/vnd.jupyter.widget-view+json": {
       "model_id": "4a819f4aa1b643cbb28a0a94483d198d",
       "version_major": 2,
       "version_minor": 0
      },
      "text/plain": [
       "  0%|          | 0/1 [00:00<?, ?it/s]"
      ]
     },
     "metadata": {},
     "output_type": "display_data"
    },
    {
     "name": "stdout",
     "output_type": "stream",
     "text": [
      "{'eval_loss': 0.7048739194869995, 'eval_accuracy': 0.6, 'eval_runtime': 11.3692, 'eval_samples_per_second': 0.88, 'eval_steps_per_second': 0.088, 'epoch': 35.0}\n",
      "Unexpected exception formatting exception. Falling back to standard exception\n"
     ]
    },
    {
     "name": "stderr",
     "output_type": "stream",
     "text": [
      "Traceback (most recent call last):\n",
      "  File \"c:\\Users\\harri\\anaconda3\\envs\\fine-tuning\\lib\\site-packages\\IPython\\core\\interactiveshell.py\", line 3526, in run_code\n",
      "    exec(code_obj, self.user_global_ns, self.user_ns)\n",
      "  File \"C:\\Users\\harri\\AppData\\Local\\Temp\\ipykernel_42960\\286313818.py\", line 12, in <module>\n",
      "    metrics, training_histories = batch_fine_tune(model_names=['opt-125m', 'opt-350m'],\n",
      "  File \"c:\\users\\harri\\onedrive\\documents\\omscs\\cs 7643 dl\\projects\\group project\\efficient_llm_few-example_fine-tuning\\src\\finetuners\\fewshot_lora.py\", line 98, in batch_fine_tune\n",
      "    metrics_trial, full_training_history = fine_tune(model=model,\n",
      "  File \"c:\\users\\harri\\onedrive\\documents\\omscs\\cs 7643 dl\\projects\\group project\\efficient_llm_few-example_fine-tuning\\src\\finetuners\\fewshot_lora.py\", line 67, in fine_tune\n",
      "    train_output = trainer.train()\n",
      "  File \"c:\\Users\\harri\\anaconda3\\envs\\fine-tuning\\lib\\site-packages\\transformers\\trainer.py\", line 1591, in train\n",
      "    return inner_training_loop(\n",
      "  File \"c:\\Users\\harri\\anaconda3\\envs\\fine-tuning\\lib\\site-packages\\transformers\\trainer.py\", line 1897, in _inner_training_loop\n",
      "    and (torch.isnan(tr_loss_step) or torch.isinf(tr_loss_step))\n",
      "KeyboardInterrupt\n",
      "\n",
      "During handling of the above exception, another exception occurred:\n",
      "\n",
      "Traceback (most recent call last):\n",
      "  File \"c:\\Users\\harri\\anaconda3\\envs\\fine-tuning\\lib\\site-packages\\IPython\\core\\interactiveshell.py\", line 2120, in showtraceback\n",
      "    stb = self.InteractiveTB.structured_traceback(\n",
      "  File \"c:\\Users\\harri\\anaconda3\\envs\\fine-tuning\\lib\\site-packages\\IPython\\core\\ultratb.py\", line 1435, in structured_traceback\n",
      "    return FormattedTB.structured_traceback(\n",
      "  File \"c:\\Users\\harri\\anaconda3\\envs\\fine-tuning\\lib\\site-packages\\IPython\\core\\ultratb.py\", line 1326, in structured_traceback\n",
      "    return VerboseTB.structured_traceback(\n",
      "  File \"c:\\Users\\harri\\anaconda3\\envs\\fine-tuning\\lib\\site-packages\\IPython\\core\\ultratb.py\", line 1173, in structured_traceback\n",
      "    formatted_exception = self.format_exception_as_a_whole(etype, evalue, etb, number_of_lines_of_context,\n",
      "  File \"c:\\Users\\harri\\anaconda3\\envs\\fine-tuning\\lib\\site-packages\\IPython\\core\\ultratb.py\", line 1088, in format_exception_as_a_whole\n",
      "    frames.append(self.format_record(record))\n",
      "  File \"c:\\Users\\harri\\anaconda3\\envs\\fine-tuning\\lib\\site-packages\\IPython\\core\\ultratb.py\", line 970, in format_record\n",
      "    frame_info.lines, Colors, self.has_colors, lvals\n",
      "  File \"c:\\Users\\harri\\anaconda3\\envs\\fine-tuning\\lib\\site-packages\\IPython\\core\\ultratb.py\", line 792, in lines\n",
      "    return self._sd.lines\n",
      "  File \"c:\\Users\\harri\\anaconda3\\envs\\fine-tuning\\lib\\site-packages\\stack_data\\utils.py\", line 145, in cached_property_wrapper\n",
      "    value = obj.__dict__[self.func.__name__] = self.func(obj)\n",
      "  File \"c:\\Users\\harri\\anaconda3\\envs\\fine-tuning\\lib\\site-packages\\stack_data\\core.py\", line 698, in lines\n",
      "    pieces = self.included_pieces\n",
      "  File \"c:\\Users\\harri\\anaconda3\\envs\\fine-tuning\\lib\\site-packages\\stack_data\\utils.py\", line 145, in cached_property_wrapper\n",
      "    value = obj.__dict__[self.func.__name__] = self.func(obj)\n",
      "  File \"c:\\Users\\harri\\anaconda3\\envs\\fine-tuning\\lib\\site-packages\\stack_data\\core.py\", line 649, in included_pieces\n",
      "    pos = scope_pieces.index(self.executing_piece)\n",
      "  File \"c:\\Users\\harri\\anaconda3\\envs\\fine-tuning\\lib\\site-packages\\stack_data\\utils.py\", line 145, in cached_property_wrapper\n",
      "    value = obj.__dict__[self.func.__name__] = self.func(obj)\n",
      "  File \"c:\\Users\\harri\\anaconda3\\envs\\fine-tuning\\lib\\site-packages\\stack_data\\core.py\", line 628, in executing_piece\n",
      "    return only(\n",
      "  File \"c:\\Users\\harri\\anaconda3\\envs\\fine-tuning\\lib\\site-packages\\executing\\executing.py\", line 164, in only\n",
      "    raise NotOneValueFound('Expected one value, found 0')\n",
      "executing.executing.NotOneValueFound: Expected one value, found 0\n"
     ]
    }
   ],
   "source": [
    "from src.finetuners.fewshot_lora import batch_fine_tune\n",
    "from src.data.data import get_random_subsets\n",
    "\n",
    "# Generate training and evaluation datasets. These should be used for all fine-tuning methods to ensure consistency. np.random should be seeded before this.\n",
    "train_datasets, eval_dataset_in, eval_dataset_out = get_random_subsets(train_dataset=in_domain_train, \n",
    "                                                                       eval_dataset_in=in_domain_test, \n",
    "                                                                       eval_dataset_out=out_domain, \n",
    "                                                                       train_sample_sizes=[2, 4, 6, 8, 16],#[2, 16, 32, 64, 128], # [2, 4],\n",
    "                                                                       num_trials=10,   # 5\n",
    "                                                                       eval_sample_size=50) # 10\n",
    "\n",
    "metrics, training_histories = batch_fine_tune(model_names=['opt-125m', 'opt-350m'], \n",
    "                                              train_datasets=train_datasets, \n",
    "                                              eval_dataset_in=eval_dataset_in, \n",
    "                                              eval_dataset_out=eval_dataset_out, \n",
    "                                              exp_label='lora_test', \n",
    "                                              save_trials=False)\n",
    "\n",
    "print(\"Metrics:\")\n",
    "pprint.pprint(metrics)\n",
    "print(\"Training histories:\")\n",
    "pprint.pprint(training_histories)"
   ]
  },
  {
   "cell_type": "markdown",
   "metadata": {},
   "source": [
    "### Plot in domain vs out of domain metrics"
   ]
  },
  {
   "cell_type": "code",
   "execution_count": 36,
   "metadata": {},
   "outputs": [
    {
     "data": {
      "image/png": "[encoded data removed]",
      "text/plain": [
       "<Figure size 600x600 with 1 Axes>"
      ]
     },
     "metadata": {},
     "output_type": "display_data"
    },
    {
     "data": {
      "image/png": "[encoded data removed]",
      "text/plain": [
       "<Figure size 600x600 with 1 Axes>"
      ]
     },
     "metadata": {},
     "output_type": "display_data"
    },
    {
     "data": {
      "image/png": "[encoded data removed]",
      "text/plain": [
       "<Figure size 600x600 with 1 Axes>"
      ]
     },
     "metadata": {},
     "output_type": "display_data"
    }
   ],
   "source": [
    "from src.visualization.plot import plot_in_out_domain\n",
    "\n",
    "plot_in_out_domain(logfile='opt-125m_fewshot_metrics_2_4_6_8_16.csv', metric='accuracy')\n",
    "plot_in_out_domain(logfile='opt-125m_fewshot_metrics_2_4_6_8_16.csv', metric='peak_memory_gb')\n",
    "plot_in_out_domain(logfile='opt-125m_fewshot_metrics_2_4_6_8_16.csv', metric='runtime')"
   ]
  },
  {
   "cell_type": "code",
   "execution_count": 37,
   "metadata": {},
   "outputs": [
    {
     "data": {
      "image/png": "[encoded data removed]",
      "text/plain": [
       "<Figure size 600x600 with 1 Axes>"
      ]
     },
     "metadata": {},
     "output_type": "display_data"
    },
    {
     "data": {
      "text/plain": [
       "<Figure size 600x600 with 0 Axes>"
      ]
     },
     "metadata": {},
     "output_type": "display_data"
    },
    {
     "data": {
      "image/png": "[encoded data removed]",
      "text/plain": [
       "<Figure size 1500x1000 with 6 Axes>"
      ]
     },
     "metadata": {},
     "output_type": "display_data"
    }
   ],
   "source": [
    "from src.visualization.plot import plot_learning_curves\n",
    "\n",
    "plot_learning_curves(logfile='opt-125m_fewshot_training_history_2_4_6_8_16.csv', subplot=False)\n",
    "plot_learning_curves(logfile='opt-125m_fewshot_training_history_2_4_6_8_16.csv', subplot=True)"
   ]
  }
 ],
 "metadata": {
  "kernelspec": {
   "display_name": "fine-tuning",
   "language": "python",
   "name": "python3"
  },
  "language_info": {
   "codemirror_mode": {
    "name": "ipython",
    "version": 3
   },
   "file_extension": ".py",
   "mimetype": "text/x-python",
   "name": "python",
   "nbconvert_exporter": "python",
   "pygments_lexer": "ipython3",
   "version": "3.10.9"
  }
 },
 "nbformat": 4,
 "nbformat_minor": 2
}
