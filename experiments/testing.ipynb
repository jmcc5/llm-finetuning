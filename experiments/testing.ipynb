{
 "cells": [
  {
   "cell_type": "markdown",
   "metadata": {},
   "source": [
    "# Test"
   ]
  },
  {
   "cell_type": "code",
   "execution_count": 1,
   "metadata": {},
   "outputs": [],
   "source": [
    "%load_ext autoreload\n",
    "%autoreload 2"
   ]
  },
  {
   "cell_type": "markdown",
   "metadata": {},
   "source": [
    "Import datasets using functions from src/data/data.py. Datasets are downloaded from huggingface and stored in /data. Once downloaded, datasets are loaded locally.\n",
    "\n",
    "Run ```pip install -e .``` if module importing isn't working."
   ]
  },
  {
   "cell_type": "code",
   "execution_count": 5,
   "metadata": {},
   "outputs": [
    {
     "name": "stdout",
     "output_type": "stream",
     "text": [
      "In domain:\n",
      "Dataset({\n",
      "    features: ['premise', 'hypothesis', 'label', 'idx'],\n",
      "    num_rows: 261802\n",
      "})\n",
      "{'premise': 'you know during the season and i guess at at your level uh you lose them to the next level if if they decide to recall the the parent team the Braves decide to call to recall a guy from triple A then a double A guy goes up to replace him and a single A guy goes up to replace him', 'hypothesis': 'You lose the things to the following level if the people recall.', 'label': 0, 'idx': 1}\n",
      "Out of domain:\n",
      "Dataset({\n",
      "    features: ['premise', 'hypothesis', 'label', 'parse_premise', 'parse_hypothesis', 'binary_parse_premise', 'binary_parse_hypothesis', 'heuristic', 'subcase', 'template'],\n",
      "    num_rows: 10000\n",
      "})\n",
      "{'premise': 'The president avoided the athlete .', 'hypothesis': 'The athlete avoided the president .', 'label': 1, 'parse_premise': '(ROOT (S (NP (DT The) (NN president)) (VP (VBD avoided) (NP (DT the) (NN athlete))) (. .)))', 'parse_hypothesis': '(ROOT (S (NP (DT The) (NN athlete)) (VP (VBD avoided) (NP (DT the) (NN president))) (. .)))', 'binary_parse_premise': '( ( The president ) ( ( avoided ( the athlete ) ) . ) )', 'binary_parse_hypothesis': '( ( The athlete ) ( ( avoided ( the president ) ) . ) )', 'heuristic': 'lexical_overlap', 'subcase': 'ln_subject/object_swap', 'template': 'temp1'}\n"
     ]
    },
    {
     "data": {
      "text/plain": [
       "{2: [Dataset({\n",
       "      features: ['premise', 'hypothesis', 'label', 'idx'],\n",
       "      num_rows: 2\n",
       "  }),\n",
       "  Dataset({\n",
       "      features: ['premise', 'hypothesis', 'label', 'idx'],\n",
       "      num_rows: 2\n",
       "  }),\n",
       "  Dataset({\n",
       "      features: ['premise', 'hypothesis', 'label', 'idx'],\n",
       "      num_rows: 2\n",
       "  }),\n",
       "  Dataset({\n",
       "      features: ['premise', 'hypothesis', 'label', 'idx'],\n",
       "      num_rows: 2\n",
       "  }),\n",
       "  Dataset({\n",
       "      features: ['premise', 'hypothesis', 'label', 'idx'],\n",
       "      num_rows: 2\n",
       "  }),\n",
       "  Dataset({\n",
       "      features: ['premise', 'hypothesis', 'label', 'idx'],\n",
       "      num_rows: 2\n",
       "  }),\n",
       "  Dataset({\n",
       "      features: ['premise', 'hypothesis', 'label', 'idx'],\n",
       "      num_rows: 2\n",
       "  }),\n",
       "  Dataset({\n",
       "      features: ['premise', 'hypothesis', 'label', 'idx'],\n",
       "      num_rows: 2\n",
       "  }),\n",
       "  Dataset({\n",
       "      features: ['premise', 'hypothesis', 'label', 'idx'],\n",
       "      num_rows: 2\n",
       "  }),\n",
       "  Dataset({\n",
       "      features: ['premise', 'hypothesis', 'label', 'idx'],\n",
       "      num_rows: 2\n",
       "  })],\n",
       " 16: [Dataset({\n",
       "      features: ['premise', 'hypothesis', 'label', 'idx'],\n",
       "      num_rows: 16\n",
       "  }),\n",
       "  Dataset({\n",
       "      features: ['premise', 'hypothesis', 'label', 'idx'],\n",
       "      num_rows: 16\n",
       "  }),\n",
       "  Dataset({\n",
       "      features: ['premise', 'hypothesis', 'label', 'idx'],\n",
       "      num_rows: 16\n",
       "  }),\n",
       "  Dataset({\n",
       "      features: ['premise', 'hypothesis', 'label', 'idx'],\n",
       "      num_rows: 16\n",
       "  }),\n",
       "  Dataset({\n",
       "      features: ['premise', 'hypothesis', 'label', 'idx'],\n",
       "      num_rows: 16\n",
       "  }),\n",
       "  Dataset({\n",
       "      features: ['premise', 'hypothesis', 'label', 'idx'],\n",
       "      num_rows: 16\n",
       "  }),\n",
       "  Dataset({\n",
       "      features: ['premise', 'hypothesis', 'label', 'idx'],\n",
       "      num_rows: 16\n",
       "  }),\n",
       "  Dataset({\n",
       "      features: ['premise', 'hypothesis', 'label', 'idx'],\n",
       "      num_rows: 16\n",
       "  }),\n",
       "  Dataset({\n",
       "      features: ['premise', 'hypothesis', 'label', 'idx'],\n",
       "      num_rows: 16\n",
       "  }),\n",
       "  Dataset({\n",
       "      features: ['premise', 'hypothesis', 'label', 'idx'],\n",
       "      num_rows: 16\n",
       "  })],\n",
       " 32: [Dataset({\n",
       "      features: ['premise', 'hypothesis', 'label', 'idx'],\n",
       "      num_rows: 32\n",
       "  }),\n",
       "  Dataset({\n",
       "      features: ['premise', 'hypothesis', 'label', 'idx'],\n",
       "      num_rows: 32\n",
       "  }),\n",
       "  Dataset({\n",
       "      features: ['premise', 'hypothesis', 'label', 'idx'],\n",
       "      num_rows: 32\n",
       "  }),\n",
       "  Dataset({\n",
       "      features: ['premise', 'hypothesis', 'label', 'idx'],\n",
       "      num_rows: 32\n",
       "  }),\n",
       "  Dataset({\n",
       "      features: ['premise', 'hypothesis', 'label', 'idx'],\n",
       "      num_rows: 32\n",
       "  }),\n",
       "  Dataset({\n",
       "      features: ['premise', 'hypothesis', 'label', 'idx'],\n",
       "      num_rows: 32\n",
       "  }),\n",
       "  Dataset({\n",
       "      features: ['premise', 'hypothesis', 'label', 'idx'],\n",
       "      num_rows: 32\n",
       "  }),\n",
       "  Dataset({\n",
       "      features: ['premise', 'hypothesis', 'label', 'idx'],\n",
       "      num_rows: 32\n",
       "  }),\n",
       "  Dataset({\n",
       "      features: ['premise', 'hypothesis', 'label', 'idx'],\n",
       "      num_rows: 32\n",
       "  }),\n",
       "  Dataset({\n",
       "      features: ['premise', 'hypothesis', 'label', 'idx'],\n",
       "      num_rows: 32\n",
       "  })],\n",
       " 64: [Dataset({\n",
       "      features: ['premise', 'hypothesis', 'label', 'idx'],\n",
       "      num_rows: 64\n",
       "  }),\n",
       "  Dataset({\n",
       "      features: ['premise', 'hypothesis', 'label', 'idx'],\n",
       "      num_rows: 64\n",
       "  }),\n",
       "  Dataset({\n",
       "      features: ['premise', 'hypothesis', 'label', 'idx'],\n",
       "      num_rows: 64\n",
       "  }),\n",
       "  Dataset({\n",
       "      features: ['premise', 'hypothesis', 'label', 'idx'],\n",
       "      num_rows: 64\n",
       "  }),\n",
       "  Dataset({\n",
       "      features: ['premise', 'hypothesis', 'label', 'idx'],\n",
       "      num_rows: 64\n",
       "  }),\n",
       "  Dataset({\n",
       "      features: ['premise', 'hypothesis', 'label', 'idx'],\n",
       "      num_rows: 64\n",
       "  }),\n",
       "  Dataset({\n",
       "      features: ['premise', 'hypothesis', 'label', 'idx'],\n",
       "      num_rows: 64\n",
       "  }),\n",
       "  Dataset({\n",
       "      features: ['premise', 'hypothesis', 'label', 'idx'],\n",
       "      num_rows: 64\n",
       "  }),\n",
       "  Dataset({\n",
       "      features: ['premise', 'hypothesis', 'label', 'idx'],\n",
       "      num_rows: 64\n",
       "  }),\n",
       "  Dataset({\n",
       "      features: ['premise', 'hypothesis', 'label', 'idx'],\n",
       "      num_rows: 64\n",
       "  })],\n",
       " 128: [Dataset({\n",
       "      features: ['premise', 'hypothesis', 'label', 'idx'],\n",
       "      num_rows: 128\n",
       "  }),\n",
       "  Dataset({\n",
       "      features: ['premise', 'hypothesis', 'label', 'idx'],\n",
       "      num_rows: 128\n",
       "  }),\n",
       "  Dataset({\n",
       "      features: ['premise', 'hypothesis', 'label', 'idx'],\n",
       "      num_rows: 128\n",
       "  }),\n",
       "  Dataset({\n",
       "      features: ['premise', 'hypothesis', 'label', 'idx'],\n",
       "      num_rows: 128\n",
       "  }),\n",
       "  Dataset({\n",
       "      features: ['premise', 'hypothesis', 'label', 'idx'],\n",
       "      num_rows: 128\n",
       "  }),\n",
       "  Dataset({\n",
       "      features: ['premise', 'hypothesis', 'label', 'idx'],\n",
       "      num_rows: 128\n",
       "  }),\n",
       "  Dataset({\n",
       "      features: ['premise', 'hypothesis', 'label', 'idx'],\n",
       "      num_rows: 128\n",
       "  }),\n",
       "  Dataset({\n",
       "      features: ['premise', 'hypothesis', 'label', 'idx'],\n",
       "      num_rows: 128\n",
       "  }),\n",
       "  Dataset({\n",
       "      features: ['premise', 'hypothesis', 'label', 'idx'],\n",
       "      num_rows: 128\n",
       "  }),\n",
       "  Dataset({\n",
       "      features: ['premise', 'hypothesis', 'label', 'idx'],\n",
       "      num_rows: 128\n",
       "  })]}"
      ]
     },
     "execution_count": 5,
     "metadata": {},
     "output_type": "execute_result"
    }
   ],
   "source": [
    "from src.data.data import get_in_domain, get_out_domain\n",
    "from src.data.utils import get_random_subsets\n",
    "\n",
    "in_domain = get_in_domain()\n",
    "out_domain = get_out_domain()\n",
    "\n",
    "print(f\"In domain:\\n{in_domain}\")\n",
    "print(in_domain[0])\n",
    "\n",
    "print(f\"Out of domain:\\n{out_domain}\")\n",
    "print(out_domain[10])\n",
    "\n",
    "# get_random_subsets(in_domain)"
   ]
  },
  {
   "cell_type": "markdown",
   "metadata": {},
   "source": [
    "Import models using methods from src/models/opt.py. Models are downloaded from huggingface and stored in /models/pretrained. Once downloaded, models are loaded locally."
   ]
  },
  {
   "cell_type": "code",
   "execution_count": 3,
   "metadata": {},
   "outputs": [],
   "source": [
    "from src.model.model import get_model\n",
    "\n",
    "tokenizer_opt125, model_opt125 = get_model('opt-125m')\n",
    "tokenizer_opt350, model_opt350 = get_model('opt-350m')"
   ]
  },
  {
   "cell_type": "markdown",
   "metadata": {},
   "source": [
    "Few-shot finetuning."
   ]
  },
  {
   "cell_type": "code",
   "execution_count": 4,
   "metadata": {},
   "outputs": [
    {
     "name": "stderr",
     "output_type": "stream",
     "text": [
      "100%|██████████| 40/40 [00:10<00:00,  3.86it/s]\n"
     ]
    },
    {
     "name": "stdout",
     "output_type": "stream",
     "text": [
      "{'train_runtime': 10.3669, 'train_samples_per_second': 7.717, 'train_steps_per_second': 3.858, 'train_loss': 0.061122357845306396, 'epoch': 40.0}\n"
     ]
    },
    {
     "name": "stderr",
     "output_type": "stream",
     "text": [
      "100%|██████████| 1/1 [00:03<00:00,  3.09s/it]\n"
     ]
    },
    {
     "data": {
      "text/plain": [
       "{'accuracy': 0.0,\n",
       " 'total_inference_time': 3.1549,\n",
       " 'average_inference_time_per_sample': 1.57745,\n",
       " 'peak_memory_usage_gb': 1.5613317489624023}"
      ]
     },
     "execution_count": 4,
     "metadata": {},
     "output_type": "execute_result"
    }
   ],
   "source": [
    "from src.finetuners.fewshot import fine_tune\n",
    "\n",
    "train_dataset = in_domain.select(range(2))\n",
    "eval_dataset = out_domain.select(range(2))\n",
    "\n",
    "fine_tune(model=model_opt125, tokenizer=tokenizer_opt125, train_dataset=train_dataset, eval_dataset=eval_dataset)"
   ]
  }
 ],
 "metadata": {
  "kernelspec": {
   "display_name": "fine-tuning",
   "language": "python",
   "name": "python3"
  },
  "language_info": {
   "codemirror_mode": {
    "name": "ipython",
    "version": 3
   },
   "file_extension": ".py",
   "mimetype": "text/x-python",
   "name": "python",
   "nbconvert_exporter": "python",
   "pygments_lexer": "ipython3",
   "version": "3.10.9"
  }
 },
 "nbformat": 4,
 "nbformat_minor": 2
}
