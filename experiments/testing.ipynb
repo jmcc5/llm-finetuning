{
 "cells": [
  {
   "cell_type": "markdown",
   "metadata": {},
   "source": [
    "# Test"
   ]
  },
  {
   "cell_type": "code",
   "execution_count": 1,
   "metadata": {},
   "outputs": [],
   "source": [
    "%load_ext autoreload\n",
    "%autoreload 2"
   ]
  },
  {
   "cell_type": "markdown",
   "metadata": {},
   "source": [
    "Import datasets using functions from src/data/data.py. Datasets are downloaded from huggingface and stored in /data. Once downloaded, datasets are loaded locally.\n",
    "\n",
    "Run ```pip install -e .``` if module importing isn't working."
   ]
  },
  {
   "cell_type": "code",
   "execution_count": 2,
   "metadata": {},
   "outputs": [
    {
     "name": "stderr",
     "output_type": "stream",
     "text": [
      "c:\\Users\\harri\\anaconda3\\envs\\fine-tuning\\lib\\site-packages\\tqdm\\auto.py:21: TqdmWarning: IProgress not found. Please update jupyter and ipywidgets. See https://ipywidgets.readthedocs.io/en/stable/user_install.html\n",
      "  from .autonotebook import tqdm as notebook_tqdm\n"
     ]
    },
    {
     "name": "stdout",
     "output_type": "stream",
     "text": [
      "In domain:\n",
      "Dataset({\n",
      "    features: ['premise', 'hypothesis', 'label', 'idx'],\n",
      "    num_rows: 261802\n",
      "})\n",
      "{'premise': 'you know during the season and i guess at at your level uh you lose them to the next level if if they decide to recall the the parent team the Braves decide to call to recall a guy from triple A then a double A guy goes up to replace him and a single A guy goes up to replace him', 'hypothesis': 'You lose the things to the following level if the people recall.', 'label': 0, 'idx': 1}\n",
      "Out of domain:\n",
      "Dataset({\n",
      "    features: ['premise', 'hypothesis', 'label', 'parse_premise', 'parse_hypothesis', 'binary_parse_premise', 'binary_parse_hypothesis', 'heuristic', 'subcase', 'template'],\n",
      "    num_rows: 10000\n",
      "})\n",
      "{'premise': 'The president avoided the athlete .', 'hypothesis': 'The athlete avoided the president .', 'label': 1, 'parse_premise': '(ROOT (S (NP (DT The) (NN president)) (VP (VBD avoided) (NP (DT the) (NN athlete))) (. .)))', 'parse_hypothesis': '(ROOT (S (NP (DT The) (NN athlete)) (VP (VBD avoided) (NP (DT the) (NN president))) (. .)))', 'binary_parse_premise': '( ( The president ) ( ( avoided ( the athlete ) ) . ) )', 'binary_parse_hypothesis': '( ( The athlete ) ( ( avoided ( the president ) ) . ) )', 'heuristic': 'lexical_overlap', 'subcase': 'ln_subject/object_swap', 'template': 'temp1'}\n"
     ]
    }
   ],
   "source": [
    "from src.data.data import get_in_domain, get_out_domain\n",
    "from src.data.utils import get_random_subsets\n",
    "\n",
    "in_domain = get_in_domain()\n",
    "out_domain = get_out_domain()\n",
    "\n",
    "print(f\"In domain:\\n{in_domain}\")\n",
    "print(in_domain[0])\n",
    "\n",
    "print(f\"Out of domain:\\n{out_domain}\")\n",
    "print(out_domain[10])\n",
    "\n",
    "# get_random_subsets(in_domain)"
   ]
  },
  {
   "cell_type": "markdown",
   "metadata": {},
   "source": [
    "Import models using methods from src/models/opt.py. Models are downloaded from huggingface and stored in /models/pretrained. Once downloaded, models are loaded locally."
   ]
  },
  {
   "cell_type": "code",
   "execution_count": 3,
   "metadata": {},
   "outputs": [],
   "source": [
    "from src.model.model import get_model\n",
    "\n",
    "model_opt125, tokenizer_opt125 = get_model('opt-125m')\n",
    "model_opt350, tokenizer_opt350 = get_model('opt-350m')"
   ]
  },
  {
   "cell_type": "markdown",
   "metadata": {},
   "source": [
    "Few-shot finetuning."
   ]
  },
  {
   "cell_type": "code",
   "execution_count": 13,
   "metadata": {},
   "outputs": [
    {
     "name": "stderr",
     "output_type": "stream",
     "text": [
      "100%|██████████| 40/40 [00:08<00:00,  4.50it/s]\n"
     ]
    },
    {
     "name": "stdout",
     "output_type": "stream",
     "text": [
      "{'train_runtime': 8.8787, 'train_samples_per_second': 9.01, 'train_steps_per_second': 4.505, 'train_loss': 4.470348002882929e-09, 'epoch': 40.0}\n"
     ]
    },
    {
     "name": "stderr",
     "output_type": "stream",
     "text": [
      "100%|██████████| 1/1 [00:02<00:00,  2.54s/it]"
     ]
    },
    {
     "name": "stdout",
     "output_type": "stream",
     "text": [
      "{'train_runtime': 8.8787, 'train_samples_per_second': 9.01, 'train_steps_per_second': 4.505, 'train_loss': 4.470348002882929e-09, 'epoch': 40.0, 'test_loss': 10.421762466430664, 'test_accuracy': 0.0, 'test_runtime': 2.5907, 'test_samples_per_second': 0.772, 'test_steps_per_second': 0.386}\n"
     ]
    },
    {
     "name": "stderr",
     "output_type": "stream",
     "text": [
      "\n"
     ]
    },
    {
     "data": {
      "text/plain": [
       "{'train_runtime': 8.8787,\n",
       " 'train_samples_per_second': 9.01,\n",
       " 'train_steps_per_second': 4.505,\n",
       " 'train_loss': 4.470348002882929e-09,\n",
       " 'epoch': 40.0,\n",
       " 'test_loss': 10.421762466430664,\n",
       " 'test_accuracy': 0.0,\n",
       " 'test_runtime': 2.5907,\n",
       " 'test_samples_per_second': 0.772,\n",
       " 'test_steps_per_second': 0.386}"
      ]
     },
     "execution_count": 13,
     "metadata": {},
     "output_type": "execute_result"
    }
   ],
   "source": [
    "from src.finetuners.fewshot import fine_tune\n",
    "\n",
    "train_dataset = in_domain.select(range(2))\n",
    "eval_dataset = out_domain.select(range(2))\n",
    "\n",
    "fine_tune(model=model_opt125, tokenizer=tokenizer_opt125, train_dataset=train_dataset, eval_dataset=eval_dataset)"
   ]
  },
  {
   "cell_type": "markdown",
   "metadata": {},
   "source": [
    "Batch few-shot finetuning."
   ]
  },
  {
   "cell_type": "code",
   "execution_count": 16,
   "metadata": {},
   "outputs": [
    {
     "name": "stderr",
     "output_type": "stream",
     "text": [
      "2-shot: 100%|██████████| 5/5 [01:36<00:00, 19.22s/it]\n",
      "4-shot:  20%|██        | 1/5 [01:25<05:43, 85.85s/it]Using the latest cached version of the module from C:\\Users\\harri\\.cache\\huggingface\\modules\\evaluate_modules\\metrics\\evaluate-metric--accuracy\\f887c0aab52c2d38e1f8a215681126379eca617f96c447638f751434e8e65b14 (last modified on Tue Nov  7 21:59:26 2023) since it couldn't be found locally at evaluate-metric--accuracy, or remotely on the Hugging Face Hub.\n",
      "4-shot: 100%|██████████| 5/5 [07:06<00:00, 85.30s/it]"
     ]
    },
    {
     "name": "stdout",
     "output_type": "stream",
     "text": [
      "{\n",
      "    \"2\": [\n",
      "        {\n",
      "            \"train_runtime\": 11.2196,\n",
      "            \"train_samples_per_second\": 7.13,\n",
      "            \"train_steps_per_second\": 3.565,\n",
      "            \"total_flos\": 20903740047360.0,\n",
      "            \"train_loss\": 0.05942646861076355,\n",
      "            \"epoch\": 40.0,\n",
      "            \"test_loss\": 0.00859286542981863,\n",
      "            \"test_accuracy\": 1.0,\n",
      "            \"test_runtime\": 19.7674,\n",
      "            \"test_samples_per_second\": 0.506,\n",
      "            \"test_steps_per_second\": 0.101\n",
      "        },\n",
      "        {\n",
      "            \"train_runtime\": 9.1004,\n",
      "            \"train_samples_per_second\": 8.791,\n",
      "            \"train_steps_per_second\": 4.395,\n",
      "            \"total_flos\": 20903740047360.0,\n",
      "            \"train_loss\": 0.08801689147949218,\n",
      "            \"epoch\": 40.0,\n",
      "            \"test_loss\": 0.6015669107437134,\n",
      "            \"test_accuracy\": 0.7,\n",
      "            \"test_runtime\": 3.1641,\n",
      "            \"test_samples_per_second\": 3.16,\n",
      "            \"test_steps_per_second\": 0.632\n",
      "        },\n",
      "        {\n",
      "            \"train_runtime\": 10.6622,\n",
      "            \"train_samples_per_second\": 7.503,\n",
      "            \"train_steps_per_second\": 3.752,\n",
      "            \"total_flos\": 20903740047360.0,\n",
      "            \"train_loss\": 0.05300096273422241,\n",
      "            \"epoch\": 40.0,\n",
      "            \"test_loss\": 0.005497413221746683,\n",
      "            \"test_accuracy\": 1.0,\n",
      "            \"test_runtime\": 3.0682,\n",
      "            \"test_samples_per_second\": 3.259,\n",
      "            \"test_steps_per_second\": 0.652\n",
      "        },\n",
      "        {\n",
      "            \"train_runtime\": 11.0335,\n",
      "            \"train_samples_per_second\": 7.251,\n",
      "            \"train_steps_per_second\": 3.625,\n",
      "            \"total_flos\": 20903740047360.0,\n",
      "            \"train_loss\": 0.09598073959350586,\n",
      "            \"epoch\": 40.0,\n",
      "            \"test_loss\": 0.005744519643485546,\n",
      "            \"test_accuracy\": 1.0,\n",
      "            \"test_runtime\": 4.1833,\n",
      "            \"test_samples_per_second\": 2.39,\n",
      "            \"test_steps_per_second\": 0.478\n",
      "        },\n",
      "        {\n",
      "            \"train_runtime\": 10.9667,\n",
      "            \"train_samples_per_second\": 7.295,\n",
      "            \"train_steps_per_second\": 3.647,\n",
      "            \"total_flos\": 20903740047360.0,\n",
      "            \"train_loss\": 0.08078636527061463,\n",
      "            \"epoch\": 40.0,\n",
      "            \"test_loss\": 0.5843403935432434,\n",
      "            \"test_accuracy\": 0.7,\n",
      "            \"test_runtime\": 4.4885,\n",
      "            \"test_samples_per_second\": 2.228,\n",
      "            \"test_steps_per_second\": 0.446\n",
      "        }\n",
      "    ],\n",
      "    \"4\": [\n",
      "        {\n",
      "            \"train_runtime\": 75.397,\n",
      "            \"train_samples_per_second\": 2.122,\n",
      "            \"train_steps_per_second\": 0.531,\n",
      "            \"total_flos\": 41807480094720.0,\n",
      "            \"train_loss\": 0.11859711408615112,\n",
      "            \"epoch\": 40.0,\n",
      "            \"test_loss\": 0.9265056848526001,\n",
      "            \"test_accuracy\": 0.3,\n",
      "            \"test_runtime\": 8.7667,\n",
      "            \"test_samples_per_second\": 1.141,\n",
      "            \"test_steps_per_second\": 0.228\n",
      "        },\n",
      "        {\n",
      "            \"train_runtime\": 71.3495,\n",
      "            \"train_samples_per_second\": 2.242,\n",
      "            \"train_steps_per_second\": 0.561,\n",
      "            \"total_flos\": 41807480094720.0,\n",
      "            \"train_loss\": 0.09925844073295594,\n",
      "            \"epoch\": 40.0,\n",
      "            \"test_loss\": 0.4632607102394104,\n",
      "            \"test_accuracy\": 0.9,\n",
      "            \"test_runtime\": 2.9344,\n",
      "            \"test_samples_per_second\": 3.408,\n",
      "            \"test_steps_per_second\": 0.682\n",
      "        },\n",
      "        {\n",
      "            \"train_runtime\": 73.3332,\n",
      "            \"train_samples_per_second\": 2.182,\n",
      "            \"train_steps_per_second\": 0.545,\n",
      "            \"total_flos\": 41807480094720.0,\n",
      "            \"train_loss\": 0.06952434778213501,\n",
      "            \"epoch\": 40.0,\n",
      "            \"test_loss\": 0.17885951697826385,\n",
      "            \"test_accuracy\": 1.0,\n",
      "            \"test_runtime\": 17.3807,\n",
      "            \"test_samples_per_second\": 0.575,\n",
      "            \"test_steps_per_second\": 0.115\n",
      "        },\n",
      "        {\n",
      "            \"train_runtime\": 71.3666,\n",
      "            \"train_samples_per_second\": 2.242,\n",
      "            \"train_steps_per_second\": 0.56,\n",
      "            \"total_flos\": 41807480094720.0,\n",
      "            \"train_loss\": 0.11014838218688965,\n",
      "            \"epoch\": 40.0,\n",
      "            \"test_loss\": 0.8544049263000488,\n",
      "            \"test_accuracy\": 0.3,\n",
      "            \"test_runtime\": 9.9181,\n",
      "            \"test_samples_per_second\": 1.008,\n",
      "            \"test_steps_per_second\": 0.202\n",
      "        },\n",
      "        {\n",
      "            \"train_runtime\": 79.9617,\n",
      "            \"train_samples_per_second\": 2.001,\n",
      "            \"train_steps_per_second\": 0.5,\n",
      "            \"total_flos\": 41807480094720.0,\n",
      "            \"train_loss\": 0.12173117399215698,\n",
      "            \"epoch\": 40.0,\n",
      "            \"test_loss\": 0.598716676235199,\n",
      "            \"test_accuracy\": 0.6,\n",
      "            \"test_runtime\": 5.3275,\n",
      "            \"test_samples_per_second\": 1.877,\n",
      "            \"test_steps_per_second\": 0.375\n",
      "        }\n",
      "    ]\n",
      "}\n"
     ]
    },
    {
     "name": "stderr",
     "output_type": "stream",
     "text": [
      "\n"
     ]
    }
   ],
   "source": [
    "from src.finetuners.fewshot import batch_fine_tune\n",
    "import json\n",
    "\n",
    "eval_dataset = out_domain.select(range(10)) # This needs to be changed... how much of the OOD should we use?\n",
    "\n",
    "results = batch_fine_tune(model_name='opt-125m', train_dataset=in_domain, eval_dataset=eval_dataset, sample_sizes=[2, 4], num_trials=5)\n",
    "\n",
    "print(json.dumps(results, indent=4))"
   ]
  }
 ],
 "metadata": {
  "kernelspec": {
   "display_name": "fine-tuning",
   "language": "python",
   "name": "python3"
  },
  "language_info": {
   "codemirror_mode": {
    "name": "ipython",
    "version": 3
   },
   "file_extension": ".py",
   "mimetype": "text/x-python",
   "name": "python",
   "nbconvert_exporter": "python",
   "pygments_lexer": "ipython3",
   "version": "3.10.9"
  }
 },
 "nbformat": 4,
 "nbformat_minor": 2
}
